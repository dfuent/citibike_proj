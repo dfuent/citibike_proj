{
 "cells": [
  {
   "cell_type": "markdown",
   "metadata": {},
   "source": [
    "## Zip-Code Mapper\n",
    "### University of Virginia\n",
    "### DS 5110: Big Data Systems\n",
    "### By: TeamBike"
   ]
  },
  {
   "cell_type": "markdown",
   "metadata": {},
   "source": [
    "#### Our data currently contain only latitide and longitude location data. Some of the other datasets we hope to use, like our real-estate data, contain zip codes as variables. In order to join these datasets, we need to map latitudes and longitudes to zip codes. "
   ]
  },
  {
   "cell_type": "code",
   "execution_count": 1,
   "metadata": {},
   "outputs": [],
   "source": [
    "import pandas as pd\n",
    "import geopy"
   ]
  },
  {
   "cell_type": "markdown",
   "metadata": {},
   "source": [
    "**Load unique station data, pulled from our Citi Bike dataset:**"
   ]
  },
  {
   "cell_type": "code",
   "execution_count": 2,
   "metadata": {},
   "outputs": [],
   "source": [
    "df = pd.read_csv('stations_unique.csv')"
   ]
  },
  {
   "cell_type": "code",
   "execution_count": 3,
   "metadata": {},
   "outputs": [
    {
     "data": {
      "text/html": [
       "<div>\n",
       "<style scoped>\n",
       "    .dataframe tbody tr th:only-of-type {\n",
       "        vertical-align: middle;\n",
       "    }\n",
       "\n",
       "    .dataframe tbody tr th {\n",
       "        vertical-align: top;\n",
       "    }\n",
       "\n",
       "    .dataframe thead th {\n",
       "        text-align: right;\n",
       "    }\n",
       "</style>\n",
       "<table border=\"1\" class=\"dataframe\">\n",
       "  <thead>\n",
       "    <tr style=\"text-align: right;\">\n",
       "      <th></th>\n",
       "      <th>Unnamed: 0</th>\n",
       "      <th>startStationId</th>\n",
       "      <th>startStationName</th>\n",
       "      <th>startStationLatitude</th>\n",
       "      <th>startStationLongitude</th>\n",
       "    </tr>\n",
       "  </thead>\n",
       "  <tbody>\n",
       "    <tr>\n",
       "      <th>0</th>\n",
       "      <td>0</td>\n",
       "      <td>3332.0</td>\n",
       "      <td>Degraw St &amp; Hoyt St</td>\n",
       "      <td>40.681992</td>\n",
       "      <td>-73.990791</td>\n",
       "    </tr>\n",
       "    <tr>\n",
       "      <th>1</th>\n",
       "      <td>1</td>\n",
       "      <td>3545.0</td>\n",
       "      <td>Broadway &amp; W 122 St</td>\n",
       "      <td>40.812057</td>\n",
       "      <td>-73.961258</td>\n",
       "    </tr>\n",
       "    <tr>\n",
       "      <th>2</th>\n",
       "      <td>2</td>\n",
       "      <td>3691.0</td>\n",
       "      <td>28 Ave &amp; 44 St</td>\n",
       "      <td>40.764088</td>\n",
       "      <td>-73.910652</td>\n",
       "    </tr>\n",
       "    <tr>\n",
       "      <th>3</th>\n",
       "      <td>3</td>\n",
       "      <td>3063.0</td>\n",
       "      <td>Nostrand Ave &amp; Myrtle Ave</td>\n",
       "      <td>40.695271</td>\n",
       "      <td>-73.952377</td>\n",
       "    </tr>\n",
       "    <tr>\n",
       "      <th>4</th>\n",
       "      <td>4</td>\n",
       "      <td>405.0</td>\n",
       "      <td>Washington St &amp; Gansevoort St</td>\n",
       "      <td>40.739323</td>\n",
       "      <td>-74.008118</td>\n",
       "    </tr>\n",
       "  </tbody>\n",
       "</table>\n",
       "</div>"
      ],
      "text/plain": [
       "   Unnamed: 0  startStationId               startStationName  \\\n",
       "0           0          3332.0            Degraw St & Hoyt St   \n",
       "1           1          3545.0            Broadway & W 122 St   \n",
       "2           2          3691.0                 28 Ave & 44 St   \n",
       "3           3          3063.0      Nostrand Ave & Myrtle Ave   \n",
       "4           4           405.0  Washington St & Gansevoort St   \n",
       "\n",
       "   startStationLatitude  startStationLongitude  \n",
       "0             40.681992             -73.990791  \n",
       "1             40.812057             -73.961258  \n",
       "2             40.764088             -73.910652  \n",
       "3             40.695271             -73.952377  \n",
       "4             40.739323             -74.008118  "
      ]
     },
     "execution_count": 3,
     "metadata": {},
     "output_type": "execute_result"
    }
   ],
   "source": [
    "df.head()"
   ]
  },
  {
   "cell_type": "markdown",
   "metadata": {},
   "source": [
    "### Run function to map lats and longs to zip codes:"
   ]
  },
  {
   "cell_type": "code",
   "execution_count": 21,
   "metadata": {},
   "outputs": [
    {
     "name": "stdout",
     "output_type": "stream",
     "text": [
      "1\n",
      "1\n",
      "1\n",
      "1\n",
      "1\n",
      "1\n",
      "1\n",
      "1\n",
      "1\n",
      "1\n",
      "1\n",
      "1\n",
      "1\n",
      "1\n",
      "1\n",
      "1\n",
      "1\n",
      "1\n",
      "1\n",
      "1\n",
      "1\n",
      "1\n",
      "1\n",
      "1\n",
      "1\n",
      "1\n",
      "1\n",
      "1\n",
      "1\n",
      "1\n",
      "1\n",
      "1\n",
      "1\n",
      "1\n",
      "1\n",
      "1\n",
      "1\n"
     ]
    }
   ],
   "source": [
    "# https://gis.stackexchange.com/questions/386923/how-do-i-get-zipcodes-from-longitude-and-latitude-on-python\n",
    "\n",
    "def get_zipcode(df, geolocator, lat_field, lon_field):\n",
    "    try:\n",
    "        location = geolocator.reverse((df[lat_field], df[lon_field]))\n",
    "        try:\n",
    "            return location.raw['address']['postcode']\n",
    "        except:\n",
    "            pass\n",
    "    except (AttributeError, KeyError, ValueError):\n",
    "        print(repr(e), df[lat_field], df[lon_field])\n",
    "        return None\n",
    "    print(1)\n",
    "    \n",
    "geolocator = geopy.Nominatim(user_agent='myusername')\n",
    "\n",
    "df['zipcodes'] = df.apply(\n",
    "    get_zipcode, axis=1, geolocator=geolocator, \n",
    "    lat_field='startStationLatitude', lon_field='startStationLongitude')"
   ]
  },
  {
   "cell_type": "markdown",
   "metadata": {},
   "source": [
    "### Save stations to CSV:"
   ]
  },
  {
   "cell_type": "code",
   "execution_count": 23,
   "metadata": {},
   "outputs": [],
   "source": [
    "df.to_csv('stations_final.csv')"
   ]
  }
 ],
 "metadata": {
  "kernelspec": {
   "display_name": "Python 3",
   "language": "python",
   "name": "python3"
  },
  "language_info": {
   "codemirror_mode": {
    "name": "ipython",
    "version": 3
   },
   "file_extension": ".py",
   "mimetype": "text/x-python",
   "name": "python",
   "nbconvert_exporter": "python",
   "pygments_lexer": "ipython3",
   "version": "3.8.8"
  }
 },
 "nbformat": 4,
 "nbformat_minor": 5
}
