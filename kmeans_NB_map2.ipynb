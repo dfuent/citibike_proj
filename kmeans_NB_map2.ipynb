{
 "cells": [
  {
   "cell_type": "markdown",
   "id": "b5575486",
   "metadata": {},
   "source": [
    "## K-Means - Create NYC Neighborhood Proxies WITH MORE NEIGHBORHOODS\n",
    "### University of Virginia\n",
    "### DS 5110: Big Data Systems\n",
    "### By: TeamBike"
   ]
  },
  {
   "cell_type": "code",
   "execution_count": 48,
   "id": "202d57ad",
   "metadata": {},
   "outputs": [],
   "source": [
    "from pyspark.sql import SparkSession\n",
    "\n",
    "spark = SparkSession \\\n",
    "    .builder \\\n",
    "    .master(\"local\") \\\n",
    "    .appName(\"data preprocessing\") \\\n",
    "    .config(\"spark.executor.memory\", '8g') \\\n",
    "    .config('spark.executor.cores', '4') \\\n",
    "    .config('spark.cores.max', '4') \\\n",
    "    .config(\"spark.driver.memory\",'8g') \\\n",
    "    .getOrCreate()\n",
    "\n",
    "sc = spark.sparkContext"
   ]
  },
  {
   "cell_type": "markdown",
   "id": "481e96f7",
   "metadata": {},
   "source": [
    "Read CSV I pulled from Abby's file; contains station info (lats, longs, address, etc.)"
   ]
  },
  {
   "cell_type": "code",
   "execution_count": 49,
   "id": "ee709770",
   "metadata": {},
   "outputs": [],
   "source": [
    "df = spark.read.csv('stations_fix.csv', header=True, inferSchema=True)"
   ]
  },
  {
   "cell_type": "markdown",
   "id": "1f1dbf05",
   "metadata": {},
   "source": [
    "Remove Manhattan and Brooklyn from the DF. I want to keep these boroughs unclustered. Set to no_mb. Rename columns. "
   ]
  },
  {
   "cell_type": "markdown",
   "id": "8a1d3b0e",
   "metadata": {},
   "source": [
    "I am also adding a dummy `prediction` column with 999. I do not want these boroughs clustered, so anything here that's not 0-3 (so we don't step on Manhattan's or BK's clusters later) will do. This makes the union easier later."
   ]
  },
  {
   "cell_type": "code",
   "execution_count": 50,
   "id": "8192dae4",
   "metadata": {},
   "outputs": [],
   "source": [
    "from pyspark.sql.functions import lit\n",
    "no_mb = df.where(df.Borough != 'Manhattan').where(df.Borough != 'Brooklyn')\\\n",
    ".withColumn(\"prediction\", lit(999)).withColumnRenamed('startStationLatitude', 'latitude').withColumnRenamed('startStationLongitude', 'longitude')"
   ]
  },
  {
   "cell_type": "markdown",
   "id": "91da246b",
   "metadata": {},
   "source": [
    "Create a DF that's only Brooklyn (I want to cluster Manhattan and Brooklyn individually)"
   ]
  },
  {
   "cell_type": "code",
   "execution_count": 51,
   "id": "2046aada",
   "metadata": {},
   "outputs": [],
   "source": [
    "df_brook = df.where(df.Borough=='Brooklyn').withColumnRenamed('startStationLatitude', 'latitude').withColumnRenamed('startStationLongitude', 'longitude')"
   ]
  },
  {
   "cell_type": "markdown",
   "id": "c907a225",
   "metadata": {},
   "source": [
    "Repeat for Manhattan"
   ]
  },
  {
   "cell_type": "code",
   "execution_count": 52,
   "id": "3cef9c89",
   "metadata": {},
   "outputs": [],
   "source": [
    "df = df.where(df.Borough=='Manhattan').withColumnRenamed('startStationLatitude', 'latitude').withColumnRenamed('startStationLongitude', 'longitude')"
   ]
  },
  {
   "cell_type": "markdown",
   "id": "120af70a",
   "metadata": {},
   "source": [
    "Check to make sure this all worked"
   ]
  },
  {
   "cell_type": "code",
   "execution_count": 53,
   "id": "5b95a5f3",
   "metadata": {},
   "outputs": [
    {
     "name": "stdout",
     "output_type": "stream",
     "text": [
      "+---+-------+--------------------+---------+------------------+----------+\n",
      "|_c0|Borough|    startStationName| latitude|         longitude|prediction|\n",
      "+---+-------+--------------------+---------+------------------+----------+\n",
      "|  1| Queens|  21 St & Hoyt Ave S|40.774645|-73.92370600000001|       999|\n",
      "|  2| Queens| Jackson Ave & 46 Rd|40.745248|-73.94733199999999|       999|\n",
      "|  3|  Bronx|Wilkins Ave & Cro...|40.835302|        -73.895133|       999|\n",
      "|  8|  Bronx|Fulton Ave & St. ...| 40.83545|-73.90153000000001|       999|\n",
      "| 16|  Bronx|Willis Ave & E 13...|   40.809|           -73.923|       999|\n",
      "+---+-------+--------------------+---------+------------------+----------+\n",
      "only showing top 5 rows\n",
      "\n"
     ]
    }
   ],
   "source": [
    "no_mb.show(5)"
   ]
  },
  {
   "cell_type": "code",
   "execution_count": 54,
   "id": "7787526f",
   "metadata": {},
   "outputs": [
    {
     "name": "stdout",
     "output_type": "stream",
     "text": [
      "+-------+-----+\n",
      "|Borough|count|\n",
      "+-------+-----+\n",
      "| Queens|  179|\n",
      "|  Bronx|  226|\n",
      "+-------+-----+\n",
      "\n"
     ]
    }
   ],
   "source": [
    "no_mb.groupby(no_mb.Borough).count().show()"
   ]
  },
  {
   "cell_type": "code",
   "execution_count": 55,
   "id": "05ea7aee",
   "metadata": {},
   "outputs": [
    {
     "name": "stdout",
     "output_type": "stream",
     "text": [
      "+---+--------+--------------------+------------------+------------------+\n",
      "|_c0| Borough|    startStationName|          latitude|         longitude|\n",
      "+---+--------+--------------------+------------------+------------------+\n",
      "|  9|Brooklyn|Prospect Pl & Und...|            40.677|           -73.965|\n",
      "| 12|Brooklyn|       63 St & 5 Ave|          40.63766|         -74.01782|\n",
      "| 17|Brooklyn|Stewart Ave & Joh...|40.708690000000004|-73.92586999999999|\n",
      "| 18|Brooklyn|Henry St & Atlant...|         40.690893|        -73.996123|\n",
      "| 22|Brooklyn|       10 St & 2 Ave|         40.671907|        -73.993612|\n",
      "+---+--------+--------------------+------------------+------------------+\n",
      "only showing top 5 rows\n",
      "\n"
     ]
    }
   ],
   "source": [
    "df_brook.show(5)"
   ]
  },
  {
   "cell_type": "code",
   "execution_count": 56,
   "id": "f27b7355",
   "metadata": {},
   "outputs": [
    {
     "name": "stdout",
     "output_type": "stream",
     "text": [
      "+--------+-----+\n",
      "| Borough|count|\n",
      "+--------+-----+\n",
      "|Brooklyn|  471|\n",
      "+--------+-----+\n",
      "\n"
     ]
    }
   ],
   "source": [
    "df_brook.groupby(df_brook.Borough).count().show()"
   ]
  },
  {
   "cell_type": "code",
   "execution_count": 57,
   "id": "d82ebcb7",
   "metadata": {},
   "outputs": [
    {
     "name": "stdout",
     "output_type": "stream",
     "text": [
      "+---------+-----+\n",
      "|  Borough|count|\n",
      "+---------+-----+\n",
      "|Manhattan|  651|\n",
      "+---------+-----+\n",
      "\n"
     ]
    }
   ],
   "source": [
    "df.groupby(df.Borough).count().show()"
   ]
  },
  {
   "cell_type": "markdown",
   "id": "5ff7ff39",
   "metadata": {},
   "source": [
    "Get data assembled and transformed for Manhattan:"
   ]
  },
  {
   "cell_type": "code",
   "execution_count": 58,
   "id": "037b11a1",
   "metadata": {},
   "outputs": [
    {
     "name": "stdout",
     "output_type": "stream",
     "text": [
      "+---+---------+--------------------+------------------+------------------+--------------------+\n",
      "|_c0|  Borough|    startStationName|          latitude|         longitude|            features|\n",
      "+---+---------+--------------------+------------------+------------------+--------------------+\n",
      "|  0|Manhattan|W 84 St & Columbu...|            40.785|-73.97283399999999|[40.785,-73.97283...|\n",
      "|  4|Manhattan|    E 118 St & 3 Ave|40.799139000000004|-73.93891500000001|[40.7991390000000...|\n",
      "|  5|Manhattan|John St & William St|       40.70862144|        -74.007221|[40.70862144,-74....|\n",
      "|  6|Manhattan|W 82 St & Central...|          40.78275|         -73.97137|[40.78275,-73.97137]|\n",
      "|  7|Manhattan|     W 33 St & 7 Ave|           40.7502|         -73.99093| [40.7502,-73.99093]|\n",
      "+---+---------+--------------------+------------------+------------------+--------------------+\n",
      "only showing top 5 rows\n",
      "\n"
     ]
    }
   ],
   "source": [
    "from pyspark.ml.feature import VectorAssembler\n",
    "\n",
    "vecAssembler = VectorAssembler(inputCols=[\"latitude\", \"longitude\"], outputCol=\"features\")\n",
    "new_df = vecAssembler.transform(df)\n",
    "new_df.show(5)"
   ]
  },
  {
   "cell_type": "code",
   "execution_count": 59,
   "id": "4e77c7d9",
   "metadata": {},
   "outputs": [
    {
     "name": "stdout",
     "output_type": "stream",
     "text": [
      "+---+--------+--------------------+------------------+------------------+--------------------+\n",
      "|_c0| Borough|    startStationName|          latitude|         longitude|            features|\n",
      "+---+--------+--------------------+------------------+------------------+--------------------+\n",
      "|  9|Brooklyn|Prospect Pl & Und...|            40.677|           -73.965|    [40.677,-73.965]|\n",
      "| 12|Brooklyn|       63 St & 5 Ave|          40.63766|         -74.01782|[40.63766,-74.01782]|\n",
      "| 17|Brooklyn|Stewart Ave & Joh...|40.708690000000004|-73.92586999999999|[40.7086900000000...|\n",
      "| 18|Brooklyn|Henry St & Atlant...|         40.690893|        -73.996123|[40.690893,-73.99...|\n",
      "| 22|Brooklyn|       10 St & 2 Ave|         40.671907|        -73.993612|[40.671907,-73.99...|\n",
      "+---+--------+--------------------+------------------+------------------+--------------------+\n",
      "only showing top 5 rows\n",
      "\n"
     ]
    }
   ],
   "source": [
    "new_brook = vecAssembler.transform(df_brook)\n",
    "new_brook.show(5)"
   ]
  },
  {
   "cell_type": "markdown",
   "id": "a33cab93",
   "metadata": {},
   "source": [
    "Run K-Means on Manhattan with 5 clusters"
   ]
  },
  {
   "cell_type": "code",
   "execution_count": 60,
   "id": "5cd3ee29",
   "metadata": {},
   "outputs": [],
   "source": [
    "from pyspark.ml.clustering import KMeans\n",
    "\n",
    "kmeans = KMeans(k=5, seed=1)  # 5 clusters here\n",
    "model = kmeans.fit(new_df.select('features'))"
   ]
  },
  {
   "cell_type": "code",
   "execution_count": 61,
   "id": "974349aa",
   "metadata": {},
   "outputs": [],
   "source": [
    "transformed = model.transform(new_df)\n",
    "#transformed.show()"
   ]
  },
  {
   "cell_type": "code",
   "execution_count": 62,
   "id": "1441673b",
   "metadata": {},
   "outputs": [],
   "source": [
    "transformed = transformed.select([x for x in transformed.columns if x != 'features']) # remove features so I can union back to the OG data w just Queens and the Bronx"
   ]
  },
  {
   "cell_type": "code",
   "execution_count": 63,
   "id": "8965433f",
   "metadata": {},
   "outputs": [],
   "source": [
    "#transformed.show()"
   ]
  },
  {
   "cell_type": "code",
   "execution_count": 64,
   "id": "8755884c",
   "metadata": {},
   "outputs": [],
   "source": [
    "#no_manhattan.show()"
   ]
  },
  {
   "cell_type": "markdown",
   "id": "1c737083",
   "metadata": {},
   "source": [
    "I want 3 clusters for Brooklyn. Repeat clustering with k = 3 on Brooklyn data:"
   ]
  },
  {
   "cell_type": "code",
   "execution_count": 65,
   "id": "51be511d",
   "metadata": {},
   "outputs": [],
   "source": [
    "kmeans = KMeans(k=3, seed=1)  # 3 clusters here\n",
    "model = kmeans.fit(new_brook.select('features'))\n",
    "transformed_brook = model.transform(new_brook)"
   ]
  },
  {
   "cell_type": "code",
   "execution_count": 66,
   "id": "0fae270c",
   "metadata": {},
   "outputs": [
    {
     "name": "stdout",
     "output_type": "stream",
     "text": [
      "+---+---------+--------------------+------------------+------------------+----------+\n",
      "|_c0|  Borough|    startStationName|          latitude|         longitude|prediction|\n",
      "+---+---------+--------------------+------------------+------------------+----------+\n",
      "|  0|Manhattan|W 84 St & Columbu...|            40.785|-73.97283399999999|         0|\n",
      "|  4|Manhattan|    E 118 St & 3 Ave|40.799139000000004|-73.93891500000001|         2|\n",
      "|  5|Manhattan|John St & William St|       40.70862144|        -74.007221|         3|\n",
      "|  6|Manhattan|W 82 St & Central...|          40.78275|         -73.97137|         0|\n",
      "|  7|Manhattan|     W 33 St & 7 Ave|           40.7502|         -73.99093|         4|\n",
      "+---+---------+--------------------+------------------+------------------+----------+\n",
      "only showing top 5 rows\n",
      "\n"
     ]
    }
   ],
   "source": [
    "transformed.show(5)"
   ]
  },
  {
   "cell_type": "code",
   "execution_count": 67,
   "id": "74820bd5",
   "metadata": {},
   "outputs": [],
   "source": [
    "transformed_brook = transformed_brook.select([x for x in transformed_brook.columns if x != 'features']) # remove features so I can union back to the OG data w just Queens and the Bronx"
   ]
  },
  {
   "cell_type": "code",
   "execution_count": 68,
   "id": "d51fb102",
   "metadata": {},
   "outputs": [
    {
     "name": "stdout",
     "output_type": "stream",
     "text": [
      "+---+--------+--------------------+------------------+------------------+----------+\n",
      "|_c0| Borough|    startStationName|          latitude|         longitude|prediction|\n",
      "+---+--------+--------------------+------------------+------------------+----------+\n",
      "|  9|Brooklyn|Prospect Pl & Und...|            40.677|           -73.965|         1|\n",
      "| 12|Brooklyn|       63 St & 5 Ave|          40.63766|         -74.01782|         2|\n",
      "| 17|Brooklyn|Stewart Ave & Joh...|40.708690000000004|-73.92586999999999|         0|\n",
      "| 18|Brooklyn|Henry St & Atlant...|         40.690893|        -73.996123|         1|\n",
      "| 22|Brooklyn|       10 St & 2 Ave|         40.671907|        -73.993612|         2|\n",
      "+---+--------+--------------------+------------------+------------------+----------+\n",
      "only showing top 5 rows\n",
      "\n"
     ]
    }
   ],
   "source": [
    "transformed_brook.show(5)"
   ]
  },
  {
   "cell_type": "markdown",
   "id": "bcf4b61f",
   "metadata": {},
   "source": [
    "Union all three DFs back together:"
   ]
  },
  {
   "cell_type": "code",
   "execution_count": 69,
   "id": "845833d3",
   "metadata": {},
   "outputs": [],
   "source": [
    "df_fin = no_mb.union(transformed).union(transformed_brook)"
   ]
  },
  {
   "cell_type": "code",
   "execution_count": 70,
   "id": "80d60760",
   "metadata": {},
   "outputs": [
    {
     "name": "stdout",
     "output_type": "stream",
     "text": [
      "+---+-------+--------------------+---------+------------------+----------+\n",
      "|_c0|Borough|    startStationName| latitude|         longitude|prediction|\n",
      "+---+-------+--------------------+---------+------------------+----------+\n",
      "|  1| Queens|  21 St & Hoyt Ave S|40.774645|-73.92370600000001|       999|\n",
      "|  2| Queens| Jackson Ave & 46 Rd|40.745248|-73.94733199999999|       999|\n",
      "|  3|  Bronx|Wilkins Ave & Cro...|40.835302|        -73.895133|       999|\n",
      "|  8|  Bronx|Fulton Ave & St. ...| 40.83545|-73.90153000000001|       999|\n",
      "| 16|  Bronx|Willis Ave & E 13...|   40.809|           -73.923|       999|\n",
      "+---+-------+--------------------+---------+------------------+----------+\n",
      "only showing top 5 rows\n",
      "\n"
     ]
    }
   ],
   "source": [
    "df_fin.show(5)"
   ]
  },
  {
   "cell_type": "markdown",
   "id": "ccf42d5e",
   "metadata": {},
   "source": [
    "Some checks. Data are roughly balanced, or at least better than before -- and more mathematically neighborhoody:"
   ]
  },
  {
   "cell_type": "code",
   "execution_count": 71,
   "id": "97bda3f7",
   "metadata": {},
   "outputs": [
    {
     "name": "stdout",
     "output_type": "stream",
     "text": [
      "+---------+----------+-----------------+\n",
      "|  Borough|prediction|count(prediction)|\n",
      "+---------+----------+-----------------+\n",
      "|    Bronx|       999|              226|\n",
      "|Manhattan|         3|              138|\n",
      "| Brooklyn|         0|              183|\n",
      "| Brooklyn|         1|              172|\n",
      "|Manhattan|         4|              171|\n",
      "|Manhattan|         0|              137|\n",
      "|Manhattan|         1|               67|\n",
      "|Manhattan|         2|              138|\n",
      "| Brooklyn|         2|              116|\n",
      "|   Queens|       999|              179|\n",
      "+---------+----------+-----------------+\n",
      "\n"
     ]
    }
   ],
   "source": [
    "from pyspark.sql import functions as F\n",
    "df_fin.groupby('Borough', 'prediction').agg(F.count('prediction')).show()"
   ]
  },
  {
   "cell_type": "code",
   "execution_count": 72,
   "id": "020dbb61",
   "metadata": {},
   "outputs": [
    {
     "data": {
      "text/plain": [
       "1527"
      ]
     },
     "execution_count": 72,
     "metadata": {},
     "output_type": "execute_result"
    }
   ],
   "source": [
    "df_fin.count() # count matches back to the original data"
   ]
  },
  {
   "cell_type": "markdown",
   "id": "d7f47312",
   "metadata": {},
   "source": [
    "Concatenate to create the new neighborhoods. Give the name as `concat` to be boring:"
   ]
  },
  {
   "cell_type": "code",
   "execution_count": 73,
   "id": "6fe69dbb",
   "metadata": {},
   "outputs": [],
   "source": [
    "from pyspark.sql.functions import concat\n",
    "df_fin = df_fin.withColumn('concat',concat(*['Borough', 'prediction']))"
   ]
  },
  {
   "cell_type": "code",
   "execution_count": 74,
   "id": "c66c8c03",
   "metadata": {},
   "outputs": [
    {
     "name": "stdout",
     "output_type": "stream",
     "text": [
      "+---+-------+--------------------+---------+------------------+----------+---------+\n",
      "|_c0|Borough|    startStationName| latitude|         longitude|prediction|   concat|\n",
      "+---+-------+--------------------+---------+------------------+----------+---------+\n",
      "|  1| Queens|  21 St & Hoyt Ave S|40.774645|-73.92370600000001|       999|Queens999|\n",
      "|  2| Queens| Jackson Ave & 46 Rd|40.745248|-73.94733199999999|       999|Queens999|\n",
      "|  3|  Bronx|Wilkins Ave & Cro...|40.835302|        -73.895133|       999| Bronx999|\n",
      "|  8|  Bronx|Fulton Ave & St. ...| 40.83545|-73.90153000000001|       999| Bronx999|\n",
      "| 16|  Bronx|Willis Ave & E 13...|   40.809|           -73.923|       999| Bronx999|\n",
      "+---+-------+--------------------+---------+------------------+----------+---------+\n",
      "only showing top 5 rows\n",
      "\n"
     ]
    }
   ],
   "source": [
    "df_fin.show(5)"
   ]
  },
  {
   "cell_type": "code",
   "execution_count": 75,
   "id": "97894a17",
   "metadata": {},
   "outputs": [],
   "source": [
    "b_dict = {'Brooklyn2': 'Downtown BK', 'Brooklyn0': 'Uptown BK', 'Brooklyn1': 'Midtown BK', 'Queens999': 'Queens', 'Bronx999': 'Bronx', \n",
    "          'Manhattan0': 'Central Park East/West', 'Manhattan1': 'Harlem & Wash. Heights', \n",
    "         'Manhattan2': 'Uptown Manhattan', 'Manhattan3': 'Downtown Manhattan', 'Manhattan4': 'Midtown Manhattan'}"
   ]
  },
  {
   "cell_type": "code",
   "execution_count": 76,
   "id": "4e4b9463",
   "metadata": {},
   "outputs": [],
   "source": [
    "df_fin = df_fin.replace(to_replace=b_dict, subset=['concat'])"
   ]
  },
  {
   "cell_type": "markdown",
   "id": "0feecf50",
   "metadata": {},
   "source": [
    "Send to pandas. Need in pandas form for graphing:"
   ]
  },
  {
   "cell_type": "code",
   "execution_count": 77,
   "id": "5da732fe",
   "metadata": {},
   "outputs": [],
   "source": [
    "df_p = df_fin.toPandas()"
   ]
  },
  {
   "cell_type": "code",
   "execution_count": 78,
   "id": "2c5c5a92",
   "metadata": {},
   "outputs": [
    {
     "data": {
      "text/html": [
       "<div>\n",
       "<style scoped>\n",
       "    .dataframe tbody tr th:only-of-type {\n",
       "        vertical-align: middle;\n",
       "    }\n",
       "\n",
       "    .dataframe tbody tr th {\n",
       "        vertical-align: top;\n",
       "    }\n",
       "\n",
       "    .dataframe thead th {\n",
       "        text-align: right;\n",
       "    }\n",
       "</style>\n",
       "<table border=\"1\" class=\"dataframe\">\n",
       "  <thead>\n",
       "    <tr style=\"text-align: right;\">\n",
       "      <th></th>\n",
       "      <th>_c0</th>\n",
       "      <th>Borough</th>\n",
       "      <th>startStationName</th>\n",
       "      <th>latitude</th>\n",
       "      <th>longitude</th>\n",
       "      <th>prediction</th>\n",
       "      <th>concat</th>\n",
       "    </tr>\n",
       "  </thead>\n",
       "  <tbody>\n",
       "    <tr>\n",
       "      <th>0</th>\n",
       "      <td>1</td>\n",
       "      <td>Queens</td>\n",
       "      <td>21 St &amp; Hoyt Ave S</td>\n",
       "      <td>40.774645</td>\n",
       "      <td>-73.923706</td>\n",
       "      <td>999</td>\n",
       "      <td>Queens</td>\n",
       "    </tr>\n",
       "    <tr>\n",
       "      <th>1</th>\n",
       "      <td>2</td>\n",
       "      <td>Queens</td>\n",
       "      <td>Jackson Ave &amp; 46 Rd</td>\n",
       "      <td>40.745248</td>\n",
       "      <td>-73.947332</td>\n",
       "      <td>999</td>\n",
       "      <td>Queens</td>\n",
       "    </tr>\n",
       "    <tr>\n",
       "      <th>2</th>\n",
       "      <td>3</td>\n",
       "      <td>Bronx</td>\n",
       "      <td>Wilkins Ave &amp; Crotona Park E</td>\n",
       "      <td>40.835302</td>\n",
       "      <td>-73.895133</td>\n",
       "      <td>999</td>\n",
       "      <td>Bronx</td>\n",
       "    </tr>\n",
       "    <tr>\n",
       "      <th>3</th>\n",
       "      <td>8</td>\n",
       "      <td>Bronx</td>\n",
       "      <td>Fulton Ave &amp; St. Paul's Pl</td>\n",
       "      <td>40.835450</td>\n",
       "      <td>-73.901530</td>\n",
       "      <td>999</td>\n",
       "      <td>Bronx</td>\n",
       "    </tr>\n",
       "    <tr>\n",
       "      <th>4</th>\n",
       "      <td>16</td>\n",
       "      <td>Bronx</td>\n",
       "      <td>Willis Ave &amp; E 137 St</td>\n",
       "      <td>40.809000</td>\n",
       "      <td>-73.923000</td>\n",
       "      <td>999</td>\n",
       "      <td>Bronx</td>\n",
       "    </tr>\n",
       "    <tr>\n",
       "      <th>...</th>\n",
       "      <td>...</td>\n",
       "      <td>...</td>\n",
       "      <td>...</td>\n",
       "      <td>...</td>\n",
       "      <td>...</td>\n",
       "      <td>...</td>\n",
       "      <td>...</td>\n",
       "    </tr>\n",
       "    <tr>\n",
       "      <th>1522</th>\n",
       "      <td>1513</td>\n",
       "      <td>Brooklyn</td>\n",
       "      <td>DeKalb Ave &amp; S Portland Ave</td>\n",
       "      <td>40.689810</td>\n",
       "      <td>-73.974931</td>\n",
       "      <td>1</td>\n",
       "      <td>Midtown BK</td>\n",
       "    </tr>\n",
       "    <tr>\n",
       "      <th>1523</th>\n",
       "      <td>1514</td>\n",
       "      <td>Brooklyn</td>\n",
       "      <td>19 St &amp; 8 Ave</td>\n",
       "      <td>40.658489</td>\n",
       "      <td>-73.985543</td>\n",
       "      <td>2</td>\n",
       "      <td>Downtown BK</td>\n",
       "    </tr>\n",
       "    <tr>\n",
       "      <th>1524</th>\n",
       "      <td>1515</td>\n",
       "      <td>Brooklyn</td>\n",
       "      <td>2 Ave &amp; 9 St</td>\n",
       "      <td>40.672481</td>\n",
       "      <td>-73.993314</td>\n",
       "      <td>2</td>\n",
       "      <td>Downtown BK</td>\n",
       "    </tr>\n",
       "    <tr>\n",
       "      <th>1525</th>\n",
       "      <td>1517</td>\n",
       "      <td>Brooklyn</td>\n",
       "      <td>Leonard St &amp; Nassau Ave</td>\n",
       "      <td>40.725000</td>\n",
       "      <td>-73.949843</td>\n",
       "      <td>0</td>\n",
       "      <td>Uptown BK</td>\n",
       "    </tr>\n",
       "    <tr>\n",
       "      <th>1526</th>\n",
       "      <td>1521</td>\n",
       "      <td>Brooklyn</td>\n",
       "      <td>Myrtle Ave &amp; Marcy Ave</td>\n",
       "      <td>40.695398</td>\n",
       "      <td>-73.949549</td>\n",
       "      <td>0</td>\n",
       "      <td>Uptown BK</td>\n",
       "    </tr>\n",
       "  </tbody>\n",
       "</table>\n",
       "<p>1527 rows × 7 columns</p>\n",
       "</div>"
      ],
      "text/plain": [
       "       _c0   Borough              startStationName   latitude  longitude  \\\n",
       "0        1    Queens            21 St & Hoyt Ave S  40.774645 -73.923706   \n",
       "1        2    Queens           Jackson Ave & 46 Rd  40.745248 -73.947332   \n",
       "2        3     Bronx  Wilkins Ave & Crotona Park E  40.835302 -73.895133   \n",
       "3        8     Bronx    Fulton Ave & St. Paul's Pl  40.835450 -73.901530   \n",
       "4       16     Bronx         Willis Ave & E 137 St  40.809000 -73.923000   \n",
       "...    ...       ...                           ...        ...        ...   \n",
       "1522  1513  Brooklyn   DeKalb Ave & S Portland Ave  40.689810 -73.974931   \n",
       "1523  1514  Brooklyn                 19 St & 8 Ave  40.658489 -73.985543   \n",
       "1524  1515  Brooklyn                  2 Ave & 9 St  40.672481 -73.993314   \n",
       "1525  1517  Brooklyn       Leonard St & Nassau Ave  40.725000 -73.949843   \n",
       "1526  1521  Brooklyn        Myrtle Ave & Marcy Ave  40.695398 -73.949549   \n",
       "\n",
       "      prediction       concat  \n",
       "0            999       Queens  \n",
       "1            999       Queens  \n",
       "2            999        Bronx  \n",
       "3            999        Bronx  \n",
       "4            999        Bronx  \n",
       "...          ...          ...  \n",
       "1522           1   Midtown BK  \n",
       "1523           2  Downtown BK  \n",
       "1524           2  Downtown BK  \n",
       "1525           0    Uptown BK  \n",
       "1526           0    Uptown BK  \n",
       "\n",
       "[1527 rows x 7 columns]"
      ]
     },
     "execution_count": 78,
     "metadata": {},
     "output_type": "execute_result"
    }
   ],
   "source": [
    "df_p"
   ]
  },
  {
   "cell_type": "code",
   "execution_count": 79,
   "id": "c0d4a435",
   "metadata": {},
   "outputs": [],
   "source": [
    "#df_p.to_csv('boroughs2.csv')"
   ]
  },
  {
   "cell_type": "markdown",
   "id": "2aefd4ad",
   "metadata": {},
   "source": [
    "Plot:"
   ]
  },
  {
   "cell_type": "code",
   "execution_count": 80,
   "id": "fb7a0734",
   "metadata": {},
   "outputs": [],
   "source": [
    "import plotly.express as px"
   ]
  },
  {
   "cell_type": "code",
   "execution_count": 81,
   "id": "161d6963",
   "metadata": {},
   "outputs": [],
   "source": [
    "fig = px.scatter(df_p, x = 'longitude', y = 'latitude', color='concat',\n",
    "                 hover_data=['concat'], height=800)"
   ]
  },
  {
   "cell_type": "code",
   "execution_count": 82,
   "id": "640b5d37",
   "metadata": {},
   "outputs": [
    {
     "data": {
      "application/vnd.plotly.v1+json": {
       "config": {
        "plotlyServerURL": "https://plot.ly"
       },
       "data": [
        {
         "customdata": [
          [
           "Queens"
          ],
          [
           "Queens"
          ],
          [
           "Queens"
          ],
          [
           "Queens"
          ],
          [
           "Queens"
          ],
          [
           "Queens"
          ],
          [
           "Queens"
          ],
          [
           "Queens"
          ],
          [
           "Queens"
          ],
          [
           "Queens"
          ],
          [
           "Queens"
          ],
          [
           "Queens"
          ],
          [
           "Queens"
          ],
          [
           "Queens"
          ],
          [
           "Queens"
          ],
          [
           "Queens"
          ],
          [
           "Queens"
          ],
          [
           "Queens"
          ],
          [
           "Queens"
          ],
          [
           "Queens"
          ],
          [
           "Queens"
          ],
          [
           "Queens"
          ],
          [
           "Queens"
          ],
          [
           "Queens"
          ],
          [
           "Queens"
          ],
          [
           "Queens"
          ],
          [
           "Queens"
          ],
          [
           "Queens"
          ],
          [
           "Queens"
          ],
          [
           "Queens"
          ],
          [
           "Queens"
          ],
          [
           "Queens"
          ],
          [
           "Queens"
          ],
          [
           "Queens"
          ],
          [
           "Queens"
          ],
          [
           "Queens"
          ],
          [
           "Queens"
          ],
          [
           "Queens"
          ],
          [
           "Queens"
          ],
          [
           "Queens"
          ],
          [
           "Queens"
          ],
          [
           "Queens"
          ],
          [
           "Queens"
          ],
          [
           "Queens"
          ],
          [
           "Queens"
          ],
          [
           "Queens"
          ],
          [
           "Queens"
          ],
          [
           "Queens"
          ],
          [
           "Queens"
          ],
          [
           "Queens"
          ],
          [
           "Queens"
          ],
          [
           "Queens"
          ],
          [
           "Queens"
          ],
          [
           "Queens"
          ],
          [
           "Queens"
          ],
          [
           "Queens"
          ],
          [
           "Queens"
          ],
          [
           "Queens"
          ],
          [
           "Queens"
          ],
          [
           "Queens"
          ],
          [
           "Queens"
          ],
          [
           "Queens"
          ],
          [
           "Queens"
          ],
          [
           "Queens"
          ],
          [
           "Queens"
          ],
          [
           "Queens"
          ],
          [
           "Queens"
          ],
          [
           "Queens"
          ],
          [
           "Queens"
          ],
          [
           "Queens"
          ],
          [
           "Queens"
          ],
          [
           "Queens"
          ],
          [
           "Queens"
          ],
          [
           "Queens"
          ],
          [
           "Queens"
          ],
          [
           "Queens"
          ],
          [
           "Queens"
          ],
          [
           "Queens"
          ],
          [
           "Queens"
          ],
          [
           "Queens"
          ],
          [
           "Queens"
          ],
          [
           "Queens"
          ],
          [
           "Queens"
          ],
          [
           "Queens"
          ],
          [
           "Queens"
          ],
          [
           "Queens"
          ],
          [
           "Queens"
          ],
          [
           "Queens"
          ],
          [
           "Queens"
          ],
          [
           "Queens"
          ],
          [
           "Queens"
          ],
          [
           "Queens"
          ],
          [
           "Queens"
          ],
          [
           "Queens"
          ],
          [
           "Queens"
          ],
          [
           "Queens"
          ],
          [
           "Queens"
          ],
          [
           "Queens"
          ],
          [
           "Queens"
          ],
          [
           "Queens"
          ],
          [
           "Queens"
          ],
          [
           "Queens"
          ],
          [
           "Queens"
          ],
          [
           "Queens"
          ],
          [
           "Queens"
          ],
          [
           "Queens"
          ],
          [
           "Queens"
          ],
          [
           "Queens"
          ],
          [
           "Queens"
          ],
          [
           "Queens"
          ],
          [
           "Queens"
          ],
          [
           "Queens"
          ],
          [
           "Queens"
          ],
          [
           "Queens"
          ],
          [
           "Queens"
          ],
          [
           "Queens"
          ],
          [
           "Queens"
          ],
          [
           "Queens"
          ],
          [
           "Queens"
          ],
          [
           "Queens"
          ],
          [
           "Queens"
          ],
          [
           "Queens"
          ],
          [
           "Queens"
          ],
          [
           "Queens"
          ],
          [
           "Queens"
          ],
          [
           "Queens"
          ],
          [
           "Queens"
          ],
          [
           "Queens"
          ],
          [
           "Queens"
          ],
          [
           "Queens"
          ],
          [
           "Queens"
          ],
          [
           "Queens"
          ],
          [
           "Queens"
          ],
          [
           "Queens"
          ],
          [
           "Queens"
          ],
          [
           "Queens"
          ],
          [
           "Queens"
          ],
          [
           "Queens"
          ],
          [
           "Queens"
          ],
          [
           "Queens"
          ],
          [
           "Queens"
          ],
          [
           "Queens"
          ],
          [
           "Queens"
          ],
          [
           "Queens"
          ],
          [
           "Queens"
          ],
          [
           "Queens"
          ],
          [
           "Queens"
          ],
          [
           "Queens"
          ],
          [
           "Queens"
          ],
          [
           "Queens"
          ],
          [
           "Queens"
          ],
          [
           "Queens"
          ],
          [
           "Queens"
          ],
          [
           "Queens"
          ],
          [
           "Queens"
          ],
          [
           "Queens"
          ],
          [
           "Queens"
          ],
          [
           "Queens"
          ],
          [
           "Queens"
          ],
          [
           "Queens"
          ],
          [
           "Queens"
          ],
          [
           "Queens"
          ],
          [
           "Queens"
          ],
          [
           "Queens"
          ],
          [
           "Queens"
          ],
          [
           "Queens"
          ],
          [
           "Queens"
          ],
          [
           "Queens"
          ],
          [
           "Queens"
          ],
          [
           "Queens"
          ],
          [
           "Queens"
          ],
          [
           "Queens"
          ],
          [
           "Queens"
          ],
          [
           "Queens"
          ],
          [
           "Queens"
          ],
          [
           "Queens"
          ],
          [
           "Queens"
          ],
          [
           "Queens"
          ],
          [
           "Queens"
          ]
         ],
         "hovertemplate": "concat=%{customdata[0]}<br>longitude=%{x}<br>latitude=%{y}<extra></extra>",
         "legendgroup": "Queens",
         "marker": {
          "color": "#636efa",
          "symbol": "circle"
         },
         "mode": "markers",
         "name": "Queens",
         "showlegend": true,
         "type": "scattergl",
         "x": [
          -73.92370600000001,
          -73.94733199999999,
          -73.96044,
          -73.90311,
          -73.910989,
          -73.912555,
          -73.957539,
          -73.9566,
          -73.918544,
          -73.943263,
          -73.910485,
          -73.896293,
          -73.93417099999999,
          -73.917,
          -73.912297,
          -73.91614200000001,
          -73.95960600000001,
          -73.923711,
          -73.94609200000001,
          -73.937258,
          -73.933492,
          -73.920603,
          -73.927991,
          -73.918975,
          -73.914527,
          -73.93271899999999,
          -73.934326,
          -73.9397405,
          -73.921631,
          -73.930819,
          -73.93366999999999,
          -73.940737,
          -73.9397405,
          -73.912212,
          -73.9342,
          -73.944,
          -73.90742,
          -73.90632,
          -73.90570799999999,
          -73.907107,
          -73.91833000000001,
          -73.9007,
          -73.90245,
          -73.924614,
          -73.9521,
          -73.923,
          -73.9096,
          -73.930913,
          -73.934777,
          -73.908906,
          -73.929737,
          -73.939122,
          -73.928607,
          -73.90878199999999,
          -73.93214499999999,
          -73.936515,
          -73.903787,
          -73.93985500000001,
          -73.92093299999999,
          -73.932662,
          -73.914564,
          -73.945948,
          -73.90463199999999,
          -73.90238199999999,
          -73.94335699999999,
          -73.90408000000001,
          -73.930486,
          -73.90774300000001,
          -73.920827,
          -73.923661,
          -73.91054,
          -73.90100100000001,
          -73.924031,
          -73.915839,
          -73.932266,
          -73.900318,
          -73.918115,
          -73.889914,
          -73.92254,
          -73.941275,
          -73.934286,
          -73.904726,
          -73.959,
          -73.915026,
          -73.912715,
          -73.927436,
          -73.9391141,
          -73.919543,
          -73.95284000000001,
          -73.948852,
          -73.928647,
          -73.908335,
          -73.916985,
          -73.91426700000001,
          -73.955873,
          -73.939863,
          -73.91119,
          -73.916894,
          -73.949772,
          -73.935,
          -73.941764,
          -73.901614,
          -73.922242,
          -73.925384,
          -73.906127,
          -73.906018,
          -73.914934,
          -73.899558,
          -73.917007,
          -73.947911,
          -73.90737,
          -73.9364281,
          -73.93077,
          -73.910651,
          -73.90271,
          -73.912093,
          -73.91497,
          -73.90675999999999,
          -73.927631,
          -73.94856700000001,
          -73.910963,
          -73.896849,
          -73.958652,
          -73.90342700000001,
          -73.909562,
          -73.93378940000001,
          -73.917014,
          -73.90655799999999,
          -73.953457,
          -73.91999799999999,
          -73.936484,
          -73.90841999999999,
          -73.912402,
          -73.92793,
          -73.93735500000001,
          -73.937956,
          -73.89353100000001,
          -73.902534,
          -73.91091999999999,
          -73.895166,
          -73.93796999999999,
          -73.925921,
          -73.915098,
          -73.918405,
          -73.914952,
          -73.915317,
          -73.91292,
          -73.914142,
          -73.91171800000001,
          -73.91873000000001,
          -73.916636,
          -73.9022,
          -73.911517,
          -73.926223,
          -73.929574,
          -73.90625,
          -73.92495699999999,
          -73.935,
          -73.913669,
          -73.900063,
          -73.90765400000001,
          -73.941126,
          -73.89795,
          -73.923162,
          -73.90983100000001,
          -73.930562,
          -73.953,
          -73.919046,
          -73.91337,
          -73.890745,
          -73.93561,
          -73.926547,
          -73.95451,
          -73.903865,
          -73.927144,
          -73.893675,
          -73.936272,
          -73.90674,
          -73.917007
         ],
         "xaxis": "x",
         "y": [
          40.774645,
          40.745248,
          40.741609999999994,
          40.695170000000005,
          40.76072,
          40.774788,
          40.746,
          40.742374,
          40.774591,
          40.74718234,
          40.776168,
          40.76817,
          40.770845,
          40.71,
          40.784003000000006,
          40.7729,
          40.743365999999995,
          40.707165,
          40.748000000000005,
          40.741283,
          40.751870000000004,
          40.753091,
          40.753111,
          40.759058,
          40.782465,
          40.757186,
          40.754876,
          40.752708500000004,
          40.756913,
          40.7659,
          40.75473,
          40.751999999999995,
          40.752708500000004,
          40.780478,
          40.77485,
          40.758,
          40.70068,
          40.70694,
          40.779399,
          40.760083,
          40.78145,
          40.6988,
          40.70555,
          40.771361999999996,
          40.74966,
          40.7580583,
          40.705529999999996,
          40.773983,
          40.7668,
          40.754164,
          40.752443,
          40.7576314,
          40.77037429999999,
          40.763328,
          40.759628,
          40.756351,
          40.774798,
          40.763155,
          40.767549,
          40.7726,
          40.778719,
          40.75052534,
          40.764496,
          40.777112,
          40.75326,
          40.70408,
          40.766824,
          40.771394,
          40.763154,
          40.755733,
          40.704609999999995,
          40.769219,
          40.7647,
          40.764175,
          40.7682,
          40.754176,
          40.765476,
          40.770888,
          40.777455200000006,
          40.7485,
          40.762814,
          40.757357,
          40.736999999999995,
          40.751554999999996,
          40.755763,
          40.772768,
          40.76274420000001,
          40.754139,
          40.73555,
          40.743,
          40.763359,
          40.774306,
          40.7671,
          40.7595701,
          40.744363,
          40.765353999999995,
          40.773015,
          40.783955999999996,
          40.747085999999996,
          40.77,
          40.743752,
          40.757525,
          40.760339,
          40.752371999999994,
          40.772717,
          40.769673,
          40.77406,
          40.778089,
          40.771153000000005,
          40.7519071,
          40.70413,
          40.752575799999995,
          40.78294,
          40.764089,
          40.69812,
          40.770148,
          40.70863,
          40.765753000000004,
          40.7767,
          40.7552433,
          40.767666,
          40.772899,
          40.753702000000004,
          40.75574,
          40.761294,
          40.7747175,
          40.754795,
          40.776745,
          40.744907,
          40.750181,
          40.763875299999995,
          40.77813,
          40.753440999999995,
          40.714009999999995,
          40.7671863,
          40.753599,
          40.768442,
          40.762507,
          40.70793,
          40.772092,
          40.751047,
          40.761584,
          40.785994,
          40.769918,
          40.75388,
          40.776165,
          40.70577,
          40.763422,
          40.699871,
          40.713,
          40.7577284,
          40.699690000000004,
          40.755389,
          40.756933200000006,
          40.756513,
          40.70183,
          40.768692,
          40.746,
          40.7656251,
          40.775415,
          40.757764,
          40.761438,
          40.699220000000004,
          40.77977,
          40.758057,
          40.76108,
          40.743,
          40.778557,
          40.69943,
          40.768728,
          40.743,
          40.765834999999996,
          40.74731,
          40.771203,
          40.759603999999996,
          40.77028,
          40.760185299999996,
          40.6972,
          40.761148999999996
         ],
         "yaxis": "y"
        },
        {
         "customdata": [
          [
           "Bronx"
          ],
          [
           "Bronx"
          ],
          [
           "Bronx"
          ],
          [
           "Bronx"
          ],
          [
           "Bronx"
          ],
          [
           "Bronx"
          ],
          [
           "Bronx"
          ],
          [
           "Bronx"
          ],
          [
           "Bronx"
          ],
          [
           "Bronx"
          ],
          [
           "Bronx"
          ],
          [
           "Bronx"
          ],
          [
           "Bronx"
          ],
          [
           "Bronx"
          ],
          [
           "Bronx"
          ],
          [
           "Bronx"
          ],
          [
           "Bronx"
          ],
          [
           "Bronx"
          ],
          [
           "Bronx"
          ],
          [
           "Bronx"
          ],
          [
           "Bronx"
          ],
          [
           "Bronx"
          ],
          [
           "Bronx"
          ],
          [
           "Bronx"
          ],
          [
           "Bronx"
          ],
          [
           "Bronx"
          ],
          [
           "Bronx"
          ],
          [
           "Bronx"
          ],
          [
           "Bronx"
          ],
          [
           "Bronx"
          ],
          [
           "Bronx"
          ],
          [
           "Bronx"
          ],
          [
           "Bronx"
          ],
          [
           "Bronx"
          ],
          [
           "Bronx"
          ],
          [
           "Bronx"
          ],
          [
           "Bronx"
          ],
          [
           "Bronx"
          ],
          [
           "Bronx"
          ],
          [
           "Bronx"
          ],
          [
           "Bronx"
          ],
          [
           "Bronx"
          ],
          [
           "Bronx"
          ],
          [
           "Bronx"
          ],
          [
           "Bronx"
          ],
          [
           "Bronx"
          ],
          [
           "Bronx"
          ],
          [
           "Bronx"
          ],
          [
           "Bronx"
          ],
          [
           "Bronx"
          ],
          [
           "Bronx"
          ],
          [
           "Bronx"
          ],
          [
           "Bronx"
          ],
          [
           "Bronx"
          ],
          [
           "Bronx"
          ],
          [
           "Bronx"
          ],
          [
           "Bronx"
          ],
          [
           "Bronx"
          ],
          [
           "Bronx"
          ],
          [
           "Bronx"
          ],
          [
           "Bronx"
          ],
          [
           "Bronx"
          ],
          [
           "Bronx"
          ],
          [
           "Bronx"
          ],
          [
           "Bronx"
          ],
          [
           "Bronx"
          ],
          [
           "Bronx"
          ],
          [
           "Bronx"
          ],
          [
           "Bronx"
          ],
          [
           "Bronx"
          ],
          [
           "Bronx"
          ],
          [
           "Bronx"
          ],
          [
           "Bronx"
          ],
          [
           "Bronx"
          ],
          [
           "Bronx"
          ],
          [
           "Bronx"
          ],
          [
           "Bronx"
          ],
          [
           "Bronx"
          ],
          [
           "Bronx"
          ],
          [
           "Bronx"
          ],
          [
           "Bronx"
          ],
          [
           "Bronx"
          ],
          [
           "Bronx"
          ],
          [
           "Bronx"
          ],
          [
           "Bronx"
          ],
          [
           "Bronx"
          ],
          [
           "Bronx"
          ],
          [
           "Bronx"
          ],
          [
           "Bronx"
          ],
          [
           "Bronx"
          ],
          [
           "Bronx"
          ],
          [
           "Bronx"
          ],
          [
           "Bronx"
          ],
          [
           "Bronx"
          ],
          [
           "Bronx"
          ],
          [
           "Bronx"
          ],
          [
           "Bronx"
          ],
          [
           "Bronx"
          ],
          [
           "Bronx"
          ],
          [
           "Bronx"
          ],
          [
           "Bronx"
          ],
          [
           "Bronx"
          ],
          [
           "Bronx"
          ],
          [
           "Bronx"
          ],
          [
           "Bronx"
          ],
          [
           "Bronx"
          ],
          [
           "Bronx"
          ],
          [
           "Bronx"
          ],
          [
           "Bronx"
          ],
          [
           "Bronx"
          ],
          [
           "Bronx"
          ],
          [
           "Bronx"
          ],
          [
           "Bronx"
          ],
          [
           "Bronx"
          ],
          [
           "Bronx"
          ],
          [
           "Bronx"
          ],
          [
           "Bronx"
          ],
          [
           "Bronx"
          ],
          [
           "Bronx"
          ],
          [
           "Bronx"
          ],
          [
           "Bronx"
          ],
          [
           "Bronx"
          ],
          [
           "Bronx"
          ],
          [
           "Bronx"
          ],
          [
           "Bronx"
          ],
          [
           "Bronx"
          ],
          [
           "Bronx"
          ],
          [
           "Bronx"
          ],
          [
           "Bronx"
          ],
          [
           "Bronx"
          ],
          [
           "Bronx"
          ],
          [
           "Bronx"
          ],
          [
           "Bronx"
          ],
          [
           "Bronx"
          ],
          [
           "Bronx"
          ],
          [
           "Bronx"
          ],
          [
           "Bronx"
          ],
          [
           "Bronx"
          ],
          [
           "Bronx"
          ],
          [
           "Bronx"
          ],
          [
           "Bronx"
          ],
          [
           "Bronx"
          ],
          [
           "Bronx"
          ],
          [
           "Bronx"
          ],
          [
           "Bronx"
          ],
          [
           "Bronx"
          ],
          [
           "Bronx"
          ],
          [
           "Bronx"
          ],
          [
           "Bronx"
          ],
          [
           "Bronx"
          ],
          [
           "Bronx"
          ],
          [
           "Bronx"
          ],
          [
           "Bronx"
          ],
          [
           "Bronx"
          ],
          [
           "Bronx"
          ],
          [
           "Bronx"
          ],
          [
           "Bronx"
          ],
          [
           "Bronx"
          ],
          [
           "Bronx"
          ],
          [
           "Bronx"
          ],
          [
           "Bronx"
          ],
          [
           "Bronx"
          ],
          [
           "Bronx"
          ],
          [
           "Bronx"
          ],
          [
           "Bronx"
          ],
          [
           "Bronx"
          ],
          [
           "Bronx"
          ],
          [
           "Bronx"
          ],
          [
           "Bronx"
          ],
          [
           "Bronx"
          ],
          [
           "Bronx"
          ],
          [
           "Bronx"
          ],
          [
           "Bronx"
          ],
          [
           "Bronx"
          ],
          [
           "Bronx"
          ],
          [
           "Bronx"
          ],
          [
           "Bronx"
          ],
          [
           "Bronx"
          ],
          [
           "Bronx"
          ],
          [
           "Bronx"
          ],
          [
           "Bronx"
          ],
          [
           "Bronx"
          ],
          [
           "Bronx"
          ],
          [
           "Bronx"
          ],
          [
           "Bronx"
          ],
          [
           "Bronx"
          ],
          [
           "Bronx"
          ],
          [
           "Bronx"
          ],
          [
           "Bronx"
          ],
          [
           "Bronx"
          ],
          [
           "Bronx"
          ],
          [
           "Bronx"
          ],
          [
           "Bronx"
          ],
          [
           "Bronx"
          ],
          [
           "Bronx"
          ],
          [
           "Bronx"
          ],
          [
           "Bronx"
          ],
          [
           "Bronx"
          ],
          [
           "Bronx"
          ],
          [
           "Bronx"
          ],
          [
           "Bronx"
          ],
          [
           "Bronx"
          ],
          [
           "Bronx"
          ],
          [
           "Bronx"
          ],
          [
           "Bronx"
          ],
          [
           "Bronx"
          ],
          [
           "Bronx"
          ],
          [
           "Bronx"
          ],
          [
           "Bronx"
          ],
          [
           "Bronx"
          ],
          [
           "Bronx"
          ],
          [
           "Bronx"
          ],
          [
           "Bronx"
          ],
          [
           "Bronx"
          ],
          [
           "Bronx"
          ],
          [
           "Bronx"
          ],
          [
           "Bronx"
          ],
          [
           "Bronx"
          ],
          [
           "Bronx"
          ],
          [
           "Bronx"
          ],
          [
           "Bronx"
          ],
          [
           "Bronx"
          ],
          [
           "Bronx"
          ],
          [
           "Bronx"
          ],
          [
           "Bronx"
          ],
          [
           "Bronx"
          ]
         ],
         "hovertemplate": "concat=%{customdata[0]}<br>longitude=%{x}<br>latitude=%{y}<extra></extra>",
         "legendgroup": "Bronx",
         "marker": {
          "color": "#EF553B",
          "symbol": "circle"
         },
         "mode": "markers",
         "name": "Bronx",
         "showlegend": true,
         "type": "scattergl",
         "x": [
          -73.895133,
          -73.90153000000001,
          -73.923,
          -73.928947,
          -73.911759,
          -73.891677,
          -73.896447,
          -73.88661,
          -73.91640699999999,
          -73.927987,
          -73.914737,
          -73.912604,
          -73.888161,
          -73.91081,
          -73.915585,
          -73.922423,
          -73.929327,
          -73.927311,
          -73.926907,
          -73.903719,
          -73.916792,
          -73.917579,
          -73.91125,
          -73.919549,
          -73.908351,
          -73.911837,
          -73.900216,
          -73.908699,
          -73.907999,
          -73.88430799999999,
          -73.90419200000001,
          -73.886659,
          -73.91725600000001,
          -73.918214,
          -73.921461,
          -73.90521,
          -73.92207900000001,
          -73.91154499999999,
          -73.892686,
          -73.903927,
          -73.896752,
          -73.925961,
          -73.92404,
          -73.905203,
          -73.88772900000001,
          -73.911034,
          -73.899939,
          -73.88793100000001,
          -73.886445,
          -73.912042,
          -73.919763,
          -73.917447,
          -73.908731,
          -73.90549,
          -73.907729,
          -73.917641,
          -73.90131099999999,
          -73.91241099999999,
          -73.917037,
          -73.91507299999999,
          -73.888587,
          -73.885272,
          -73.9109,
          -73.891559,
          -73.90266,
          -73.919205,
          -73.91219,
          -73.898802,
          -73.927111,
          -73.927311,
          -73.92243,
          -73.92965,
          -73.908863,
          -73.913004,
          -73.899047,
          -73.924689,
          -73.89685300000001,
          -73.907451,
          -73.888271,
          -73.904556,
          -73.91888900000001,
          -73.892103,
          -73.915368,
          -73.926075,
          -73.89794,
          -73.929153,
          -73.890247,
          -73.916071,
          -73.925101,
          -73.91765500000001,
          -73.914,
          -73.91769000000001,
          -73.912498,
          -73.92818,
          -73.914311,
          -73.919637,
          -73.913741,
          -73.907618,
          -73.91008000000001,
          -73.89246,
          -73.901883,
          -73.896372,
          -73.903944,
          -73.888624,
          -73.90108000000001,
          -73.89714000000001,
          -73.924963,
          -73.912785,
          -73.903178,
          -73.896599,
          -73.928747,
          -73.907521,
          -73.908964,
          -73.907999,
          -73.92608800000001,
          -73.892317,
          -73.918316,
          -73.905838,
          -73.92036999999999,
          -73.88854599999999,
          -73.92703399999999,
          -73.917,
          -73.926226,
          -73.89533,
          -73.910765,
          -73.905528,
          -73.900277,
          -73.89148,
          -73.914688,
          -73.925294,
          -73.928939,
          -73.92160600000001,
          -73.888719,
          -73.8985,
          -73.901583,
          -73.91608199999999,
          -73.910489,
          -73.903927,
          -73.898237,
          -73.91089000000001,
          -73.90854399999999,
          -73.911259,
          -73.91278,
          -73.91288,
          -73.890413,
          -73.90486700000001,
          -73.894025,
          -73.930605,
          -73.886312,
          -73.911918,
          -73.91471800000001,
          -73.893721,
          -73.928803,
          -73.89506899999999,
          -73.91924,
          -73.916661,
          -73.911479,
          -73.908116,
          -73.927421,
          -73.908345,
          -73.907302,
          -73.89615,
          -73.90079,
          -73.909513,
          -73.89483100000001,
          -73.913863,
          -73.929372,
          -73.889686,
          -73.898589,
          -73.894143,
          -73.922962,
          -73.881875,
          -73.917875,
          -73.90316,
          -73.903869,
          -73.905158,
          -73.91135899999999,
          -73.920999,
          -73.91956,
          -73.928381,
          -73.918389,
          -73.92710699999999,
          -73.903743,
          -73.907342,
          -73.897263,
          -73.917946,
          -73.901824,
          -73.902185,
          -73.92272,
          -73.923,
          -73.931015,
          -73.90208,
          -73.90241999999999,
          -73.89522,
          -73.92112,
          -73.92141099999999,
          -73.894717,
          -73.916124,
          -73.911,
          -73.9149,
          -73.90202,
          -73.88955,
          -73.91839,
          -73.909235,
          -73.8985,
          -73.89186,
          -73.91171999999999,
          -73.922394,
          -73.92326700000001,
          -73.898751,
          -73.925177,
          -73.907199,
          -73.8855,
          -73.898385,
          -73.9174,
          -73.919379,
          -73.9154,
          -73.92339100000001,
          -73.91641800000001,
          -73.897366,
          -73.901318,
          -73.907199,
          -73.92389,
          -73.88839,
          -73.893142,
          -73.919228
         ],
         "xaxis": "x",
         "y": [
          40.835302,
          40.83545,
          40.809,
          40.820089,
          40.820713,
          40.824956,
          40.816342999999996,
          40.87382,
          40.824811,
          40.816576,
          40.817166,
          40.838315,
          40.816567,
          40.808890999999996,
          40.825716,
          40.839312,
          40.826677000000004,
          40.810893,
          40.822351,
          40.828199,
          40.822267,
          40.820570000000004,
          40.830940000000005,
          40.816402000000004,
          40.81989,
          40.806896,
          40.843078999999996,
          40.823871999999994,
          40.807347,
          40.836273999999996,
          40.811892,
          40.827628999999995,
          40.844075,
          40.853157,
          40.829608,
          40.82895,
          40.847746,
          40.804168,
          40.831998,
          40.814232000000004,
          40.821967,
          40.839141999999995,
          40.80046,
          40.817802,
          40.825322,
          40.800425,
          40.815077,
          40.836733,
          40.839335,
          40.844811,
          40.803399,
          40.831305,
          40.853646000000005,
          40.83999,
          40.811314,
          40.834263,
          40.819701,
          40.819823,
          40.811675,
          40.840683,
          40.839194,
          40.832648999999996,
          40.83899,
          40.816126000000004,
          40.858472,
          40.849629,
          40.86156,
          40.82995,
          40.827883,
          40.825737,
          40.83406,
          40.817755,
          40.834015,
          40.839549,
          40.839228999999996,
          40.823429,
          40.831762,
          40.82696,
          40.820578000000005,
          40.830471,
          40.805089,
          40.830051,
          40.814383,
          40.84207,
          40.86659,
          40.812304,
          40.818743,
          40.819609,
          40.83263,
          40.82723,
          40.812,
          40.828846999999996,
          40.853685999999996,
          40.82441,
          40.845504999999996,
          40.846011,
          40.83579,
          40.829896000000005,
          40.858340000000005,
          40.863890000000005,
          40.847798,
          40.827301,
          40.820302000000005,
          40.818726,
          40.86294,
          40.871559999999995,
          40.814469,
          40.850035999999996,
          40.848793,
          40.833246,
          40.830179,
          40.82188,
          40.851746999999996,
          40.807258000000004,
          40.836706,
          40.841091999999996,
          40.836490000000005,
          40.838378999999996,
          40.812298999999996,
          40.821952,
          40.838706,
          40.818000000000005,
          40.831444,
          40.873870000000004,
          40.850121,
          40.855653000000004,
          40.839586,
          40.86945,
          40.822215,
          40.818154,
          40.822216999999995,
          40.81093,
          40.826706,
          40.842240000000004,
          40.812769,
          40.848177,
          40.837576,
          40.814232000000004,
          40.856987,
          40.824,
          40.842675,
          40.828975,
          40.855156,
          40.82809,
          40.837037,
          40.843264000000005,
          40.82394,
          40.813224,
          40.830025,
          40.815887,
          40.805559,
          40.827184,
          40.808484,
          40.821075,
          40.807408,
          40.854946999999996,
          40.840494,
          40.816124,
          40.832057,
          40.837213,
          40.856302,
          40.85556,
          40.860079999999996,
          40.801657,
          40.861915,
          40.800933,
          40.832812,
          40.832171,
          40.861669,
          40.818185,
          40.81734,
          40.870496,
          40.809619,
          40.86288,
          40.846465,
          40.832678,
          40.847409999999996,
          40.843965000000004,
          40.831959999999995,
          40.834457,
          40.848354,
          40.807466,
          40.834857,
          40.846879,
          40.819998999999996,
          40.840484000000004,
          40.822545,
          40.837119,
          40.827115,
          40.812734999999996,
          40.829797,
          40.83171,
          40.824796,
          40.86448,
          40.833909000000006,
          40.820036,
          40.830529,
          40.808633,
          40.815,
          40.831584,
          40.81899,
          40.834123999999996,
          40.814673,
          40.813134999999996,
          40.842240000000004,
          40.87444,
          40.84301,
          40.83173,
          40.823161999999996,
          40.826303,
          40.805701,
          40.836103,
          40.813990999999994,
          40.853929,
          40.802620000000005,
          40.823732,
          40.835334,
          40.830262,
          40.851788,
          40.823926,
          40.850535,
          40.836179,
          40.793459999999996,
          40.87142,
          40.8358771,
          40.840536
         ],
         "yaxis": "y"
        },
        {
         "customdata": [
          [
           "Central Park East/West"
          ],
          [
           "Central Park East/West"
          ],
          [
           "Central Park East/West"
          ],
          [
           "Central Park East/West"
          ],
          [
           "Central Park East/West"
          ],
          [
           "Central Park East/West"
          ],
          [
           "Central Park East/West"
          ],
          [
           "Central Park East/West"
          ],
          [
           "Central Park East/West"
          ],
          [
           "Central Park East/West"
          ],
          [
           "Central Park East/West"
          ],
          [
           "Central Park East/West"
          ],
          [
           "Central Park East/West"
          ],
          [
           "Central Park East/West"
          ],
          [
           "Central Park East/West"
          ],
          [
           "Central Park East/West"
          ],
          [
           "Central Park East/West"
          ],
          [
           "Central Park East/West"
          ],
          [
           "Central Park East/West"
          ],
          [
           "Central Park East/West"
          ],
          [
           "Central Park East/West"
          ],
          [
           "Central Park East/West"
          ],
          [
           "Central Park East/West"
          ],
          [
           "Central Park East/West"
          ],
          [
           "Central Park East/West"
          ],
          [
           "Central Park East/West"
          ],
          [
           "Central Park East/West"
          ],
          [
           "Central Park East/West"
          ],
          [
           "Central Park East/West"
          ],
          [
           "Central Park East/West"
          ],
          [
           "Central Park East/West"
          ],
          [
           "Central Park East/West"
          ],
          [
           "Central Park East/West"
          ],
          [
           "Central Park East/West"
          ],
          [
           "Central Park East/West"
          ],
          [
           "Central Park East/West"
          ],
          [
           "Central Park East/West"
          ],
          [
           "Central Park East/West"
          ],
          [
           "Central Park East/West"
          ],
          [
           "Central Park East/West"
          ],
          [
           "Central Park East/West"
          ],
          [
           "Central Park East/West"
          ],
          [
           "Central Park East/West"
          ],
          [
           "Central Park East/West"
          ],
          [
           "Central Park East/West"
          ],
          [
           "Central Park East/West"
          ],
          [
           "Central Park East/West"
          ],
          [
           "Central Park East/West"
          ],
          [
           "Central Park East/West"
          ],
          [
           "Central Park East/West"
          ],
          [
           "Central Park East/West"
          ],
          [
           "Central Park East/West"
          ],
          [
           "Central Park East/West"
          ],
          [
           "Central Park East/West"
          ],
          [
           "Central Park East/West"
          ],
          [
           "Central Park East/West"
          ],
          [
           "Central Park East/West"
          ],
          [
           "Central Park East/West"
          ],
          [
           "Central Park East/West"
          ],
          [
           "Central Park East/West"
          ],
          [
           "Central Park East/West"
          ],
          [
           "Central Park East/West"
          ],
          [
           "Central Park East/West"
          ],
          [
           "Central Park East/West"
          ],
          [
           "Central Park East/West"
          ],
          [
           "Central Park East/West"
          ],
          [
           "Central Park East/West"
          ],
          [
           "Central Park East/West"
          ],
          [
           "Central Park East/West"
          ],
          [
           "Central Park East/West"
          ],
          [
           "Central Park East/West"
          ],
          [
           "Central Park East/West"
          ],
          [
           "Central Park East/West"
          ],
          [
           "Central Park East/West"
          ],
          [
           "Central Park East/West"
          ],
          [
           "Central Park East/West"
          ],
          [
           "Central Park East/West"
          ],
          [
           "Central Park East/West"
          ],
          [
           "Central Park East/West"
          ],
          [
           "Central Park East/West"
          ],
          [
           "Central Park East/West"
          ],
          [
           "Central Park East/West"
          ],
          [
           "Central Park East/West"
          ],
          [
           "Central Park East/West"
          ],
          [
           "Central Park East/West"
          ],
          [
           "Central Park East/West"
          ],
          [
           "Central Park East/West"
          ],
          [
           "Central Park East/West"
          ],
          [
           "Central Park East/West"
          ],
          [
           "Central Park East/West"
          ],
          [
           "Central Park East/West"
          ],
          [
           "Central Park East/West"
          ],
          [
           "Central Park East/West"
          ],
          [
           "Central Park East/West"
          ],
          [
           "Central Park East/West"
          ],
          [
           "Central Park East/West"
          ],
          [
           "Central Park East/West"
          ],
          [
           "Central Park East/West"
          ],
          [
           "Central Park East/West"
          ],
          [
           "Central Park East/West"
          ],
          [
           "Central Park East/West"
          ],
          [
           "Central Park East/West"
          ],
          [
           "Central Park East/West"
          ],
          [
           "Central Park East/West"
          ],
          [
           "Central Park East/West"
          ],
          [
           "Central Park East/West"
          ],
          [
           "Central Park East/West"
          ],
          [
           "Central Park East/West"
          ],
          [
           "Central Park East/West"
          ],
          [
           "Central Park East/West"
          ],
          [
           "Central Park East/West"
          ],
          [
           "Central Park East/West"
          ],
          [
           "Central Park East/West"
          ],
          [
           "Central Park East/West"
          ],
          [
           "Central Park East/West"
          ],
          [
           "Central Park East/West"
          ],
          [
           "Central Park East/West"
          ],
          [
           "Central Park East/West"
          ],
          [
           "Central Park East/West"
          ],
          [
           "Central Park East/West"
          ],
          [
           "Central Park East/West"
          ],
          [
           "Central Park East/West"
          ],
          [
           "Central Park East/West"
          ],
          [
           "Central Park East/West"
          ],
          [
           "Central Park East/West"
          ],
          [
           "Central Park East/West"
          ],
          [
           "Central Park East/West"
          ],
          [
           "Central Park East/West"
          ],
          [
           "Central Park East/West"
          ],
          [
           "Central Park East/West"
          ],
          [
           "Central Park East/West"
          ],
          [
           "Central Park East/West"
          ],
          [
           "Central Park East/West"
          ],
          [
           "Central Park East/West"
          ],
          [
           "Central Park East/West"
          ],
          [
           "Central Park East/West"
          ],
          [
           "Central Park East/West"
          ]
         ],
         "hovertemplate": "concat=%{customdata[0]}<br>longitude=%{x}<br>latitude=%{y}<extra></extra>",
         "legendgroup": "Central Park East/West",
         "marker": {
          "color": "#00cc96",
          "symbol": "circle"
         },
         "mode": "markers",
         "name": "Central Park East/West",
         "showlegend": true,
         "type": "scattergl",
         "x": [
          -73.97283399999999,
          -73.97137,
          -73.988885,
          -73.972628,
          -73.988639,
          -73.978984,
          -73.966852,
          -73.94891899999999,
          -73.959757,
          -73.95772,
          -73.9646,
          -73.97648516,
          -73.967244,
          -73.962,
          -73.957481,
          -73.944,
          -73.977003,
          -73.985161,
          -73.959,
          -73.967596,
          -73.964839,
          -73.977825,
          -73.970694,
          -73.948033,
          -73.958184,
          -73.97620500000001,
          -73.955327,
          -73.958407,
          -73.979602,
          -73.977112,
          -73.97981999999999,
          -73.964179,
          -73.97399999999999,
          -73.960607,
          -73.968452,
          -73.976341,
          -73.99005,
          -73.97513000000001,
          -73.965,
          -73.979085,
          -73.983,
          -73.96222,
          -73.98191800000001,
          -73.98,
          -73.972095,
          -73.972078,
          -73.976673,
          -73.954274,
          -73.98128100000001,
          -73.9747,
          -73.962246,
          -73.967416,
          -73.971878,
          -73.96427299999999,
          -73.981693,
          -73.967641,
          -73.96685276,
          -73.985624,
          -73.955959,
          -73.977,
          -73.966033,
          -73.993928,
          -73.984705,
          -73.953,
          -73.973714,
          -73.971888,
          -73.96961715,
          -73.972889,
          -73.953,
          -73.960693,
          -73.973747,
          -73.989186,
          -73.958561,
          -73.96094000000001,
          -73.95675200000001,
          -73.97031366,
          -73.97757,
          -73.971,
          -73.982681,
          -73.990625,
          -73.982665,
          -73.978434,
          -73.967034,
          -73.952166,
          -73.990617,
          -73.982885,
          -73.98042,
          -73.983,
          -73.984527,
          -73.959009,
          -73.977549,
          -73.988038,
          -73.957722,
          -73.9668,
          -73.986,
          -73.98093133,
          -73.949892,
          -73.98899999999999,
          -73.974023,
          -73.981923,
          -73.977,
          -73.95577800000001,
          -73.967843,
          -73.96526800000001,
          -73.971211,
          -73.968,
          -73.974235,
          -73.962262,
          -73.9739,
          -73.981687,
          -73.97399999999999,
          -73.970415,
          -73.966382,
          -73.979068,
          -73.978081,
          -73.961199,
          -73.947721,
          -73.970325,
          -73.971,
          -73.954822,
          -73.94682,
          -73.96648977,
          -73.96409399999999,
          -73.978651,
          -73.992573,
          -73.982614,
          -73.95,
          -73.948813,
          -73.949655,
          -73.9536,
          -73.969305,
          -73.953,
          -73.959,
          -73.94604100000001,
          -73.965929,
          -73.96961715,
          -73.98899999999999
         ],
         "xaxis": "x",
         "y": [
          40.785,
          40.78275,
          40.779,
          40.761573,
          40.768254,
          40.777058000000004,
          40.77282817,
          40.782454,
          40.776173,
          40.779,
          40.763954,
          40.75992262,
          40.760999999999996,
          40.773763,
          40.785785100000005,
          40.775999999999996,
          40.793135,
          40.764,
          40.759107,
          40.75934501,
          40.791270000000004,
          40.773407,
          40.758281,
          40.77536905,
          40.76500525,
          40.775794,
          40.783502,
          40.768762,
          40.757936,
          40.786795,
          40.76133,
          40.756265,
          40.7941654,
          40.769943,
          40.768009,
          40.766999999999996,
          40.77237,
          40.75863,
          40.767801,
          40.782536,
          40.76228826,
          40.764719,
          40.77,
          40.779668,
          40.763026,
          40.757148,
          40.785247,
          40.774778999999995,
          40.787209000000004,
          40.78839,
          40.767128,
          40.756014,
          40.754601,
          40.776321,
          40.76695317,
          40.755293,
          40.773,
          40.782,
          40.781411,
          40.758,
          40.75797322,
          40.76727216,
          40.775999999999996,
          40.779,
          40.764397100000004,
          40.7937704,
          40.785,
          40.791,
          40.766999999999996,
          40.7781314,
          40.778968,
          40.77516,
          40.77314236,
          40.761227399999996,
          40.77573034,
          40.75968085,
          40.789621999999994,
          40.764,
          40.763441,
          40.771771,
          40.775999999999996,
          40.763201,
          40.7691572,
          40.782,
          40.766999999999996,
          40.77748046,
          40.760659999999994,
          40.785,
          40.760999999999996,
          40.77677702,
          40.778566999999995,
          40.770513,
          40.77112927,
          40.788665,
          40.766999999999996,
          40.78339981,
          40.773,
          40.764,
          40.759710999999996,
          40.7652654,
          40.780184000000006,
          40.773,
          40.752069,
          40.763126,
          40.782593,
          40.791956,
          40.757334,
          40.758924,
          40.7921,
          40.783786,
          40.755103000000005,
          40.7882213,
          40.75792,
          40.766999999999996,
          40.7597,
          40.768737,
          40.763909000000005,
          40.753231,
          40.766999999999996,
          40.768974,
          40.772461,
          40.76440023,
          40.771183,
          40.7829391,
          40.768333,
          40.773,
          40.775999999999996,
          40.779,
          40.782,
          40.757284000000006,
          40.757632,
          40.77140426,
          40.78307,
          40.779,
          40.75455731,
          40.78472675,
          40.771522
         ],
         "yaxis": "y"
        },
        {
         "customdata": [
          [
           "Uptown Manhattan"
          ],
          [
           "Uptown Manhattan"
          ],
          [
           "Uptown Manhattan"
          ],
          [
           "Uptown Manhattan"
          ],
          [
           "Uptown Manhattan"
          ],
          [
           "Uptown Manhattan"
          ],
          [
           "Uptown Manhattan"
          ],
          [
           "Uptown Manhattan"
          ],
          [
           "Uptown Manhattan"
          ],
          [
           "Uptown Manhattan"
          ],
          [
           "Uptown Manhattan"
          ],
          [
           "Uptown Manhattan"
          ],
          [
           "Uptown Manhattan"
          ],
          [
           "Uptown Manhattan"
          ],
          [
           "Uptown Manhattan"
          ],
          [
           "Uptown Manhattan"
          ],
          [
           "Uptown Manhattan"
          ],
          [
           "Uptown Manhattan"
          ],
          [
           "Uptown Manhattan"
          ],
          [
           "Uptown Manhattan"
          ],
          [
           "Uptown Manhattan"
          ],
          [
           "Uptown Manhattan"
          ],
          [
           "Uptown Manhattan"
          ],
          [
           "Uptown Manhattan"
          ],
          [
           "Uptown Manhattan"
          ],
          [
           "Uptown Manhattan"
          ],
          [
           "Uptown Manhattan"
          ],
          [
           "Uptown Manhattan"
          ],
          [
           "Uptown Manhattan"
          ],
          [
           "Uptown Manhattan"
          ],
          [
           "Uptown Manhattan"
          ],
          [
           "Uptown Manhattan"
          ],
          [
           "Uptown Manhattan"
          ],
          [
           "Uptown Manhattan"
          ],
          [
           "Uptown Manhattan"
          ],
          [
           "Uptown Manhattan"
          ],
          [
           "Uptown Manhattan"
          ],
          [
           "Uptown Manhattan"
          ],
          [
           "Uptown Manhattan"
          ],
          [
           "Uptown Manhattan"
          ],
          [
           "Uptown Manhattan"
          ],
          [
           "Uptown Manhattan"
          ],
          [
           "Uptown Manhattan"
          ],
          [
           "Uptown Manhattan"
          ],
          [
           "Uptown Manhattan"
          ],
          [
           "Uptown Manhattan"
          ],
          [
           "Uptown Manhattan"
          ],
          [
           "Uptown Manhattan"
          ],
          [
           "Uptown Manhattan"
          ],
          [
           "Uptown Manhattan"
          ],
          [
           "Uptown Manhattan"
          ],
          [
           "Uptown Manhattan"
          ],
          [
           "Uptown Manhattan"
          ],
          [
           "Uptown Manhattan"
          ],
          [
           "Uptown Manhattan"
          ],
          [
           "Uptown Manhattan"
          ],
          [
           "Uptown Manhattan"
          ],
          [
           "Uptown Manhattan"
          ],
          [
           "Uptown Manhattan"
          ],
          [
           "Uptown Manhattan"
          ],
          [
           "Uptown Manhattan"
          ],
          [
           "Uptown Manhattan"
          ],
          [
           "Uptown Manhattan"
          ],
          [
           "Uptown Manhattan"
          ],
          [
           "Uptown Manhattan"
          ],
          [
           "Uptown Manhattan"
          ],
          [
           "Uptown Manhattan"
          ],
          [
           "Uptown Manhattan"
          ],
          [
           "Uptown Manhattan"
          ],
          [
           "Uptown Manhattan"
          ],
          [
           "Uptown Manhattan"
          ],
          [
           "Uptown Manhattan"
          ],
          [
           "Uptown Manhattan"
          ],
          [
           "Uptown Manhattan"
          ],
          [
           "Uptown Manhattan"
          ],
          [
           "Uptown Manhattan"
          ],
          [
           "Uptown Manhattan"
          ],
          [
           "Uptown Manhattan"
          ],
          [
           "Uptown Manhattan"
          ],
          [
           "Uptown Manhattan"
          ],
          [
           "Uptown Manhattan"
          ],
          [
           "Uptown Manhattan"
          ],
          [
           "Uptown Manhattan"
          ],
          [
           "Uptown Manhattan"
          ],
          [
           "Uptown Manhattan"
          ],
          [
           "Uptown Manhattan"
          ],
          [
           "Uptown Manhattan"
          ],
          [
           "Uptown Manhattan"
          ],
          [
           "Uptown Manhattan"
          ],
          [
           "Uptown Manhattan"
          ],
          [
           "Uptown Manhattan"
          ],
          [
           "Uptown Manhattan"
          ],
          [
           "Uptown Manhattan"
          ],
          [
           "Uptown Manhattan"
          ],
          [
           "Uptown Manhattan"
          ],
          [
           "Uptown Manhattan"
          ],
          [
           "Uptown Manhattan"
          ],
          [
           "Uptown Manhattan"
          ],
          [
           "Uptown Manhattan"
          ],
          [
           "Uptown Manhattan"
          ],
          [
           "Uptown Manhattan"
          ],
          [
           "Uptown Manhattan"
          ],
          [
           "Uptown Manhattan"
          ],
          [
           "Uptown Manhattan"
          ],
          [
           "Uptown Manhattan"
          ],
          [
           "Uptown Manhattan"
          ],
          [
           "Uptown Manhattan"
          ],
          [
           "Uptown Manhattan"
          ],
          [
           "Uptown Manhattan"
          ],
          [
           "Uptown Manhattan"
          ],
          [
           "Uptown Manhattan"
          ],
          [
           "Uptown Manhattan"
          ],
          [
           "Uptown Manhattan"
          ],
          [
           "Uptown Manhattan"
          ],
          [
           "Uptown Manhattan"
          ],
          [
           "Uptown Manhattan"
          ],
          [
           "Uptown Manhattan"
          ],
          [
           "Uptown Manhattan"
          ],
          [
           "Uptown Manhattan"
          ],
          [
           "Uptown Manhattan"
          ],
          [
           "Uptown Manhattan"
          ],
          [
           "Uptown Manhattan"
          ],
          [
           "Uptown Manhattan"
          ],
          [
           "Uptown Manhattan"
          ],
          [
           "Uptown Manhattan"
          ],
          [
           "Uptown Manhattan"
          ],
          [
           "Uptown Manhattan"
          ],
          [
           "Uptown Manhattan"
          ],
          [
           "Uptown Manhattan"
          ],
          [
           "Uptown Manhattan"
          ],
          [
           "Uptown Manhattan"
          ],
          [
           "Uptown Manhattan"
          ],
          [
           "Uptown Manhattan"
          ],
          [
           "Uptown Manhattan"
          ],
          [
           "Uptown Manhattan"
          ],
          [
           "Uptown Manhattan"
          ],
          [
           "Uptown Manhattan"
          ],
          [
           "Uptown Manhattan"
          ]
         ],
         "hovertemplate": "concat=%{customdata[0]}<br>longitude=%{x}<br>latitude=%{y}<extra></extra>",
         "legendgroup": "Uptown Manhattan",
         "marker": {
          "color": "#ab63fa",
          "symbol": "circle"
         },
         "mode": "markers",
         "name": "Uptown Manhattan",
         "showlegend": true,
         "type": "scattergl",
         "x": [
          -73.93891500000001,
          -73.933334,
          -73.934077,
          -73.947764,
          -73.94425,
          -73.936254,
          -73.966494,
          -73.94594000000001,
          -73.939336,
          -73.945925,
          -73.966449,
          -73.95,
          -73.957163,
          -73.9645,
          -73.964341,
          -73.95033000000001,
          -73.938,
          -73.94370699999999,
          -73.95206,
          -73.95469200000001,
          -73.961589,
          -73.94860200000001,
          -73.935856,
          -73.96417,
          -73.962,
          -73.94945,
          -73.93504,
          -73.941427,
          -73.93726099999999,
          -73.95474300000001,
          -73.947257,
          -73.945208,
          -73.942295,
          -73.9349,
          -73.95042600000001,
          -73.952499,
          -73.9634,
          -73.95242900000001,
          -73.97114499999999,
          -73.960708,
          -73.956461,
          -73.947283,
          -73.9383,
          -73.936322,
          -73.941928,
          -73.951877,
          -73.96295,
          -73.953,
          -73.938787,
          -73.941994,
          -73.94386,
          -73.936521,
          -73.946168,
          -73.959,
          -73.948222,
          -73.947,
          -73.964928,
          -73.933509,
          -73.942954,
          -73.956,
          -73.946665,
          -73.939686,
          -73.941057,
          -73.93608499999999,
          -73.951335,
          -73.944123,
          -73.959089,
          -73.96040500000001,
          -73.951475,
          -73.94427900000001,
          -73.9597,
          -73.9641,
          -73.96699100000001,
          -73.93973000000001,
          -73.953242,
          -73.941878,
          -73.95324699999999,
          -73.942924,
          -73.953149,
          -73.94521,
          -73.94716700000001,
          -73.937838,
          -73.951989,
          -73.945909,
          -73.950503,
          -73.941648,
          -73.94160600000001,
          -73.947568,
          -73.970411,
          -73.93794799999999,
          -73.945144,
          -73.957364,
          -73.959,
          -73.951819,
          -73.95515,
          -73.954295,
          -73.949228,
          -73.945525,
          -73.943208,
          -73.93623199999999,
          -73.955277,
          -73.94174699999999,
          -73.949078,
          -73.949738,
          -73.951346,
          -73.941616,
          -73.937413,
          -73.952761,
          -73.96059,
          -73.94306800000001,
          -73.96818,
          -73.955857,
          -73.944846,
          -73.91906,
          -73.945993,
          -73.936153,
          -73.935971,
          -73.949373,
          -73.96186,
          -73.947,
          -73.95593000000001,
          -73.961254,
          -73.9379,
          -73.939249,
          -73.942722,
          -73.931184,
          -73.950988,
          -73.962,
          -73.93981600000001,
          -73.949702,
          -73.9423,
          -73.95615600000001,
          -73.9523,
          -73.955613,
          -73.948222,
          -73.947868,
          -73.93719499999999,
          -73.939562
         ],
         "xaxis": "x",
         "y": [
          40.799139000000004,
          40.794988000000004,
          40.805631,
          40.809495,
          40.801487,
          40.79456629999999,
          40.799040999999995,
          40.782,
          40.813619,
          40.804038,
          40.800836,
          40.801194,
          40.817555,
          40.795,
          40.796935,
          40.790483,
          40.809,
          40.789211,
          40.788129999999995,
          40.805159,
          40.796037,
          40.7859201,
          40.815484000000005,
          40.792495,
          40.794000000000004,
          40.793434000000005,
          40.797470000000004,
          40.826881,
          40.797,
          40.824013,
          40.825244,
          40.808442,
          40.816959999999995,
          40.8006721,
          40.829114000000004,
          40.792255299999994,
          40.8109494,
          40.789485,
          40.801343,
          40.8067581,
          40.813358,
          40.787721399999995,
          40.7923272,
          40.805726,
          40.823060999999996,
          40.8114323,
          40.802692,
          40.788000000000004,
          40.817245,
          40.800539,
          40.823498,
          40.819783,
          40.812346000000005,
          40.815,
          40.816234,
          40.797,
          40.806,
          40.802554,
          40.80295,
          40.803000000000004,
          40.831327,
          40.804556,
          40.819241,
          40.806414000000004,
          40.796170000000004,
          40.79541210000001,
          40.820003,
          40.818298999999996,
          40.804372,
          40.829522999999995,
          40.7903,
          40.8082,
          40.804213,
          40.810140000000004,
          40.802535,
          40.81296,
          40.814394,
          40.828309999999995,
          40.809725,
          40.813539,
          40.783964000000005,
          40.812191,
          40.827304999999996,
          40.827075,
          40.7849032,
          40.786995000000005,
          40.795508,
          40.818477,
          40.797372100000004,
          40.826406,
          40.820681,
          40.810285,
          40.809,
          40.819746,
          40.81,
          40.816355,
          40.8125511,
          40.786259,
          40.793296999999995,
          40.825289,
          40.818212,
          40.806979999999996,
          40.802557,
          40.826969,
          40.822756,
          40.825125,
          40.82281,
          40.821728,
          40.798186,
          40.8107922,
          40.802116999999996,
          40.823168,
          40.798945,
          40.79558,
          40.791976,
          40.81449,
          40.821111,
          40.809,
          40.795346,
          40.791,
          40.8038654,
          40.8120562,
          40.802926299999996,
          40.820877,
          40.827212,
          40.7974772,
          40.818215,
          40.8,
          40.801307,
          40.832164,
          40.797911,
          40.8190344,
          40.798786,
          40.8,
          40.816234,
          40.821294,
          40.810224,
          40.789253
         ],
         "yaxis": "y"
        },
        {
         "customdata": [
          [
           "Downtown Manhattan"
          ],
          [
           "Downtown Manhattan"
          ],
          [
           "Downtown Manhattan"
          ],
          [
           "Downtown Manhattan"
          ],
          [
           "Downtown Manhattan"
          ],
          [
           "Downtown Manhattan"
          ],
          [
           "Downtown Manhattan"
          ],
          [
           "Downtown Manhattan"
          ],
          [
           "Downtown Manhattan"
          ],
          [
           "Downtown Manhattan"
          ],
          [
           "Downtown Manhattan"
          ],
          [
           "Downtown Manhattan"
          ],
          [
           "Downtown Manhattan"
          ],
          [
           "Downtown Manhattan"
          ],
          [
           "Downtown Manhattan"
          ],
          [
           "Downtown Manhattan"
          ],
          [
           "Downtown Manhattan"
          ],
          [
           "Downtown Manhattan"
          ],
          [
           "Downtown Manhattan"
          ],
          [
           "Downtown Manhattan"
          ],
          [
           "Downtown Manhattan"
          ],
          [
           "Downtown Manhattan"
          ],
          [
           "Downtown Manhattan"
          ],
          [
           "Downtown Manhattan"
          ],
          [
           "Downtown Manhattan"
          ],
          [
           "Downtown Manhattan"
          ],
          [
           "Downtown Manhattan"
          ],
          [
           "Downtown Manhattan"
          ],
          [
           "Downtown Manhattan"
          ],
          [
           "Downtown Manhattan"
          ],
          [
           "Downtown Manhattan"
          ],
          [
           "Downtown Manhattan"
          ],
          [
           "Downtown Manhattan"
          ],
          [
           "Downtown Manhattan"
          ],
          [
           "Downtown Manhattan"
          ],
          [
           "Downtown Manhattan"
          ],
          [
           "Downtown Manhattan"
          ],
          [
           "Downtown Manhattan"
          ],
          [
           "Downtown Manhattan"
          ],
          [
           "Downtown Manhattan"
          ],
          [
           "Downtown Manhattan"
          ],
          [
           "Downtown Manhattan"
          ],
          [
           "Downtown Manhattan"
          ],
          [
           "Downtown Manhattan"
          ],
          [
           "Downtown Manhattan"
          ],
          [
           "Downtown Manhattan"
          ],
          [
           "Downtown Manhattan"
          ],
          [
           "Downtown Manhattan"
          ],
          [
           "Downtown Manhattan"
          ],
          [
           "Downtown Manhattan"
          ],
          [
           "Downtown Manhattan"
          ],
          [
           "Downtown Manhattan"
          ],
          [
           "Downtown Manhattan"
          ],
          [
           "Downtown Manhattan"
          ],
          [
           "Downtown Manhattan"
          ],
          [
           "Downtown Manhattan"
          ],
          [
           "Downtown Manhattan"
          ],
          [
           "Downtown Manhattan"
          ],
          [
           "Downtown Manhattan"
          ],
          [
           "Downtown Manhattan"
          ],
          [
           "Downtown Manhattan"
          ],
          [
           "Downtown Manhattan"
          ],
          [
           "Downtown Manhattan"
          ],
          [
           "Downtown Manhattan"
          ],
          [
           "Downtown Manhattan"
          ],
          [
           "Downtown Manhattan"
          ],
          [
           "Downtown Manhattan"
          ],
          [
           "Downtown Manhattan"
          ],
          [
           "Downtown Manhattan"
          ],
          [
           "Downtown Manhattan"
          ],
          [
           "Downtown Manhattan"
          ],
          [
           "Downtown Manhattan"
          ],
          [
           "Downtown Manhattan"
          ],
          [
           "Downtown Manhattan"
          ],
          [
           "Downtown Manhattan"
          ],
          [
           "Downtown Manhattan"
          ],
          [
           "Downtown Manhattan"
          ],
          [
           "Downtown Manhattan"
          ],
          [
           "Downtown Manhattan"
          ],
          [
           "Downtown Manhattan"
          ],
          [
           "Downtown Manhattan"
          ],
          [
           "Downtown Manhattan"
          ],
          [
           "Downtown Manhattan"
          ],
          [
           "Downtown Manhattan"
          ],
          [
           "Downtown Manhattan"
          ],
          [
           "Downtown Manhattan"
          ],
          [
           "Downtown Manhattan"
          ],
          [
           "Downtown Manhattan"
          ],
          [
           "Downtown Manhattan"
          ],
          [
           "Downtown Manhattan"
          ],
          [
           "Downtown Manhattan"
          ],
          [
           "Downtown Manhattan"
          ],
          [
           "Downtown Manhattan"
          ],
          [
           "Downtown Manhattan"
          ],
          [
           "Downtown Manhattan"
          ],
          [
           "Downtown Manhattan"
          ],
          [
           "Downtown Manhattan"
          ],
          [
           "Downtown Manhattan"
          ],
          [
           "Downtown Manhattan"
          ],
          [
           "Downtown Manhattan"
          ],
          [
           "Downtown Manhattan"
          ],
          [
           "Downtown Manhattan"
          ],
          [
           "Downtown Manhattan"
          ],
          [
           "Downtown Manhattan"
          ],
          [
           "Downtown Manhattan"
          ],
          [
           "Downtown Manhattan"
          ],
          [
           "Downtown Manhattan"
          ],
          [
           "Downtown Manhattan"
          ],
          [
           "Downtown Manhattan"
          ],
          [
           "Downtown Manhattan"
          ],
          [
           "Downtown Manhattan"
          ],
          [
           "Downtown Manhattan"
          ],
          [
           "Downtown Manhattan"
          ],
          [
           "Downtown Manhattan"
          ],
          [
           "Downtown Manhattan"
          ],
          [
           "Downtown Manhattan"
          ],
          [
           "Downtown Manhattan"
          ],
          [
           "Downtown Manhattan"
          ],
          [
           "Downtown Manhattan"
          ],
          [
           "Downtown Manhattan"
          ],
          [
           "Downtown Manhattan"
          ],
          [
           "Downtown Manhattan"
          ],
          [
           "Downtown Manhattan"
          ],
          [
           "Downtown Manhattan"
          ],
          [
           "Downtown Manhattan"
          ],
          [
           "Downtown Manhattan"
          ],
          [
           "Downtown Manhattan"
          ],
          [
           "Downtown Manhattan"
          ],
          [
           "Downtown Manhattan"
          ],
          [
           "Downtown Manhattan"
          ],
          [
           "Downtown Manhattan"
          ],
          [
           "Downtown Manhattan"
          ],
          [
           "Downtown Manhattan"
          ],
          [
           "Downtown Manhattan"
          ],
          [
           "Downtown Manhattan"
          ],
          [
           "Downtown Manhattan"
          ],
          [
           "Downtown Manhattan"
          ],
          [
           "Downtown Manhattan"
          ]
         ],
         "hovertemplate": "concat=%{customdata[0]}<br>longitude=%{x}<br>latitude=%{y}<extra></extra>",
         "legendgroup": "Downtown Manhattan",
         "marker": {
          "color": "#FFA15A",
          "symbol": "circle"
         },
         "mode": "markers",
         "name": "Downtown Manhattan",
         "showlegend": true,
         "type": "scattergl",
         "x": [
          -74.007221,
          -74.005627,
          -73.994223,
          -74.00234737,
          -73.99974300000001,
          -74.01324699999999,
          -73.986274,
          -74.010202,
          -74.006536,
          -74.013012,
          -74.002149,
          -73.99810231,
          -73.996732,
          -73.994463,
          -74.009447,
          -74.01169300000001,
          -73.995652,
          -74.005549,
          -73.98416999999999,
          -74.011223,
          -74.00887,
          -74.004386,
          -74.006125,
          -74.016,
          -73.981095,
          -73.993161,
          -74.001,
          -73.999496,
          -74.00166999999999,
          -73.986168,
          -74.01129499999999,
          -73.983298,
          -73.97793100000001,
          -74.000263,
          -74.00859100000001,
          -73.98978000000001,
          -74.007717,
          -73.979954,
          -73.981854,
          -74.005362,
          -73.98583599999999,
          -74.005664,
          -74.00838676,
          -73.976687,
          -74.00926,
          -73.97628900000001,
          -74.000472,
          -74.00666600000001,
          -74.01198000000001,
          -74.009,
          -74.007867,
          -74.002344,
          -74.002751,
          -73.992939,
          -73.986389,
          -73.98899999999999,
          -73.991479,
          -74.02535300000001,
          -74.00731800000001,
          -74.00399999999999,
          -73.991907,
          -73.9948,
          -73.99973299999999,
          -74.013942,
          -73.979481,
          -73.990696,
          -73.99662099999999,
          -74.000165,
          -74.007,
          -74.00165799999999,
          -73.995101,
          -74.009105,
          -73.995,
          -74.0103,
          -74.00697,
          -73.99379,
          -73.998,
          -73.994003,
          -73.98,
          -74.012342,
          -74.006744,
          -73.98899999999999,
          -74.009659,
          -74.00296999999999,
          -73.98783399999999,
          -73.99906,
          -74.01575600000001,
          -74.004607,
          -74.004322,
          -74.006702,
          -74.014865,
          -73.988649,
          -74.013,
          -73.989111,
          -74.00495,
          -73.996826,
          -73.995101,
          -74.008769,
          -73.999687,
          -74.008873,
          -73.990993,
          -73.992662,
          -74.01043382,
          -74.01507,
          -74.008514,
          -74.01361700000001,
          -73.998,
          -74.017134,
          -74.007653,
          -74.016,
          -73.98178,
          -73.99193000000001,
          -74.00636999999999,
          -74.005524,
          -73.991925,
          -74.009106,
          -73.997249,
          -73.99704679999999,
          -73.987029,
          -74.010065,
          -73.985179,
          -74.014847,
          -73.983,
          -74.009354,
          -73.9899,
          -73.980165,
          -73.994046,
          -73.991475,
          -74.012723,
          -74.011677,
          -73.986726,
          -74.009355,
          -73.984844,
          -74.00530063,
          -73.982612,
          -74.01045500000001,
          -73.987763,
          -73.98801999999999
         ],
         "xaxis": "x",
         "y": [
          40.70862144,
          40.714504999999996,
          40.716,
          40.7217,
          40.71602118,
          40.709267,
          40.720746999999996,
          40.71291224,
          40.71,
          40.714979,
          40.730385999999996,
          40.72917025,
          40.714193,
          40.713107,
          40.711065999999995,
          40.728487,
          40.724561,
          40.719,
          40.715119,
          40.714852,
          40.73115,
          40.707722,
          40.70531,
          40.707,
          40.714215,
          40.717797999999995,
          40.71939226,
          40.72362738,
          40.707873,
          40.726331,
          40.727714,
          40.71850211,
          40.72082834,
          40.73224119,
          40.728846000000004,
          40.726281,
          40.721854,
          40.72299208,
          40.72453734,
          40.727897,
          40.723077,
          40.722438000000004,
          40.703799200000006,
          40.722281,
          40.704718,
          40.71782143,
          40.726378000000004,
          40.719116,
          40.72866,
          40.719,
          40.703367,
          40.71494807,
          40.708484999999996,
          40.714067,
          40.725864,
          40.704,
          40.719383,
          40.685126000000004,
          40.707065,
          40.725,
          40.716059,
          40.72318,
          40.71910537,
          40.701907,
          40.713,
          40.725029,
          40.727064,
          40.71117416,
          40.734,
          40.724947,
          40.726156,
          40.71625008,
          40.719,
          40.720195000000004,
          40.73498,
          40.72743423,
          40.72917025,
          40.71076228,
          40.722,
          40.70122128,
          40.73172428,
          40.720196,
          40.72405549,
          40.727103,
          40.724677,
          40.73047747,
          40.711512,
          40.712733,
          40.710322999999995,
          40.703554,
          40.692316999999996,
          40.723356,
          40.719,
          40.722055,
          40.70838,
          40.71117444,
          40.726156,
          40.731911,
          40.728401,
          40.70717936,
          40.72769,
          40.71893904,
          40.70905623,
          40.70463,
          40.733424,
          40.70463334,
          40.71307916,
          40.708346999999996,
          40.725840000000005,
          40.716,
          40.719260999999996,
          40.713,
          40.704370000000004,
          40.711464,
          40.721101000000004,
          40.71474,
          40.722103999999995,
          40.71413089,
          40.71559509,
          40.721319,
          40.72066442,
          40.711444,
          40.72217444,
          40.708589,
          40.714275,
          40.7174,
          40.72903917,
          40.72229346,
          40.702551,
          40.704,
          40.711471,
          40.713342,
          40.713126,
          40.70823502,
          40.71622644,
          40.717488,
          40.71269042,
          40.7172274
         ],
         "yaxis": "y"
        },
        {
         "customdata": [
          [
           "Midtown Manhattan"
          ],
          [
           "Midtown Manhattan"
          ],
          [
           "Midtown Manhattan"
          ],
          [
           "Midtown Manhattan"
          ],
          [
           "Midtown Manhattan"
          ],
          [
           "Midtown Manhattan"
          ],
          [
           "Midtown Manhattan"
          ],
          [
           "Midtown Manhattan"
          ],
          [
           "Midtown Manhattan"
          ],
          [
           "Midtown Manhattan"
          ],
          [
           "Midtown Manhattan"
          ],
          [
           "Midtown Manhattan"
          ],
          [
           "Midtown Manhattan"
          ],
          [
           "Midtown Manhattan"
          ],
          [
           "Midtown Manhattan"
          ],
          [
           "Midtown Manhattan"
          ],
          [
           "Midtown Manhattan"
          ],
          [
           "Midtown Manhattan"
          ],
          [
           "Midtown Manhattan"
          ],
          [
           "Midtown Manhattan"
          ],
          [
           "Midtown Manhattan"
          ],
          [
           "Midtown Manhattan"
          ],
          [
           "Midtown Manhattan"
          ],
          [
           "Midtown Manhattan"
          ],
          [
           "Midtown Manhattan"
          ],
          [
           "Midtown Manhattan"
          ],
          [
           "Midtown Manhattan"
          ],
          [
           "Midtown Manhattan"
          ],
          [
           "Midtown Manhattan"
          ],
          [
           "Midtown Manhattan"
          ],
          [
           "Midtown Manhattan"
          ],
          [
           "Midtown Manhattan"
          ],
          [
           "Midtown Manhattan"
          ],
          [
           "Midtown Manhattan"
          ],
          [
           "Midtown Manhattan"
          ],
          [
           "Midtown Manhattan"
          ],
          [
           "Midtown Manhattan"
          ],
          [
           "Midtown Manhattan"
          ],
          [
           "Midtown Manhattan"
          ],
          [
           "Midtown Manhattan"
          ],
          [
           "Midtown Manhattan"
          ],
          [
           "Midtown Manhattan"
          ],
          [
           "Midtown Manhattan"
          ],
          [
           "Midtown Manhattan"
          ],
          [
           "Midtown Manhattan"
          ],
          [
           "Midtown Manhattan"
          ],
          [
           "Midtown Manhattan"
          ],
          [
           "Midtown Manhattan"
          ],
          [
           "Midtown Manhattan"
          ],
          [
           "Midtown Manhattan"
          ],
          [
           "Midtown Manhattan"
          ],
          [
           "Midtown Manhattan"
          ],
          [
           "Midtown Manhattan"
          ],
          [
           "Midtown Manhattan"
          ],
          [
           "Midtown Manhattan"
          ],
          [
           "Midtown Manhattan"
          ],
          [
           "Midtown Manhattan"
          ],
          [
           "Midtown Manhattan"
          ],
          [
           "Midtown Manhattan"
          ],
          [
           "Midtown Manhattan"
          ],
          [
           "Midtown Manhattan"
          ],
          [
           "Midtown Manhattan"
          ],
          [
           "Midtown Manhattan"
          ],
          [
           "Midtown Manhattan"
          ],
          [
           "Midtown Manhattan"
          ],
          [
           "Midtown Manhattan"
          ],
          [
           "Midtown Manhattan"
          ],
          [
           "Midtown Manhattan"
          ],
          [
           "Midtown Manhattan"
          ],
          [
           "Midtown Manhattan"
          ],
          [
           "Midtown Manhattan"
          ],
          [
           "Midtown Manhattan"
          ],
          [
           "Midtown Manhattan"
          ],
          [
           "Midtown Manhattan"
          ],
          [
           "Midtown Manhattan"
          ],
          [
           "Midtown Manhattan"
          ],
          [
           "Midtown Manhattan"
          ],
          [
           "Midtown Manhattan"
          ],
          [
           "Midtown Manhattan"
          ],
          [
           "Midtown Manhattan"
          ],
          [
           "Midtown Manhattan"
          ],
          [
           "Midtown Manhattan"
          ],
          [
           "Midtown Manhattan"
          ],
          [
           "Midtown Manhattan"
          ],
          [
           "Midtown Manhattan"
          ],
          [
           "Midtown Manhattan"
          ],
          [
           "Midtown Manhattan"
          ],
          [
           "Midtown Manhattan"
          ],
          [
           "Midtown Manhattan"
          ],
          [
           "Midtown Manhattan"
          ],
          [
           "Midtown Manhattan"
          ],
          [
           "Midtown Manhattan"
          ],
          [
           "Midtown Manhattan"
          ],
          [
           "Midtown Manhattan"
          ],
          [
           "Midtown Manhattan"
          ],
          [
           "Midtown Manhattan"
          ],
          [
           "Midtown Manhattan"
          ],
          [
           "Midtown Manhattan"
          ],
          [
           "Midtown Manhattan"
          ],
          [
           "Midtown Manhattan"
          ],
          [
           "Midtown Manhattan"
          ],
          [
           "Midtown Manhattan"
          ],
          [
           "Midtown Manhattan"
          ],
          [
           "Midtown Manhattan"
          ],
          [
           "Midtown Manhattan"
          ],
          [
           "Midtown Manhattan"
          ],
          [
           "Midtown Manhattan"
          ],
          [
           "Midtown Manhattan"
          ],
          [
           "Midtown Manhattan"
          ],
          [
           "Midtown Manhattan"
          ],
          [
           "Midtown Manhattan"
          ],
          [
           "Midtown Manhattan"
          ],
          [
           "Midtown Manhattan"
          ],
          [
           "Midtown Manhattan"
          ],
          [
           "Midtown Manhattan"
          ],
          [
           "Midtown Manhattan"
          ],
          [
           "Midtown Manhattan"
          ],
          [
           "Midtown Manhattan"
          ],
          [
           "Midtown Manhattan"
          ],
          [
           "Midtown Manhattan"
          ],
          [
           "Midtown Manhattan"
          ],
          [
           "Midtown Manhattan"
          ],
          [
           "Midtown Manhattan"
          ],
          [
           "Midtown Manhattan"
          ],
          [
           "Midtown Manhattan"
          ],
          [
           "Midtown Manhattan"
          ],
          [
           "Midtown Manhattan"
          ],
          [
           "Midtown Manhattan"
          ],
          [
           "Midtown Manhattan"
          ],
          [
           "Midtown Manhattan"
          ],
          [
           "Midtown Manhattan"
          ],
          [
           "Midtown Manhattan"
          ],
          [
           "Midtown Manhattan"
          ],
          [
           "Midtown Manhattan"
          ],
          [
           "Midtown Manhattan"
          ],
          [
           "Midtown Manhattan"
          ],
          [
           "Midtown Manhattan"
          ],
          [
           "Midtown Manhattan"
          ],
          [
           "Midtown Manhattan"
          ],
          [
           "Midtown Manhattan"
          ],
          [
           "Midtown Manhattan"
          ],
          [
           "Midtown Manhattan"
          ],
          [
           "Midtown Manhattan"
          ],
          [
           "Midtown Manhattan"
          ],
          [
           "Midtown Manhattan"
          ],
          [
           "Midtown Manhattan"
          ],
          [
           "Midtown Manhattan"
          ],
          [
           "Midtown Manhattan"
          ],
          [
           "Midtown Manhattan"
          ],
          [
           "Midtown Manhattan"
          ],
          [
           "Midtown Manhattan"
          ],
          [
           "Midtown Manhattan"
          ],
          [
           "Midtown Manhattan"
          ],
          [
           "Midtown Manhattan"
          ],
          [
           "Midtown Manhattan"
          ],
          [
           "Midtown Manhattan"
          ],
          [
           "Midtown Manhattan"
          ],
          [
           "Midtown Manhattan"
          ],
          [
           "Midtown Manhattan"
          ],
          [
           "Midtown Manhattan"
          ],
          [
           "Midtown Manhattan"
          ],
          [
           "Midtown Manhattan"
          ],
          [
           "Midtown Manhattan"
          ],
          [
           "Midtown Manhattan"
          ],
          [
           "Midtown Manhattan"
          ],
          [
           "Midtown Manhattan"
          ],
          [
           "Midtown Manhattan"
          ],
          [
           "Midtown Manhattan"
          ],
          [
           "Midtown Manhattan"
          ],
          [
           "Midtown Manhattan"
          ],
          [
           "Midtown Manhattan"
          ]
         ],
         "hovertemplate": "concat=%{customdata[0]}<br>longitude=%{x}<br>latitude=%{y}<extra></extra>",
         "legendgroup": "Midtown Manhattan",
         "marker": {
          "color": "#19d3f3",
          "symbol": "circle"
         },
         "mode": "markers",
         "name": "Midtown Manhattan",
         "showlegend": true,
         "type": "scattergl",
         "x": [
          -73.99093,
          -73.98658,
          -73.978092,
          -73.977885,
          -73.983,
          -73.99490300000001,
          -74.008119,
          -73.984092,
          -73.980544,
          -74.00514100000001,
          -73.996429,
          -74.006817,
          -73.998,
          -73.99431,
          -73.99663699999999,
          -74.00506999999999,
          -74.002353,
          -73.992,
          -73.98057249,
          -73.994564,
          -73.99125500000001,
          -73.986,
          -73.9916,
          -73.983,
          -74.00295,
          -74.001,
          -73.995,
          -73.9788,
          -73.977,
          -73.99144799999999,
          -73.997401,
          -73.99839200000001,
          -73.986,
          -73.98,
          -73.99011,
          -73.983,
          -73.975738,
          -73.97113,
          -73.987882,
          -73.977292,
          -73.97399999999999,
          -74.001768,
          -73.990741,
          -73.98953900000001,
          -73.992,
          -73.971387,
          -73.984267,
          -73.983293,
          -73.993012,
          -73.98205,
          -73.98808416,
          -74.007,
          -73.98490699999999,
          -74.00618,
          -73.975748,
          -73.971212,
          -73.99158043,
          -73.98751899999999,
          -73.996674,
          -73.98316936,
          -74.00264,
          -74.001,
          -73.97499599999999,
          -73.986713,
          -74.003664,
          -73.971214,
          -73.969053,
          -73.993799,
          -74.00483,
          -73.998522,
          -73.9789838,
          -73.98163199999999,
          -73.98,
          -73.986,
          -73.973984,
          -73.993934,
          -73.988557,
          -73.987973,
          -73.98263100000001,
          -73.982079,
          -73.98471500000001,
          -74.000271,
          -73.99372222,
          -73.997262,
          -73.982153,
          -73.97344190000001,
          -73.99468399999999,
          -73.977,
          -73.979504,
          -74.001,
          -73.977,
          -73.977,
          -73.981948,
          -73.988596,
          -73.98899999999999,
          -73.983,
          -73.99516700000001,
          -73.980144,
          -73.98291153,
          -74.003675,
          -74.002938,
          -73.987654,
          -73.988899,
          -73.991943,
          -74.00859200000001,
          -73.97422494,
          -74.00004,
          -73.986,
          -74.008315,
          -73.97574813,
          -73.97680600000001,
          -73.984737,
          -73.985302,
          -73.97966,
          -73.979737,
          -73.97574813,
          -73.981655,
          -73.975158,
          -73.99800400000001,
          -73.996975,
          -73.993915,
          -73.97992099999999,
          -73.99453948,
          -73.990752,
          -73.998,
          -73.97399999999999,
          -73.990985,
          -73.9916,
          -73.98165557,
          -73.995816,
          -73.98805,
          -73.977724,
          -73.99138152,
          -73.998,
          -73.985649,
          -73.99704374,
          -74.002776,
          -73.98899999999999,
          -73.977687,
          -74.00170200000001,
          -74.000939,
          -73.997235,
          -73.98974,
          -73.99529799999999,
          -73.972826,
          -73.996088,
          -73.991026,
          -73.976831,
          -73.97822099999999,
          -74.007,
          -73.988483,
          -73.98,
          -73.987216,
          -74.002637,
          -73.97604882,
          -73.98455,
          -73.989551,
          -73.989186,
          -73.986723,
          -74.004518,
          -73.999946,
          -73.994618,
          -73.98255,
          -73.977,
          -74.00399999999999,
          -73.98849,
          -74.005274,
          -73.99176999999999,
          -73.994155,
          -73.9979,
          -73.987535
         ],
         "xaxis": "x",
         "y": [
          40.7502,
          40.755136,
          40.741724,
          40.746524,
          40.741459000000006,
          40.731437,
          40.739323,
          40.740259,
          40.733812,
          40.745686,
          40.738046000000004,
          40.74334935,
          40.760999999999996,
          40.735445,
          40.747968,
          40.739447999999996,
          40.752694,
          40.73492695,
          40.72955361,
          40.73971301,
          40.760999999999996,
          40.734232,
          40.749156,
          40.75038009,
          40.749718,
          40.755942,
          40.734,
          40.747574,
          40.736999999999995,
          40.74395411,
          40.754692,
          40.750073,
          40.74096374,
          40.731,
          40.732647,
          40.726217999999996,
          40.734,
          40.74714,
          40.76227205,
          40.749499,
          40.743227000000005,
          40.750664,
          40.734546,
          40.752148999999996,
          40.737262,
          40.751184,
          40.72953837,
          40.741459000000006,
          40.762699,
          40.736999999999995,
          40.74854862,
          40.743,
          40.749,
          40.736999999999995,
          40.723684000000006,
          40.744219,
          40.73261787,
          40.73827428,
          40.764,
          40.75527307,
          40.752957,
          40.746,
          40.752643,
          40.742684999999994,
          40.74317449,
          40.750223999999996,
          40.75002,
          40.758984999999996,
          40.735354,
          40.732264,
          40.73234,
          40.752062,
          40.755,
          40.728419,
          40.730563000000004,
          40.751999999999995,
          40.746201,
          40.735367,
          40.756951,
          40.752269,
          40.742752,
          40.735238,
          40.75645824,
          40.743,
          40.743116,
          40.749,
          40.751999999999995,
          40.751999999999995,
          40.727464000000005,
          40.743,
          40.743,
          40.751999999999995,
          40.746,
          40.75929124,
          40.75640548,
          40.74444921,
          40.754622999999995,
          40.755003,
          40.7568001,
          40.743534000000004,
          40.73401143,
          40.751999999999995,
          40.732233,
          40.764734000000004,
          40.736999999999995,
          40.72580614,
          40.74345335,
          40.746,
          40.741982,
          40.72368361,
          40.739445,
          40.73624527,
          40.731539,
          40.74394314,
          40.74,
          40.72387,
          40.732219,
          40.725066,
          40.73532427,
          40.762009,
          40.746646999999996,
          40.752165000000005,
          40.73543934,
          40.731,
          40.746,
          40.741444,
          40.75757,
          40.749156,
          40.73221853,
          40.732759,
          40.74964,
          40.729387,
          40.755,
          40.74,
          40.72779126,
          40.73649403,
          40.760999999999996,
          40.73705,
          40.72521311,
          40.740983,
          40.735918,
          40.74734825,
          40.732690000000005,
          40.74487634,
          40.75255434,
          40.754145,
          40.731,
          40.727243,
          40.74147,
          40.746745000000004,
          40.749013,
          40.728,
          40.75299641,
          40.74,
          40.749,
          40.755,
          40.740343200000005,
          40.742869,
          40.73047309,
          40.74692,
          40.73781509,
          40.760999999999996,
          40.758396999999995,
          40.738177,
          40.751999999999995,
          40.73127,
          40.740057,
          40.75461,
          40.743,
          40.758,
          40.751999999999995
         ],
         "yaxis": "y"
        },
        {
         "customdata": [
          [
           "Harlem & Wash. Heights"
          ],
          [
           "Harlem & Wash. Heights"
          ],
          [
           "Harlem & Wash. Heights"
          ],
          [
           "Harlem & Wash. Heights"
          ],
          [
           "Harlem & Wash. Heights"
          ],
          [
           "Harlem & Wash. Heights"
          ],
          [
           "Harlem & Wash. Heights"
          ],
          [
           "Harlem & Wash. Heights"
          ],
          [
           "Harlem & Wash. Heights"
          ],
          [
           "Harlem & Wash. Heights"
          ],
          [
           "Harlem & Wash. Heights"
          ],
          [
           "Harlem & Wash. Heights"
          ],
          [
           "Harlem & Wash. Heights"
          ],
          [
           "Harlem & Wash. Heights"
          ],
          [
           "Harlem & Wash. Heights"
          ],
          [
           "Harlem & Wash. Heights"
          ],
          [
           "Harlem & Wash. Heights"
          ],
          [
           "Harlem & Wash. Heights"
          ],
          [
           "Harlem & Wash. Heights"
          ],
          [
           "Harlem & Wash. Heights"
          ],
          [
           "Harlem & Wash. Heights"
          ],
          [
           "Harlem & Wash. Heights"
          ],
          [
           "Harlem & Wash. Heights"
          ],
          [
           "Harlem & Wash. Heights"
          ],
          [
           "Harlem & Wash. Heights"
          ],
          [
           "Harlem & Wash. Heights"
          ],
          [
           "Harlem & Wash. Heights"
          ],
          [
           "Harlem & Wash. Heights"
          ],
          [
           "Harlem & Wash. Heights"
          ],
          [
           "Harlem & Wash. Heights"
          ],
          [
           "Harlem & Wash. Heights"
          ],
          [
           "Harlem & Wash. Heights"
          ],
          [
           "Harlem & Wash. Heights"
          ],
          [
           "Harlem & Wash. Heights"
          ],
          [
           "Harlem & Wash. Heights"
          ],
          [
           "Harlem & Wash. Heights"
          ],
          [
           "Harlem & Wash. Heights"
          ],
          [
           "Harlem & Wash. Heights"
          ],
          [
           "Harlem & Wash. Heights"
          ],
          [
           "Harlem & Wash. Heights"
          ],
          [
           "Harlem & Wash. Heights"
          ],
          [
           "Harlem & Wash. Heights"
          ],
          [
           "Harlem & Wash. Heights"
          ],
          [
           "Harlem & Wash. Heights"
          ],
          [
           "Harlem & Wash. Heights"
          ],
          [
           "Harlem & Wash. Heights"
          ],
          [
           "Harlem & Wash. Heights"
          ],
          [
           "Harlem & Wash. Heights"
          ],
          [
           "Harlem & Wash. Heights"
          ],
          [
           "Harlem & Wash. Heights"
          ],
          [
           "Harlem & Wash. Heights"
          ],
          [
           "Harlem & Wash. Heights"
          ],
          [
           "Harlem & Wash. Heights"
          ],
          [
           "Harlem & Wash. Heights"
          ],
          [
           "Harlem & Wash. Heights"
          ],
          [
           "Harlem & Wash. Heights"
          ],
          [
           "Harlem & Wash. Heights"
          ],
          [
           "Harlem & Wash. Heights"
          ],
          [
           "Harlem & Wash. Heights"
          ],
          [
           "Harlem & Wash. Heights"
          ],
          [
           "Harlem & Wash. Heights"
          ],
          [
           "Harlem & Wash. Heights"
          ],
          [
           "Harlem & Wash. Heights"
          ],
          [
           "Harlem & Wash. Heights"
          ],
          [
           "Harlem & Wash. Heights"
          ],
          [
           "Harlem & Wash. Heights"
          ],
          [
           "Harlem & Wash. Heights"
          ]
         ],
         "hovertemplate": "concat=%{customdata[0]}<br>longitude=%{x}<br>latitude=%{y}<extra></extra>",
         "legendgroup": "Harlem & Wash. Heights",
         "marker": {
          "color": "#FF6692",
          "symbol": "circle"
         },
         "mode": "markers",
         "name": "Harlem & Wash. Heights",
         "showlegend": true,
         "type": "scattergl",
         "x": [
          -73.918371,
          -73.93021999999999,
          -73.920827,
          -73.926363,
          -73.933291,
          -73.929513,
          -73.921417,
          -73.912807,
          -73.92005999999999,
          -73.93608499999999,
          -73.941323,
          -73.93972,
          -73.942386,
          -73.94102,
          -73.926994,
          -73.927128,
          -73.936064,
          -73.939865,
          -73.931205,
          -73.939789,
          -73.933651,
          -73.94592,
          -73.922648,
          -73.942125,
          -73.9434,
          -73.939929,
          -73.942939,
          -73.919685,
          -73.938423,
          -73.92309300000001,
          -73.91519699999999,
          -73.93511099999999,
          -73.933872,
          -73.917583,
          -73.937496,
          -73.911503,
          -73.94185999999999,
          -73.922661,
          -73.93441,
          -73.937044,
          -73.938631,
          -73.920763,
          -73.925591,
          -73.918598,
          -73.927173,
          -73.928489,
          -73.939326,
          -73.931308,
          -73.932969,
          -73.935662,
          -73.91675699999999,
          -73.937648,
          -73.941409,
          -73.927094,
          -73.941343,
          -73.937878,
          -73.937854,
          -73.94544599999999,
          -73.92936,
          -73.931537,
          -73.93949,
          -73.93217299999999,
          -73.936996,
          -73.91431800000001,
          -73.92971899999999,
          -73.940493,
          -73.936371
         ],
         "xaxis": "x",
         "y": [
          40.873055,
          40.84925,
          40.863211,
          40.867505,
          40.847305,
          40.854788,
          40.861282,
          40.872412,
          40.862638000000004,
          40.838190999999995,
          40.830663,
          40.840896,
          40.832081,
          40.832314000000004,
          40.863124,
          40.85564,
          40.848467,
          40.834468,
          40.847396,
          40.83618,
          40.844044,
          40.83299,
          40.866141,
          40.8428422,
          40.835775,
          40.830476000000004,
          40.84004,
          40.86788,
          40.849971999999994,
          40.858903999999995,
          40.869325,
          40.842172999999995,
          40.859165999999995,
          40.863089,
          40.835798,
          40.871094,
          40.85168,
          40.862562,
          40.852538,
          40.839443,
          40.842940999999996,
          40.869899,
          40.861382,
          40.864632,
          40.857158,
          40.86012,
          40.833303,
          40.852253000000005,
          40.856487,
          40.856906,
          40.867658,
          40.846052,
          40.839137,
          40.853142,
          40.848282,
          40.855331,
          40.852252,
          40.839278,
          40.867357,
          40.868846000000005,
          40.840123999999996,
          40.857994,
          40.829229999999995,
          40.871390000000005,
          40.862058000000005,
          40.84522,
          40.830702
         ],
         "yaxis": "y"
        },
        {
         "customdata": [
          [
           "Midtown BK"
          ],
          [
           "Midtown BK"
          ],
          [
           "Midtown BK"
          ],
          [
           "Midtown BK"
          ],
          [
           "Midtown BK"
          ],
          [
           "Midtown BK"
          ],
          [
           "Midtown BK"
          ],
          [
           "Midtown BK"
          ],
          [
           "Midtown BK"
          ],
          [
           "Midtown BK"
          ],
          [
           "Midtown BK"
          ],
          [
           "Midtown BK"
          ],
          [
           "Midtown BK"
          ],
          [
           "Midtown BK"
          ],
          [
           "Midtown BK"
          ],
          [
           "Midtown BK"
          ],
          [
           "Midtown BK"
          ],
          [
           "Midtown BK"
          ],
          [
           "Midtown BK"
          ],
          [
           "Midtown BK"
          ],
          [
           "Midtown BK"
          ],
          [
           "Midtown BK"
          ],
          [
           "Midtown BK"
          ],
          [
           "Midtown BK"
          ],
          [
           "Midtown BK"
          ],
          [
           "Midtown BK"
          ],
          [
           "Midtown BK"
          ],
          [
           "Midtown BK"
          ],
          [
           "Midtown BK"
          ],
          [
           "Midtown BK"
          ],
          [
           "Midtown BK"
          ],
          [
           "Midtown BK"
          ],
          [
           "Midtown BK"
          ],
          [
           "Midtown BK"
          ],
          [
           "Midtown BK"
          ],
          [
           "Midtown BK"
          ],
          [
           "Midtown BK"
          ],
          [
           "Midtown BK"
          ],
          [
           "Midtown BK"
          ],
          [
           "Midtown BK"
          ],
          [
           "Midtown BK"
          ],
          [
           "Midtown BK"
          ],
          [
           "Midtown BK"
          ],
          [
           "Midtown BK"
          ],
          [
           "Midtown BK"
          ],
          [
           "Midtown BK"
          ],
          [
           "Midtown BK"
          ],
          [
           "Midtown BK"
          ],
          [
           "Midtown BK"
          ],
          [
           "Midtown BK"
          ],
          [
           "Midtown BK"
          ],
          [
           "Midtown BK"
          ],
          [
           "Midtown BK"
          ],
          [
           "Midtown BK"
          ],
          [
           "Midtown BK"
          ],
          [
           "Midtown BK"
          ],
          [
           "Midtown BK"
          ],
          [
           "Midtown BK"
          ],
          [
           "Midtown BK"
          ],
          [
           "Midtown BK"
          ],
          [
           "Midtown BK"
          ],
          [
           "Midtown BK"
          ],
          [
           "Midtown BK"
          ],
          [
           "Midtown BK"
          ],
          [
           "Midtown BK"
          ],
          [
           "Midtown BK"
          ],
          [
           "Midtown BK"
          ],
          [
           "Midtown BK"
          ],
          [
           "Midtown BK"
          ],
          [
           "Midtown BK"
          ],
          [
           "Midtown BK"
          ],
          [
           "Midtown BK"
          ],
          [
           "Midtown BK"
          ],
          [
           "Midtown BK"
          ],
          [
           "Midtown BK"
          ],
          [
           "Midtown BK"
          ],
          [
           "Midtown BK"
          ],
          [
           "Midtown BK"
          ],
          [
           "Midtown BK"
          ],
          [
           "Midtown BK"
          ],
          [
           "Midtown BK"
          ],
          [
           "Midtown BK"
          ],
          [
           "Midtown BK"
          ],
          [
           "Midtown BK"
          ],
          [
           "Midtown BK"
          ],
          [
           "Midtown BK"
          ],
          [
           "Midtown BK"
          ],
          [
           "Midtown BK"
          ],
          [
           "Midtown BK"
          ],
          [
           "Midtown BK"
          ],
          [
           "Midtown BK"
          ],
          [
           "Midtown BK"
          ],
          [
           "Midtown BK"
          ],
          [
           "Midtown BK"
          ],
          [
           "Midtown BK"
          ],
          [
           "Midtown BK"
          ],
          [
           "Midtown BK"
          ],
          [
           "Midtown BK"
          ],
          [
           "Midtown BK"
          ],
          [
           "Midtown BK"
          ],
          [
           "Midtown BK"
          ],
          [
           "Midtown BK"
          ],
          [
           "Midtown BK"
          ],
          [
           "Midtown BK"
          ],
          [
           "Midtown BK"
          ],
          [
           "Midtown BK"
          ],
          [
           "Midtown BK"
          ],
          [
           "Midtown BK"
          ],
          [
           "Midtown BK"
          ],
          [
           "Midtown BK"
          ],
          [
           "Midtown BK"
          ],
          [
           "Midtown BK"
          ],
          [
           "Midtown BK"
          ],
          [
           "Midtown BK"
          ],
          [
           "Midtown BK"
          ],
          [
           "Midtown BK"
          ],
          [
           "Midtown BK"
          ],
          [
           "Midtown BK"
          ],
          [
           "Midtown BK"
          ],
          [
           "Midtown BK"
          ],
          [
           "Midtown BK"
          ],
          [
           "Midtown BK"
          ],
          [
           "Midtown BK"
          ],
          [
           "Midtown BK"
          ],
          [
           "Midtown BK"
          ],
          [
           "Midtown BK"
          ],
          [
           "Midtown BK"
          ],
          [
           "Midtown BK"
          ],
          [
           "Midtown BK"
          ],
          [
           "Midtown BK"
          ],
          [
           "Midtown BK"
          ],
          [
           "Midtown BK"
          ],
          [
           "Midtown BK"
          ],
          [
           "Midtown BK"
          ],
          [
           "Midtown BK"
          ],
          [
           "Midtown BK"
          ],
          [
           "Midtown BK"
          ],
          [
           "Midtown BK"
          ],
          [
           "Midtown BK"
          ],
          [
           "Midtown BK"
          ],
          [
           "Midtown BK"
          ],
          [
           "Midtown BK"
          ],
          [
           "Midtown BK"
          ],
          [
           "Midtown BK"
          ],
          [
           "Midtown BK"
          ],
          [
           "Midtown BK"
          ],
          [
           "Midtown BK"
          ],
          [
           "Midtown BK"
          ],
          [
           "Midtown BK"
          ],
          [
           "Midtown BK"
          ],
          [
           "Midtown BK"
          ],
          [
           "Midtown BK"
          ],
          [
           "Midtown BK"
          ],
          [
           "Midtown BK"
          ],
          [
           "Midtown BK"
          ],
          [
           "Midtown BK"
          ],
          [
           "Midtown BK"
          ],
          [
           "Midtown BK"
          ],
          [
           "Midtown BK"
          ],
          [
           "Midtown BK"
          ],
          [
           "Midtown BK"
          ],
          [
           "Midtown BK"
          ],
          [
           "Midtown BK"
          ],
          [
           "Midtown BK"
          ],
          [
           "Midtown BK"
          ],
          [
           "Midtown BK"
          ],
          [
           "Midtown BK"
          ],
          [
           "Midtown BK"
          ],
          [
           "Midtown BK"
          ],
          [
           "Midtown BK"
          ],
          [
           "Midtown BK"
          ],
          [
           "Midtown BK"
          ]
         ],
         "hovertemplate": "concat=%{customdata[0]}<br>longitude=%{x}<br>latitude=%{y}<extra></extra>",
         "legendgroup": "Midtown BK",
         "marker": {
          "color": "#B6E880",
          "symbol": "circle"
         },
         "mode": "markers",
         "name": "Midtown BK",
         "showlegend": true,
         "type": "scattergl",
         "x": [
          -73.965,
          -73.996123,
          -73.984326,
          -73.978728,
          -73.978951,
          -73.98154,
          -73.971,
          -73.978034,
          -73.99712,
          -73.999512,
          -73.99475799999999,
          -73.969222,
          -73.967145,
          -73.98469,
          -73.982089,
          -73.989717,
          -73.99344,
          -73.968,
          -73.999057,
          -73.960251,
          -73.971009,
          -73.994651,
          -73.953874,
          -73.972651,
          -73.963114,
          -73.987654,
          -73.977907,
          -73.99063100000001,
          -73.984516,
          -73.988765,
          -73.992,
          -73.991218,
          -73.98759100000001,
          -74.003485,
          -73.992,
          -73.958013,
          -73.996452,
          -73.975195,
          -73.976323,
          -73.97399999999999,
          -73.99116,
          -73.979897,
          -73.973555,
          -73.964679,
          -73.96910600000001,
          -73.971296,
          -73.987167,
          -73.992,
          -73.97839599999999,
          -73.96055600000001,
          -73.980689,
          -73.98281999999999,
          -73.973242,
          -73.994403,
          -73.95693399999999,
          -73.993641,
          -73.97399999999999,
          -73.95881,
          -73.989494,
          -73.98765762,
          -73.989402,
          -73.962,
          -73.983042,
          -73.973729,
          -74.002423,
          -73.973638,
          -73.99595,
          -73.9588,
          -73.983,
          -73.971114,
          -73.976682,
          -73.955416,
          -73.98684200000001,
          -73.983,
          -73.957468,
          -73.983262,
          -73.959,
          -73.981998,
          -73.979826,
          -73.96536800000001,
          -73.9614583,
          -73.96056949999999,
          -73.956911,
          -73.95674100000001,
          -73.97988000000001,
          -73.98,
          -73.985416,
          -73.971,
          -73.9865,
          -73.95649399999999,
          -73.991277,
          -73.968,
          -73.955768,
          -73.982578,
          -73.98899999999999,
          -73.989016,
          -74.001,
          -73.962,
          -73.993836,
          -73.999172,
          -73.983624,
          -73.974841,
          -73.986,
          -73.986207,
          -73.984275,
          -73.99158100000001,
          -73.977,
          -73.953,
          -73.986726,
          -73.975673,
          -73.971789,
          -73.979827,
          -73.961814,
          -73.979677,
          -73.962408,
          -73.981013,
          -73.99785200000001,
          -73.992,
          -73.97087900000001,
          -73.979889,
          -73.99599,
          -73.959281,
          -73.968896,
          -73.991833,
          -73.979382,
          -73.976376,
          -73.99318199999999,
          -73.98258555,
          -73.96304,
          -73.956,
          -73.96751,
          -73.95768000000001,
          -73.990372,
          -73.98352299999999,
          -73.984764,
          -73.959608,
          -73.98899999999999,
          -73.969689,
          -73.999904,
          -73.978549,
          -73.983776,
          -73.96599499999999,
          -73.955637,
          -73.95399,
          -73.98983,
          -73.981483,
          -73.991454,
          -73.969868,
          -73.97877,
          -73.9609,
          -73.95291800000001,
          -73.95879000000001,
          -73.999978,
          -73.970775,
          -73.957461,
          -73.995209,
          -73.95643107,
          -73.965633,
          -73.978468,
          -73.985649,
          -73.990148,
          -73.99548,
          -73.987752,
          -73.968,
          -73.99079,
          -73.990539,
          -73.96885400000001,
          -73.973736,
          -73.993833,
          -73.95943199999999,
          -73.964762,
          -73.97493100000001
         ],
         "xaxis": "x",
         "y": [
          40.677,
          40.690893,
          40.6802133,
          40.674089,
          40.683125,
          40.679279,
          40.701,
          40.69608941,
          40.69878,
          40.689395000000005,
          40.680611,
          40.68415748,
          40.674012299999994,
          40.702969,
          40.670484,
          40.699918,
          40.695357,
          40.68,
          40.6809591,
          40.66408,
          40.68097410000001,
          40.69401,
          40.663062,
          40.68753406,
          40.6716493,
          40.679097999999996,
          40.685068,
          40.686744299999994,
          40.689,
          40.670514000000004,
          40.698,
          40.696233,
          40.686444200000004,
          40.683046000000004,
          40.690238,
          40.694546,
          40.686176,
          40.679331,
          40.68382604,
          40.686,
          40.688489000000004,
          40.682564,
          40.69580705,
          40.680484,
          40.673134000000005,
          40.695734,
          40.695065,
          40.69239502,
          40.670384000000006,
          40.666439000000004,
          40.698399,
          40.6772744,
          40.677615,
          40.6849894,
          40.665816,
          40.677729,
          40.675146999999996,
          40.684568299999995,
          40.692417999999996,
          40.70281858,
          40.702551,
          40.695,
          40.689622,
          40.6917823,
          40.68593,
          40.668132,
          40.69512845,
          40.6679411,
          40.692215999999995,
          40.675021,
          40.686919,
          40.6691783,
          40.702461,
          40.686,
          40.664241,
          40.676757,
          40.68900443,
          40.666208000000005,
          40.672784,
          40.69196035,
          40.68223166,
          40.663140000000006,
          40.662706,
          40.666563000000004,
          40.668663,
          40.692,
          40.670492200000005,
          40.705312,
          40.677027,
          40.674181,
          40.685424,
          40.707645,
          40.680341999999996,
          40.70224,
          40.695,
          40.684355,
          40.689,
          40.674,
          40.702771999999996,
          40.684751399999996,
          40.694749,
          40.671198,
          40.692362,
          40.684967,
          40.683426000000004,
          40.7003,
          40.69327018,
          40.674,
          40.701403000000006,
          40.680945,
          40.693083,
          40.699569,
          40.6686744,
          40.68683208,
          40.678045000000004,
          40.689888,
          40.683116399999996,
          40.695,
          40.672968,
          40.681778,
          40.678724200000005,
          40.686768,
          40.693261,
          40.692,
          40.68841,
          40.665147,
          40.6829151,
          40.6827549,
          40.68488,
          40.677,
          40.69610226,
          40.671,
          40.678612,
          40.672816,
          40.698,
          40.676520000000004,
          40.68926942,
          40.687645,
          40.6828003,
          40.68,
          40.668127,
          40.683239,
          40.677592,
          40.682165999999995,
          40.672603,
          40.6751622,
          40.700469,
          40.698,
          40.69178,
          40.672168299999996,
          40.676368,
          40.67919439999999,
          40.691652000000005,
          40.69795,
          40.690647999999996,
          40.688153,
          40.6906495,
          40.686501,
          40.6765304,
          40.673746,
          40.695977,
          40.700379,
          40.675071,
          40.677,
          40.68199,
          40.69383,
          40.68940747,
          40.698,
          40.686371,
          40.68186,
          40.68851534,
          40.68981035
         ],
         "yaxis": "y"
        },
        {
         "customdata": [
          [
           "Downtown BK"
          ],
          [
           "Downtown BK"
          ],
          [
           "Downtown BK"
          ],
          [
           "Downtown BK"
          ],
          [
           "Downtown BK"
          ],
          [
           "Downtown BK"
          ],
          [
           "Downtown BK"
          ],
          [
           "Downtown BK"
          ],
          [
           "Downtown BK"
          ],
          [
           "Downtown BK"
          ],
          [
           "Downtown BK"
          ],
          [
           "Downtown BK"
          ],
          [
           "Downtown BK"
          ],
          [
           "Downtown BK"
          ],
          [
           "Downtown BK"
          ],
          [
           "Downtown BK"
          ],
          [
           "Downtown BK"
          ],
          [
           "Downtown BK"
          ],
          [
           "Downtown BK"
          ],
          [
           "Downtown BK"
          ],
          [
           "Downtown BK"
          ],
          [
           "Downtown BK"
          ],
          [
           "Downtown BK"
          ],
          [
           "Downtown BK"
          ],
          [
           "Downtown BK"
          ],
          [
           "Downtown BK"
          ],
          [
           "Downtown BK"
          ],
          [
           "Downtown BK"
          ],
          [
           "Downtown BK"
          ],
          [
           "Downtown BK"
          ],
          [
           "Downtown BK"
          ],
          [
           "Downtown BK"
          ],
          [
           "Downtown BK"
          ],
          [
           "Downtown BK"
          ],
          [
           "Downtown BK"
          ],
          [
           "Downtown BK"
          ],
          [
           "Downtown BK"
          ],
          [
           "Downtown BK"
          ],
          [
           "Downtown BK"
          ],
          [
           "Downtown BK"
          ],
          [
           "Downtown BK"
          ],
          [
           "Downtown BK"
          ],
          [
           "Downtown BK"
          ],
          [
           "Downtown BK"
          ],
          [
           "Downtown BK"
          ],
          [
           "Downtown BK"
          ],
          [
           "Downtown BK"
          ],
          [
           "Downtown BK"
          ],
          [
           "Downtown BK"
          ],
          [
           "Downtown BK"
          ],
          [
           "Downtown BK"
          ],
          [
           "Downtown BK"
          ],
          [
           "Downtown BK"
          ],
          [
           "Downtown BK"
          ],
          [
           "Downtown BK"
          ],
          [
           "Downtown BK"
          ],
          [
           "Downtown BK"
          ],
          [
           "Downtown BK"
          ],
          [
           "Downtown BK"
          ],
          [
           "Downtown BK"
          ],
          [
           "Downtown BK"
          ],
          [
           "Downtown BK"
          ],
          [
           "Downtown BK"
          ],
          [
           "Downtown BK"
          ],
          [
           "Downtown BK"
          ],
          [
           "Downtown BK"
          ],
          [
           "Downtown BK"
          ],
          [
           "Downtown BK"
          ],
          [
           "Downtown BK"
          ],
          [
           "Downtown BK"
          ],
          [
           "Downtown BK"
          ],
          [
           "Downtown BK"
          ],
          [
           "Downtown BK"
          ],
          [
           "Downtown BK"
          ],
          [
           "Downtown BK"
          ],
          [
           "Downtown BK"
          ],
          [
           "Downtown BK"
          ],
          [
           "Downtown BK"
          ],
          [
           "Downtown BK"
          ],
          [
           "Downtown BK"
          ],
          [
           "Downtown BK"
          ],
          [
           "Downtown BK"
          ],
          [
           "Downtown BK"
          ],
          [
           "Downtown BK"
          ],
          [
           "Downtown BK"
          ],
          [
           "Downtown BK"
          ],
          [
           "Downtown BK"
          ],
          [
           "Downtown BK"
          ],
          [
           "Downtown BK"
          ],
          [
           "Downtown BK"
          ],
          [
           "Downtown BK"
          ],
          [
           "Downtown BK"
          ],
          [
           "Downtown BK"
          ],
          [
           "Downtown BK"
          ],
          [
           "Downtown BK"
          ],
          [
           "Downtown BK"
          ],
          [
           "Downtown BK"
          ],
          [
           "Downtown BK"
          ],
          [
           "Downtown BK"
          ],
          [
           "Downtown BK"
          ],
          [
           "Downtown BK"
          ],
          [
           "Downtown BK"
          ],
          [
           "Downtown BK"
          ],
          [
           "Downtown BK"
          ],
          [
           "Downtown BK"
          ],
          [
           "Downtown BK"
          ],
          [
           "Downtown BK"
          ],
          [
           "Downtown BK"
          ],
          [
           "Downtown BK"
          ],
          [
           "Downtown BK"
          ],
          [
           "Downtown BK"
          ],
          [
           "Downtown BK"
          ],
          [
           "Downtown BK"
          ],
          [
           "Downtown BK"
          ],
          [
           "Downtown BK"
          ],
          [
           "Downtown BK"
          ]
         ],
         "hovertemplate": "concat=%{customdata[0]}<br>longitude=%{x}<br>latitude=%{y}<extra></extra>",
         "legendgroup": "Downtown BK",
         "marker": {
          "color": "#FF97FF",
          "symbol": "circle"
         },
         "mode": "markers",
         "name": "Downtown BK",
         "showlegend": true,
         "type": "scattergl",
         "x": [
          -74.01782,
          -73.993612,
          -74.023087,
          -74.015665,
          -74.016562,
          -73.985461,
          -74.01099599999999,
          -73.98013900000001,
          -74.006664,
          -73.979239,
          -74.00755699999999,
          -74.011884,
          -73.979681,
          -74.00785,
          -74.013821,
          -73.979342,
          -74.020005,
          -74.000057,
          -74.02324,
          -74.00879499999999,
          -73.995549,
          -74.005144,
          -73.973217,
          -74.003249,
          -73.984276,
          -73.998623,
          -73.98895,
          -73.99246600000001,
          -74.014531,
          -74.014372,
          -73.973663,
          -73.981073,
          -74.002356,
          -73.983864,
          -74.013318,
          -74.021506,
          -73.97743299999999,
          -74.010069,
          -73.977335,
          -74.01686600000001,
          -73.977739,
          -74.001328,
          -74.00890600000001,
          -73.972432,
          -73.998698,
          -73.995554,
          -73.979452,
          -73.976291,
          -74.00944100000001,
          -74.004483,
          -73.993037,
          -74.02564,
          -73.990974,
          -74.011169,
          -74.006584,
          -73.983968,
          -74.020105,
          -73.997857,
          -74.001131,
          -74.008957,
          -73.97673,
          -74.000911,
          -74.010627,
          -74.015606,
          -73.987,
          -74.01275,
          -74.009271,
          -73.97416899999999,
          -74.005708,
          -74.022141,
          -74.00014499999999,
          -74.020005,
          -74.00716800000001,
          -73.991007,
          -73.972573,
          -74.015726,
          -73.995068,
          -74.017651,
          -74.003101,
          -73.972212,
          -74.008702,
          -74.016755,
          -74.024714,
          -73.993332,
          -74.00962700000001,
          -74.00194599999999,
          -74.001141,
          -74.012384,
          -74.018846,
          -74.013587,
          -73.98960500000001,
          -73.998633,
          -74.00421999999999,
          -73.98123100000001,
          -73.98854,
          -74.009461,
          -73.998194,
          -74.00647099999999,
          -74.003754,
          -74.01140500000001,
          -73.974165,
          -73.97058,
          -74.014726,
          -73.965248,
          -73.98899999999999,
          -73.97750400000001,
          -73.983074,
          -73.96782900000001,
          -74.00494599999999,
          -74.00860899999999,
          -73.980963,
          -74.011955,
          -74.009486,
          -73.986418,
          -73.985543,
          -73.99331394
         ],
         "xaxis": "x",
         "y": [
          40.63766,
          40.671907,
          40.646377,
          40.677236,
          40.633385,
          40.666318100000005,
          40.640831,
          40.659490999999996,
          40.655716,
          40.642809,
          40.674706,
          40.643371,
          40.645074,
          40.679433,
          40.638196,
          40.648005,
          40.635678999999996,
          40.648169,
          40.639978,
          40.672672,
          40.666168,
          40.649983,
          40.65482,
          40.6763744,
          40.644366999999995,
          40.662611,
          40.666287,
          40.666197,
          40.644861999999996,
          40.654798,
          40.647718,
          40.642031,
          40.652657,
          40.656633,
          40.642408,
          40.644512,
          40.643817,
          40.6753274,
          40.656290000000006,
          40.642621999999996,
          40.650739,
          40.671409000000004,
          40.652512,
          40.648055,
          40.676395,
          40.662584,
          40.662,
          40.653368,
          40.642703000000004,
          40.647104999999996,
          40.665507,
          40.640493,
          40.66016,
          40.679043,
          40.659176,
          40.663779,
          40.649291999999996,
          40.674696000000004,
          40.654098,
          40.639672999999995,
          40.649037,
          40.647379,
          40.6554,
          40.650176,
          40.6686273,
          40.677343,
          40.646351,
          40.645282,
          40.645921,
          40.637033,
          40.6783563,
          40.635678999999996,
          40.651354,
          40.663493,
          40.652563,
          40.640125,
          40.659555,
          40.641269,
          40.655278,
          40.651565999999995,
          40.657089,
          40.687065999999994,
          40.638246,
          40.668546,
          40.656326,
          40.67434,
          40.657742999999996,
          40.649143,
          40.64744,
          40.652502,
          40.658029,
          40.660078999999996,
          40.654144,
          40.651654,
          40.659053,
          40.677775,
          40.656985999999996,
          40.6769993,
          40.644743,
          40.651173,
          40.657265,
          40.648481,
          40.675833000000004,
          40.651847,
          40.668603000000004,
          40.659945,
          40.660906,
          40.649681,
          40.672506,
          40.681212,
          40.646037,
          40.673636,
          40.649145000000004,
          40.643546,
          40.658489,
          40.6724811
         ],
         "yaxis": "y"
        },
        {
         "customdata": [
          [
           "Uptown BK"
          ],
          [
           "Uptown BK"
          ],
          [
           "Uptown BK"
          ],
          [
           "Uptown BK"
          ],
          [
           "Uptown BK"
          ],
          [
           "Uptown BK"
          ],
          [
           "Uptown BK"
          ],
          [
           "Uptown BK"
          ],
          [
           "Uptown BK"
          ],
          [
           "Uptown BK"
          ],
          [
           "Uptown BK"
          ],
          [
           "Uptown BK"
          ],
          [
           "Uptown BK"
          ],
          [
           "Uptown BK"
          ],
          [
           "Uptown BK"
          ],
          [
           "Uptown BK"
          ],
          [
           "Uptown BK"
          ],
          [
           "Uptown BK"
          ],
          [
           "Uptown BK"
          ],
          [
           "Uptown BK"
          ],
          [
           "Uptown BK"
          ],
          [
           "Uptown BK"
          ],
          [
           "Uptown BK"
          ],
          [
           "Uptown BK"
          ],
          [
           "Uptown BK"
          ],
          [
           "Uptown BK"
          ],
          [
           "Uptown BK"
          ],
          [
           "Uptown BK"
          ],
          [
           "Uptown BK"
          ],
          [
           "Uptown BK"
          ],
          [
           "Uptown BK"
          ],
          [
           "Uptown BK"
          ],
          [
           "Uptown BK"
          ],
          [
           "Uptown BK"
          ],
          [
           "Uptown BK"
          ],
          [
           "Uptown BK"
          ],
          [
           "Uptown BK"
          ],
          [
           "Uptown BK"
          ],
          [
           "Uptown BK"
          ],
          [
           "Uptown BK"
          ],
          [
           "Uptown BK"
          ],
          [
           "Uptown BK"
          ],
          [
           "Uptown BK"
          ],
          [
           "Uptown BK"
          ],
          [
           "Uptown BK"
          ],
          [
           "Uptown BK"
          ],
          [
           "Uptown BK"
          ],
          [
           "Uptown BK"
          ],
          [
           "Uptown BK"
          ],
          [
           "Uptown BK"
          ],
          [
           "Uptown BK"
          ],
          [
           "Uptown BK"
          ],
          [
           "Uptown BK"
          ],
          [
           "Uptown BK"
          ],
          [
           "Uptown BK"
          ],
          [
           "Uptown BK"
          ],
          [
           "Uptown BK"
          ],
          [
           "Uptown BK"
          ],
          [
           "Uptown BK"
          ],
          [
           "Uptown BK"
          ],
          [
           "Uptown BK"
          ],
          [
           "Uptown BK"
          ],
          [
           "Uptown BK"
          ],
          [
           "Uptown BK"
          ],
          [
           "Uptown BK"
          ],
          [
           "Uptown BK"
          ],
          [
           "Uptown BK"
          ],
          [
           "Uptown BK"
          ],
          [
           "Uptown BK"
          ],
          [
           "Uptown BK"
          ],
          [
           "Uptown BK"
          ],
          [
           "Uptown BK"
          ],
          [
           "Uptown BK"
          ],
          [
           "Uptown BK"
          ],
          [
           "Uptown BK"
          ],
          [
           "Uptown BK"
          ],
          [
           "Uptown BK"
          ],
          [
           "Uptown BK"
          ],
          [
           "Uptown BK"
          ],
          [
           "Uptown BK"
          ],
          [
           "Uptown BK"
          ],
          [
           "Uptown BK"
          ],
          [
           "Uptown BK"
          ],
          [
           "Uptown BK"
          ],
          [
           "Uptown BK"
          ],
          [
           "Uptown BK"
          ],
          [
           "Uptown BK"
          ],
          [
           "Uptown BK"
          ],
          [
           "Uptown BK"
          ],
          [
           "Uptown BK"
          ],
          [
           "Uptown BK"
          ],
          [
           "Uptown BK"
          ],
          [
           "Uptown BK"
          ],
          [
           "Uptown BK"
          ],
          [
           "Uptown BK"
          ],
          [
           "Uptown BK"
          ],
          [
           "Uptown BK"
          ],
          [
           "Uptown BK"
          ],
          [
           "Uptown BK"
          ],
          [
           "Uptown BK"
          ],
          [
           "Uptown BK"
          ],
          [
           "Uptown BK"
          ],
          [
           "Uptown BK"
          ],
          [
           "Uptown BK"
          ],
          [
           "Uptown BK"
          ],
          [
           "Uptown BK"
          ],
          [
           "Uptown BK"
          ],
          [
           "Uptown BK"
          ],
          [
           "Uptown BK"
          ],
          [
           "Uptown BK"
          ],
          [
           "Uptown BK"
          ],
          [
           "Uptown BK"
          ],
          [
           "Uptown BK"
          ],
          [
           "Uptown BK"
          ],
          [
           "Uptown BK"
          ],
          [
           "Uptown BK"
          ],
          [
           "Uptown BK"
          ],
          [
           "Uptown BK"
          ],
          [
           "Uptown BK"
          ],
          [
           "Uptown BK"
          ],
          [
           "Uptown BK"
          ],
          [
           "Uptown BK"
          ],
          [
           "Uptown BK"
          ],
          [
           "Uptown BK"
          ],
          [
           "Uptown BK"
          ],
          [
           "Uptown BK"
          ],
          [
           "Uptown BK"
          ],
          [
           "Uptown BK"
          ],
          [
           "Uptown BK"
          ],
          [
           "Uptown BK"
          ],
          [
           "Uptown BK"
          ],
          [
           "Uptown BK"
          ],
          [
           "Uptown BK"
          ],
          [
           "Uptown BK"
          ],
          [
           "Uptown BK"
          ],
          [
           "Uptown BK"
          ],
          [
           "Uptown BK"
          ],
          [
           "Uptown BK"
          ],
          [
           "Uptown BK"
          ],
          [
           "Uptown BK"
          ],
          [
           "Uptown BK"
          ],
          [
           "Uptown BK"
          ],
          [
           "Uptown BK"
          ],
          [
           "Uptown BK"
          ],
          [
           "Uptown BK"
          ],
          [
           "Uptown BK"
          ],
          [
           "Uptown BK"
          ],
          [
           "Uptown BK"
          ],
          [
           "Uptown BK"
          ],
          [
           "Uptown BK"
          ],
          [
           "Uptown BK"
          ],
          [
           "Uptown BK"
          ],
          [
           "Uptown BK"
          ],
          [
           "Uptown BK"
          ],
          [
           "Uptown BK"
          ],
          [
           "Uptown BK"
          ],
          [
           "Uptown BK"
          ],
          [
           "Uptown BK"
          ],
          [
           "Uptown BK"
          ],
          [
           "Uptown BK"
          ],
          [
           "Uptown BK"
          ],
          [
           "Uptown BK"
          ],
          [
           "Uptown BK"
          ],
          [
           "Uptown BK"
          ],
          [
           "Uptown BK"
          ],
          [
           "Uptown BK"
          ],
          [
           "Uptown BK"
          ],
          [
           "Uptown BK"
          ],
          [
           "Uptown BK"
          ],
          [
           "Uptown BK"
          ],
          [
           "Uptown BK"
          ],
          [
           "Uptown BK"
          ],
          [
           "Uptown BK"
          ],
          [
           "Uptown BK"
          ],
          [
           "Uptown BK"
          ],
          [
           "Uptown BK"
          ],
          [
           "Uptown BK"
          ],
          [
           "Uptown BK"
          ],
          [
           "Uptown BK"
          ],
          [
           "Uptown BK"
          ],
          [
           "Uptown BK"
          ],
          [
           "Uptown BK"
          ],
          [
           "Uptown BK"
          ]
         ],
         "hovertemplate": "concat=%{customdata[0]}<br>longitude=%{x}<br>latitude=%{y}<extra></extra>",
         "legendgroup": "Uptown BK",
         "marker": {
          "color": "#FECB52",
          "symbol": "circle"
         },
         "mode": "markers",
         "name": "Uptown BK",
         "showlegend": true,
         "type": "scattergl",
         "x": [
          -73.92586999999999,
          -73.92851,
          -73.950047,
          -73.955085,
          -73.935877,
          -73.92754000000001,
          -73.94910300000001,
          -73.92302,
          -73.91566,
          -73.947084,
          -73.941427,
          -73.92095,
          -73.92524,
          -73.952381,
          -73.944024,
          -73.933871,
          -73.95600096,
          -73.92825,
          -73.955201,
          -73.952991,
          -73.90505999999999,
          -73.90904,
          -73.947,
          -73.91966,
          -73.91320999999999,
          -73.944,
          -73.92146,
          -73.91945,
          -73.93856,
          -73.958525,
          -73.9488,
          -73.92304399999999,
          -73.92851999999999,
          -73.91605,
          -73.90756,
          -73.95,
          -73.90623000000001,
          -73.935,
          -73.941342,
          -73.953,
          -73.947,
          -73.95739,
          -73.92156999999999,
          -73.944859,
          -73.938475,
          -73.9179,
          -73.944,
          -73.952123,
          -73.960876,
          -73.954847,
          -73.90824,
          -73.962,
          -73.937569,
          -73.91564,
          -73.944,
          -73.91181,
          -73.948853,
          -73.959,
          -73.929891,
          -73.952343,
          -73.940636,
          -73.93323000000001,
          -73.95621,
          -73.953,
          -73.95,
          -73.93889,
          -73.91164,
          -73.946445,
          -73.9127,
          -73.94308000000001,
          -73.918877,
          -73.944,
          -73.9333,
          -73.923,
          -73.934903,
          -73.917,
          -73.908762,
          -73.93098,
          -73.946269,
          -73.94977,
          -73.9351,
          -73.926241,
          -73.9196,
          -73.953819,
          -73.942236,
          -73.95796700000001,
          -73.938037,
          -73.93641,
          -73.947059,
          -73.96525,
          -73.92153,
          -73.94173,
          -73.95779,
          -73.956981,
          -73.94051,
          -73.93894,
          -73.93223,
          -73.935775,
          -73.91693000000001,
          -73.91516,
          -73.960241,
          -73.93948,
          -73.93098,
          -73.95866,
          -73.92617,
          -73.95241999999999,
          -73.95921899999999,
          -73.90974,
          -73.94882,
          -73.944694,
          -73.90474,
          -73.955736,
          -73.90785600000001,
          -73.950322,
          -73.923769,
          -73.95608,
          -73.962,
          -73.93921,
          -73.91116,
          -73.95161,
          -73.965,
          -73.951413,
          -73.91226999999999,
          -73.94767900000001,
          -73.947,
          -73.92834,
          -73.90448,
          -73.9168,
          -73.90925,
          -73.919911,
          -73.92806999999999,
          -73.93734,
          -73.941,
          -73.95394,
          -73.92976,
          -73.95826,
          -73.95204,
          -73.953,
          -73.932,
          -73.90951,
          -73.95850899999999,
          -73.94407199999999,
          -73.94373,
          -73.949765,
          -73.911666,
          -73.954435,
          -73.937054,
          -73.945003,
          -73.950916,
          -73.939877,
          -73.95202900000001,
          -73.94791500000001,
          -73.93039,
          -73.92535,
          -73.91458,
          -73.942061,
          -73.92997,
          -73.94844,
          -73.94111,
          -73.94008000000001,
          -73.93581,
          -73.964089,
          -73.950415,
          -73.95414,
          -73.92836,
          -73.93372,
          -73.923511,
          -73.90798000000001,
          -73.961239,
          -73.94371,
          -73.90663,
          -73.96165,
          -73.948185,
          -73.93936,
          -73.91422,
          -73.960631,
          -73.944862,
          -73.940161,
          -73.90369,
          -73.93515,
          -73.94546,
          -73.949843,
          -73.949549
         ],
         "xaxis": "x",
         "y": [
          40.708690000000004,
          40.707,
          40.680983000000005,
          40.732321999999996,
          40.697480999999996,
          40.70166,
          40.713352,
          40.69676,
          40.697140000000005,
          40.69957608,
          40.678907,
          40.7027,
          40.69356,
          40.69527008,
          40.711863,
          40.707,
          40.71774592,
          40.69502,
          40.719,
          40.728,
          40.68906,
          40.69811,
          40.731,
          40.68822,
          40.68652,
          40.725570000000005,
          40.69146,
          40.70636,
          40.715353,
          40.71901,
          40.717662,
          40.699304,
          40.693290000000005,
          40.69296,
          40.68139,
          40.692,
          40.682809999999996,
          40.716657,
          40.698617,
          40.736999999999995,
          40.71638,
          40.714690000000004,
          40.71,
          40.7169811,
          40.680011,
          40.70108,
          40.716,
          40.723116999999995,
          40.710451,
          40.722,
          40.693000000000005,
          40.716887,
          40.69682,
          40.686,
          40.683,
          40.69055,
          40.719156,
          40.731814,
          40.679427000000004,
          40.71413311,
          40.7031724,
          40.714290000000005,
          40.72606,
          40.731,
          40.71,
          40.72226,
          40.69545,
          40.707,
          40.698,
          40.72325,
          40.698568,
          40.692,
          40.702831,
          40.707,
          40.681459999999994,
          40.704,
          40.701572999999996,
          40.69757,
          40.69425403,
          40.684020000000004,
          40.704508000000004,
          40.697842,
          40.69543,
          40.69331716,
          40.719079,
          40.70708701,
          40.682601,
          40.700759999999995,
          40.710369,
          40.710446000000005,
          40.705614000000004,
          40.725770000000004,
          40.72906,
          40.71286844,
          40.717729999999996,
          40.713229999999996,
          40.695440000000005,
          40.686312,
          40.69122,
          40.69905,
          40.71534825,
          40.71882,
          40.69757,
          40.735640000000004,
          40.692,
          40.71924,
          40.722482,
          40.69385,
          40.71764,
          40.686203000000006,
          40.67945,
          40.724055,
          40.709697,
          40.70029511,
          40.702013,
          40.709340000000005,
          40.713,
          40.700990000000004,
          40.70998,
          40.73124,
          40.713,
          40.711674,
          40.68858,
          40.680356,
          40.725,
          40.700003,
          40.69081,
          40.68663,
          40.68458,
          40.704876,
          40.696709999999996,
          40.710190000000004,
          40.712477,
          40.730259999999994,
          40.70539,
          40.732659999999996,
          40.733959999999996,
          40.686,
          40.70106,
          40.68929,
          40.717452,
          40.70510918,
          40.701665999999996,
          40.705381,
          40.6832,
          40.706842,
          40.692371,
          40.71929301,
          40.688334000000005,
          40.693398200000004,
          40.7160751,
          40.690082000000004,
          40.70112,
          40.70538,
          40.689890000000005,
          40.6894932,
          40.702996999999996,
          40.72084,
          40.6851532,
          40.709897,
          40.707174,
          40.708531,
          40.72179134,
          40.72795,
          40.704425,
          40.710681,
          40.69047,
          40.6882,
          40.731735,
          40.69622937,
          40.69467,
          40.720368,
          40.704118,
          40.705517,
          40.70113,
          40.71,
          40.708704,
          40.707678,
          40.6786,
          40.713811,
          40.721579999999996,
          40.725,
          40.69539817
         ],
         "yaxis": "y"
        }
       ],
       "layout": {
        "autosize": true,
        "legend": {
         "title": {
          "text": "concat"
         },
         "tracegroupgap": 0
        },
        "margin": {
         "t": 60
        },
        "template": {
         "data": {
          "bar": [
           {
            "error_x": {
             "color": "#2a3f5f"
            },
            "error_y": {
             "color": "#2a3f5f"
            },
            "marker": {
             "line": {
              "color": "#E5ECF6",
              "width": 0.5
             }
            },
            "type": "bar"
           }
          ],
          "barpolar": [
           {
            "marker": {
             "line": {
              "color": "#E5ECF6",
              "width": 0.5
             }
            },
            "type": "barpolar"
           }
          ],
          "carpet": [
           {
            "aaxis": {
             "endlinecolor": "#2a3f5f",
             "gridcolor": "white",
             "linecolor": "white",
             "minorgridcolor": "white",
             "startlinecolor": "#2a3f5f"
            },
            "baxis": {
             "endlinecolor": "#2a3f5f",
             "gridcolor": "white",
             "linecolor": "white",
             "minorgridcolor": "white",
             "startlinecolor": "#2a3f5f"
            },
            "type": "carpet"
           }
          ],
          "choropleth": [
           {
            "colorbar": {
             "outlinewidth": 0,
             "ticks": ""
            },
            "type": "choropleth"
           }
          ],
          "contour": [
           {
            "colorbar": {
             "outlinewidth": 0,
             "ticks": ""
            },
            "colorscale": [
             [
              0,
              "#0d0887"
             ],
             [
              0.1111111111111111,
              "#46039f"
             ],
             [
              0.2222222222222222,
              "#7201a8"
             ],
             [
              0.3333333333333333,
              "#9c179e"
             ],
             [
              0.4444444444444444,
              "#bd3786"
             ],
             [
              0.5555555555555556,
              "#d8576b"
             ],
             [
              0.6666666666666666,
              "#ed7953"
             ],
             [
              0.7777777777777778,
              "#fb9f3a"
             ],
             [
              0.8888888888888888,
              "#fdca26"
             ],
             [
              1,
              "#f0f921"
             ]
            ],
            "type": "contour"
           }
          ],
          "contourcarpet": [
           {
            "colorbar": {
             "outlinewidth": 0,
             "ticks": ""
            },
            "type": "contourcarpet"
           }
          ],
          "heatmap": [
           {
            "colorbar": {
             "outlinewidth": 0,
             "ticks": ""
            },
            "colorscale": [
             [
              0,
              "#0d0887"
             ],
             [
              0.1111111111111111,
              "#46039f"
             ],
             [
              0.2222222222222222,
              "#7201a8"
             ],
             [
              0.3333333333333333,
              "#9c179e"
             ],
             [
              0.4444444444444444,
              "#bd3786"
             ],
             [
              0.5555555555555556,
              "#d8576b"
             ],
             [
              0.6666666666666666,
              "#ed7953"
             ],
             [
              0.7777777777777778,
              "#fb9f3a"
             ],
             [
              0.8888888888888888,
              "#fdca26"
             ],
             [
              1,
              "#f0f921"
             ]
            ],
            "type": "heatmap"
           }
          ],
          "heatmapgl": [
           {
            "colorbar": {
             "outlinewidth": 0,
             "ticks": ""
            },
            "colorscale": [
             [
              0,
              "#0d0887"
             ],
             [
              0.1111111111111111,
              "#46039f"
             ],
             [
              0.2222222222222222,
              "#7201a8"
             ],
             [
              0.3333333333333333,
              "#9c179e"
             ],
             [
              0.4444444444444444,
              "#bd3786"
             ],
             [
              0.5555555555555556,
              "#d8576b"
             ],
             [
              0.6666666666666666,
              "#ed7953"
             ],
             [
              0.7777777777777778,
              "#fb9f3a"
             ],
             [
              0.8888888888888888,
              "#fdca26"
             ],
             [
              1,
              "#f0f921"
             ]
            ],
            "type": "heatmapgl"
           }
          ],
          "histogram": [
           {
            "marker": {
             "colorbar": {
              "outlinewidth": 0,
              "ticks": ""
             }
            },
            "type": "histogram"
           }
          ],
          "histogram2d": [
           {
            "colorbar": {
             "outlinewidth": 0,
             "ticks": ""
            },
            "colorscale": [
             [
              0,
              "#0d0887"
             ],
             [
              0.1111111111111111,
              "#46039f"
             ],
             [
              0.2222222222222222,
              "#7201a8"
             ],
             [
              0.3333333333333333,
              "#9c179e"
             ],
             [
              0.4444444444444444,
              "#bd3786"
             ],
             [
              0.5555555555555556,
              "#d8576b"
             ],
             [
              0.6666666666666666,
              "#ed7953"
             ],
             [
              0.7777777777777778,
              "#fb9f3a"
             ],
             [
              0.8888888888888888,
              "#fdca26"
             ],
             [
              1,
              "#f0f921"
             ]
            ],
            "type": "histogram2d"
           }
          ],
          "histogram2dcontour": [
           {
            "colorbar": {
             "outlinewidth": 0,
             "ticks": ""
            },
            "colorscale": [
             [
              0,
              "#0d0887"
             ],
             [
              0.1111111111111111,
              "#46039f"
             ],
             [
              0.2222222222222222,
              "#7201a8"
             ],
             [
              0.3333333333333333,
              "#9c179e"
             ],
             [
              0.4444444444444444,
              "#bd3786"
             ],
             [
              0.5555555555555556,
              "#d8576b"
             ],
             [
              0.6666666666666666,
              "#ed7953"
             ],
             [
              0.7777777777777778,
              "#fb9f3a"
             ],
             [
              0.8888888888888888,
              "#fdca26"
             ],
             [
              1,
              "#f0f921"
             ]
            ],
            "type": "histogram2dcontour"
           }
          ],
          "mesh3d": [
           {
            "colorbar": {
             "outlinewidth": 0,
             "ticks": ""
            },
            "type": "mesh3d"
           }
          ],
          "parcoords": [
           {
            "line": {
             "colorbar": {
              "outlinewidth": 0,
              "ticks": ""
             }
            },
            "type": "parcoords"
           }
          ],
          "pie": [
           {
            "automargin": true,
            "type": "pie"
           }
          ],
          "scatter": [
           {
            "marker": {
             "colorbar": {
              "outlinewidth": 0,
              "ticks": ""
             }
            },
            "type": "scatter"
           }
          ],
          "scatter3d": [
           {
            "line": {
             "colorbar": {
              "outlinewidth": 0,
              "ticks": ""
             }
            },
            "marker": {
             "colorbar": {
              "outlinewidth": 0,
              "ticks": ""
             }
            },
            "type": "scatter3d"
           }
          ],
          "scattercarpet": [
           {
            "marker": {
             "colorbar": {
              "outlinewidth": 0,
              "ticks": ""
             }
            },
            "type": "scattercarpet"
           }
          ],
          "scattergeo": [
           {
            "marker": {
             "colorbar": {
              "outlinewidth": 0,
              "ticks": ""
             }
            },
            "type": "scattergeo"
           }
          ],
          "scattergl": [
           {
            "marker": {
             "colorbar": {
              "outlinewidth": 0,
              "ticks": ""
             }
            },
            "type": "scattergl"
           }
          ],
          "scattermapbox": [
           {
            "marker": {
             "colorbar": {
              "outlinewidth": 0,
              "ticks": ""
             }
            },
            "type": "scattermapbox"
           }
          ],
          "scatterpolar": [
           {
            "marker": {
             "colorbar": {
              "outlinewidth": 0,
              "ticks": ""
             }
            },
            "type": "scatterpolar"
           }
          ],
          "scatterpolargl": [
           {
            "marker": {
             "colorbar": {
              "outlinewidth": 0,
              "ticks": ""
             }
            },
            "type": "scatterpolargl"
           }
          ],
          "scatterternary": [
           {
            "marker": {
             "colorbar": {
              "outlinewidth": 0,
              "ticks": ""
             }
            },
            "type": "scatterternary"
           }
          ],
          "surface": [
           {
            "colorbar": {
             "outlinewidth": 0,
             "ticks": ""
            },
            "colorscale": [
             [
              0,
              "#0d0887"
             ],
             [
              0.1111111111111111,
              "#46039f"
             ],
             [
              0.2222222222222222,
              "#7201a8"
             ],
             [
              0.3333333333333333,
              "#9c179e"
             ],
             [
              0.4444444444444444,
              "#bd3786"
             ],
             [
              0.5555555555555556,
              "#d8576b"
             ],
             [
              0.6666666666666666,
              "#ed7953"
             ],
             [
              0.7777777777777778,
              "#fb9f3a"
             ],
             [
              0.8888888888888888,
              "#fdca26"
             ],
             [
              1,
              "#f0f921"
             ]
            ],
            "type": "surface"
           }
          ],
          "table": [
           {
            "cells": {
             "fill": {
              "color": "#EBF0F8"
             },
             "line": {
              "color": "white"
             }
            },
            "header": {
             "fill": {
              "color": "#C8D4E3"
             },
             "line": {
              "color": "white"
             }
            },
            "type": "table"
           }
          ]
         },
         "layout": {
          "annotationdefaults": {
           "arrowcolor": "#2a3f5f",
           "arrowhead": 0,
           "arrowwidth": 1
          },
          "autotypenumbers": "strict",
          "coloraxis": {
           "colorbar": {
            "outlinewidth": 0,
            "ticks": ""
           }
          },
          "colorscale": {
           "diverging": [
            [
             0,
             "#8e0152"
            ],
            [
             0.1,
             "#c51b7d"
            ],
            [
             0.2,
             "#de77ae"
            ],
            [
             0.3,
             "#f1b6da"
            ],
            [
             0.4,
             "#fde0ef"
            ],
            [
             0.5,
             "#f7f7f7"
            ],
            [
             0.6,
             "#e6f5d0"
            ],
            [
             0.7,
             "#b8e186"
            ],
            [
             0.8,
             "#7fbc41"
            ],
            [
             0.9,
             "#4d9221"
            ],
            [
             1,
             "#276419"
            ]
           ],
           "sequential": [
            [
             0,
             "#0d0887"
            ],
            [
             0.1111111111111111,
             "#46039f"
            ],
            [
             0.2222222222222222,
             "#7201a8"
            ],
            [
             0.3333333333333333,
             "#9c179e"
            ],
            [
             0.4444444444444444,
             "#bd3786"
            ],
            [
             0.5555555555555556,
             "#d8576b"
            ],
            [
             0.6666666666666666,
             "#ed7953"
            ],
            [
             0.7777777777777778,
             "#fb9f3a"
            ],
            [
             0.8888888888888888,
             "#fdca26"
            ],
            [
             1,
             "#f0f921"
            ]
           ],
           "sequentialminus": [
            [
             0,
             "#0d0887"
            ],
            [
             0.1111111111111111,
             "#46039f"
            ],
            [
             0.2222222222222222,
             "#7201a8"
            ],
            [
             0.3333333333333333,
             "#9c179e"
            ],
            [
             0.4444444444444444,
             "#bd3786"
            ],
            [
             0.5555555555555556,
             "#d8576b"
            ],
            [
             0.6666666666666666,
             "#ed7953"
            ],
            [
             0.7777777777777778,
             "#fb9f3a"
            ],
            [
             0.8888888888888888,
             "#fdca26"
            ],
            [
             1,
             "#f0f921"
            ]
           ]
          },
          "colorway": [
           "#636efa",
           "#EF553B",
           "#00cc96",
           "#ab63fa",
           "#FFA15A",
           "#19d3f3",
           "#FF6692",
           "#B6E880",
           "#FF97FF",
           "#FECB52"
          ],
          "font": {
           "color": "#2a3f5f"
          },
          "geo": {
           "bgcolor": "white",
           "lakecolor": "white",
           "landcolor": "#E5ECF6",
           "showlakes": true,
           "showland": true,
           "subunitcolor": "white"
          },
          "hoverlabel": {
           "align": "left"
          },
          "hovermode": "closest",
          "mapbox": {
           "style": "light"
          },
          "paper_bgcolor": "white",
          "plot_bgcolor": "#E5ECF6",
          "polar": {
           "angularaxis": {
            "gridcolor": "white",
            "linecolor": "white",
            "ticks": ""
           },
           "bgcolor": "#E5ECF6",
           "radialaxis": {
            "gridcolor": "white",
            "linecolor": "white",
            "ticks": ""
           }
          },
          "scene": {
           "xaxis": {
            "backgroundcolor": "#E5ECF6",
            "gridcolor": "white",
            "gridwidth": 2,
            "linecolor": "white",
            "showbackground": true,
            "ticks": "",
            "zerolinecolor": "white"
           },
           "yaxis": {
            "backgroundcolor": "#E5ECF6",
            "gridcolor": "white",
            "gridwidth": 2,
            "linecolor": "white",
            "showbackground": true,
            "ticks": "",
            "zerolinecolor": "white"
           },
           "zaxis": {
            "backgroundcolor": "#E5ECF6",
            "gridcolor": "white",
            "gridwidth": 2,
            "linecolor": "white",
            "showbackground": true,
            "ticks": "",
            "zerolinecolor": "white"
           }
          },
          "shapedefaults": {
           "line": {
            "color": "#2a3f5f"
           }
          },
          "ternary": {
           "aaxis": {
            "gridcolor": "white",
            "linecolor": "white",
            "ticks": ""
           },
           "baxis": {
            "gridcolor": "white",
            "linecolor": "white",
            "ticks": ""
           },
           "bgcolor": "#E5ECF6",
           "caxis": {
            "gridcolor": "white",
            "linecolor": "white",
            "ticks": ""
           }
          },
          "title": {
           "x": 0.05
          },
          "xaxis": {
           "automargin": true,
           "gridcolor": "white",
           "linecolor": "white",
           "ticks": "",
           "title": {
            "standoff": 15
           },
           "zerolinecolor": "white",
           "zerolinewidth": 2
          },
          "yaxis": {
           "automargin": true,
           "gridcolor": "white",
           "linecolor": "white",
           "ticks": "",
           "title": {
            "standoff": 15
           },
           "zerolinecolor": "white",
           "zerolinewidth": 2
          }
         }
        },
        "xaxis": {
         "anchor": "y",
         "autorange": true,
         "domain": [
          0,
          1
         ],
         "range": [
          -74.03428161202186,
          -73.87323338797813
         ],
         "title": {
          "text": "longitude"
         },
         "type": "linear"
        },
        "yaxis": {
         "anchor": "x",
         "autorange": true,
         "domain": [
          0,
          1
         ],
         "range": [
          40.61629362338858,
          40.89153137661142
         ],
         "title": {
          "text": "latitude"
         },
         "type": "linear"
        }
       }
      },
      "image/png": "[encoded data removed]",
      "text/html": [
       "<div>                            <div id=\"ce213bb1-5ba0-4aa5-9577-c579c2d46deb\" class=\"plotly-graph-div\" style=\"height:800px; width:100%;\"></div>            <script type=\"text/javascript\">                require([\"plotly\"], function(Plotly) {                    window.PLOTLYENV=window.PLOTLYENV || {};                                    if (document.getElementById(\"ce213bb1-5ba0-4aa5-9577-c579c2d46deb\")) {                    Plotly.newPlot(                        \"ce213bb1-5ba0-4aa5-9577-c579c2d46deb\",                        [{\"customdata\": [[\"Queens\"], [\"Queens\"], [\"Queens\"], [\"Queens\"], [\"Queens\"], [\"Queens\"], [\"Queens\"], [\"Queens\"], [\"Queens\"], [\"Queens\"], [\"Queens\"], [\"Queens\"], [\"Queens\"], [\"Queens\"], [\"Queens\"], [\"Queens\"], [\"Queens\"], [\"Queens\"], [\"Queens\"], [\"Queens\"], [\"Queens\"], [\"Queens\"], [\"Queens\"], [\"Queens\"], [\"Queens\"], [\"Queens\"], [\"Queens\"], [\"Queens\"], [\"Queens\"], [\"Queens\"], [\"Queens\"], [\"Queens\"], [\"Queens\"], [\"Queens\"], [\"Queens\"], [\"Queens\"], [\"Queens\"], [\"Queens\"], [\"Queens\"], [\"Queens\"], [\"Queens\"], [\"Queens\"], [\"Queens\"], [\"Queens\"], [\"Queens\"], [\"Queens\"], [\"Queens\"], [\"Queens\"], [\"Queens\"], [\"Queens\"], [\"Queens\"], [\"Queens\"], [\"Queens\"], [\"Queens\"], [\"Queens\"], [\"Queens\"], [\"Queens\"], [\"Queens\"], [\"Queens\"], [\"Queens\"], [\"Queens\"], [\"Queens\"], [\"Queens\"], [\"Queens\"], [\"Queens\"], [\"Queens\"], [\"Queens\"], [\"Queens\"], [\"Queens\"], [\"Queens\"], [\"Queens\"], [\"Queens\"], [\"Queens\"], [\"Queens\"], [\"Queens\"], [\"Queens\"], [\"Queens\"], [\"Queens\"], [\"Queens\"], [\"Queens\"], [\"Queens\"], [\"Queens\"], [\"Queens\"], [\"Queens\"], [\"Queens\"], [\"Queens\"], [\"Queens\"], [\"Queens\"], [\"Queens\"], [\"Queens\"], [\"Queens\"], [\"Queens\"], [\"Queens\"], [\"Queens\"], [\"Queens\"], [\"Queens\"], [\"Queens\"], [\"Queens\"], [\"Queens\"], [\"Queens\"], [\"Queens\"], [\"Queens\"], [\"Queens\"], [\"Queens\"], [\"Queens\"], [\"Queens\"], [\"Queens\"], [\"Queens\"], [\"Queens\"], [\"Queens\"], [\"Queens\"], [\"Queens\"], [\"Queens\"], [\"Queens\"], [\"Queens\"], [\"Queens\"], [\"Queens\"], [\"Queens\"], [\"Queens\"], [\"Queens\"], [\"Queens\"], [\"Queens\"], [\"Queens\"], [\"Queens\"], [\"Queens\"], [\"Queens\"], [\"Queens\"], [\"Queens\"], [\"Queens\"], [\"Queens\"], [\"Queens\"], [\"Queens\"], [\"Queens\"], [\"Queens\"], [\"Queens\"], [\"Queens\"], [\"Queens\"], [\"Queens\"], [\"Queens\"], [\"Queens\"], [\"Queens\"], [\"Queens\"], [\"Queens\"], [\"Queens\"], [\"Queens\"], [\"Queens\"], [\"Queens\"], [\"Queens\"], [\"Queens\"], [\"Queens\"], [\"Queens\"], [\"Queens\"], [\"Queens\"], [\"Queens\"], [\"Queens\"], [\"Queens\"], [\"Queens\"], [\"Queens\"], [\"Queens\"], [\"Queens\"], [\"Queens\"], [\"Queens\"], [\"Queens\"], [\"Queens\"], [\"Queens\"], [\"Queens\"], [\"Queens\"], [\"Queens\"], [\"Queens\"], [\"Queens\"], [\"Queens\"], [\"Queens\"], [\"Queens\"], [\"Queens\"], [\"Queens\"], [\"Queens\"], [\"Queens\"], [\"Queens\"], [\"Queens\"]], \"hovertemplate\": \"concat=%{customdata[0]}<br>longitude=%{x}<br>latitude=%{y}<extra></extra>\", \"legendgroup\": \"Queens\", \"marker\": {\"color\": \"#636efa\", \"symbol\": \"circle\"}, \"mode\": \"markers\", \"name\": \"Queens\", \"showlegend\": true, \"type\": \"scattergl\", \"x\": [-73.92370600000001, -73.94733199999999, -73.96044, -73.90311, -73.910989, -73.912555, -73.957539, -73.9566, -73.918544, -73.943263, -73.910485, -73.896293, -73.93417099999999, -73.917, -73.912297, -73.91614200000001, -73.95960600000001, -73.923711, -73.94609200000001, -73.937258, -73.933492, -73.920603, -73.927991, -73.918975, -73.914527, -73.93271899999999, -73.934326, -73.9397405, -73.921631, -73.930819, -73.93366999999999, -73.940737, -73.9397405, -73.912212, -73.9342, -73.944, -73.90742, -73.90632, -73.90570799999999, -73.907107, -73.91833000000001, -73.9007, -73.90245, -73.924614, -73.9521, -73.923, -73.9096, -73.930913, -73.934777, -73.908906, -73.929737, -73.939122, -73.928607, -73.90878199999999, -73.93214499999999, -73.936515, -73.903787, -73.93985500000001, -73.92093299999999, -73.932662, -73.914564, -73.945948, -73.90463199999999, -73.90238199999999, -73.94335699999999, -73.90408000000001, -73.930486, -73.90774300000001, -73.920827, -73.923661, -73.91054, -73.90100100000001, -73.924031, -73.915839, -73.932266, -73.900318, -73.918115, -73.889914, -73.92254, -73.941275, -73.934286, -73.904726, -73.959, -73.915026, -73.912715, -73.927436, -73.9391141, -73.919543, -73.95284000000001, -73.948852, -73.928647, -73.908335, -73.916985, -73.91426700000001, -73.955873, -73.939863, -73.91119, -73.916894, -73.949772, -73.935, -73.941764, -73.901614, -73.922242, -73.925384, -73.906127, -73.906018, -73.914934, -73.899558, -73.917007, -73.947911, -73.90737, -73.9364281, -73.93077, -73.910651, -73.90271, -73.912093, -73.91497, -73.90675999999999, -73.927631, -73.94856700000001, -73.910963, -73.896849, -73.958652, -73.90342700000001, -73.909562, -73.93378940000001, -73.917014, -73.90655799999999, -73.953457, -73.91999799999999, -73.936484, -73.90841999999999, -73.912402, -73.92793, -73.93735500000001, -73.937956, -73.89353100000001, -73.902534, -73.91091999999999, -73.895166, -73.93796999999999, -73.925921, -73.915098, -73.918405, -73.914952, -73.915317, -73.91292, -73.914142, -73.91171800000001, -73.91873000000001, -73.916636, -73.9022, -73.911517, -73.926223, -73.929574, -73.90625, -73.92495699999999, -73.935, -73.913669, -73.900063, -73.90765400000001, -73.941126, -73.89795, -73.923162, -73.90983100000001, -73.930562, -73.953, -73.919046, -73.91337, -73.890745, -73.93561, -73.926547, -73.95451, -73.903865, -73.927144, -73.893675, -73.936272, -73.90674, -73.917007], \"xaxis\": \"x\", \"y\": [40.774645, 40.745248, 40.741609999999994, 40.695170000000005, 40.76072, 40.774788, 40.746, 40.742374, 40.774591, 40.74718234, 40.776168, 40.76817, 40.770845, 40.71, 40.784003000000006, 40.7729, 40.743365999999995, 40.707165, 40.748000000000005, 40.741283, 40.751870000000004, 40.753091, 40.753111, 40.759058, 40.782465, 40.757186, 40.754876, 40.752708500000004, 40.756913, 40.7659, 40.75473, 40.751999999999995, 40.752708500000004, 40.780478, 40.77485, 40.758, 40.70068, 40.70694, 40.779399, 40.760083, 40.78145, 40.6988, 40.70555, 40.771361999999996, 40.74966, 40.7580583, 40.705529999999996, 40.773983, 40.7668, 40.754164, 40.752443, 40.7576314, 40.77037429999999, 40.763328, 40.759628, 40.756351, 40.774798, 40.763155, 40.767549, 40.7726, 40.778719, 40.75052534, 40.764496, 40.777112, 40.75326, 40.70408, 40.766824, 40.771394, 40.763154, 40.755733, 40.704609999999995, 40.769219, 40.7647, 40.764175, 40.7682, 40.754176, 40.765476, 40.770888, 40.777455200000006, 40.7485, 40.762814, 40.757357, 40.736999999999995, 40.751554999999996, 40.755763, 40.772768, 40.76274420000001, 40.754139, 40.73555, 40.743, 40.763359, 40.774306, 40.7671, 40.7595701, 40.744363, 40.765353999999995, 40.773015, 40.783955999999996, 40.747085999999996, 40.77, 40.743752, 40.757525, 40.760339, 40.752371999999994, 40.772717, 40.769673, 40.77406, 40.778089, 40.771153000000005, 40.7519071, 40.70413, 40.752575799999995, 40.78294, 40.764089, 40.69812, 40.770148, 40.70863, 40.765753000000004, 40.7767, 40.7552433, 40.767666, 40.772899, 40.753702000000004, 40.75574, 40.761294, 40.7747175, 40.754795, 40.776745, 40.744907, 40.750181, 40.763875299999995, 40.77813, 40.753440999999995, 40.714009999999995, 40.7671863, 40.753599, 40.768442, 40.762507, 40.70793, 40.772092, 40.751047, 40.761584, 40.785994, 40.769918, 40.75388, 40.776165, 40.70577, 40.763422, 40.699871, 40.713, 40.7577284, 40.699690000000004, 40.755389, 40.756933200000006, 40.756513, 40.70183, 40.768692, 40.746, 40.7656251, 40.775415, 40.757764, 40.761438, 40.699220000000004, 40.77977, 40.758057, 40.76108, 40.743, 40.778557, 40.69943, 40.768728, 40.743, 40.765834999999996, 40.74731, 40.771203, 40.759603999999996, 40.77028, 40.760185299999996, 40.6972, 40.761148999999996], \"yaxis\": \"y\"}, {\"customdata\": [[\"Bronx\"], [\"Bronx\"], [\"Bronx\"], [\"Bronx\"], [\"Bronx\"], [\"Bronx\"], [\"Bronx\"], [\"Bronx\"], [\"Bronx\"], [\"Bronx\"], [\"Bronx\"], [\"Bronx\"], [\"Bronx\"], [\"Bronx\"], [\"Bronx\"], [\"Bronx\"], [\"Bronx\"], [\"Bronx\"], [\"Bronx\"], [\"Bronx\"], [\"Bronx\"], [\"Bronx\"], [\"Bronx\"], [\"Bronx\"], [\"Bronx\"], [\"Bronx\"], [\"Bronx\"], [\"Bronx\"], [\"Bronx\"], [\"Bronx\"], [\"Bronx\"], [\"Bronx\"], [\"Bronx\"], [\"Bronx\"], [\"Bronx\"], [\"Bronx\"], [\"Bronx\"], [\"Bronx\"], [\"Bronx\"], [\"Bronx\"], [\"Bronx\"], [\"Bronx\"], [\"Bronx\"], [\"Bronx\"], [\"Bronx\"], [\"Bronx\"], [\"Bronx\"], [\"Bronx\"], [\"Bronx\"], [\"Bronx\"], [\"Bronx\"], [\"Bronx\"], [\"Bronx\"], [\"Bronx\"], [\"Bronx\"], [\"Bronx\"], [\"Bronx\"], [\"Bronx\"], [\"Bronx\"], [\"Bronx\"], [\"Bronx\"], [\"Bronx\"], [\"Bronx\"], [\"Bronx\"], [\"Bronx\"], [\"Bronx\"], [\"Bronx\"], [\"Bronx\"], [\"Bronx\"], [\"Bronx\"], [\"Bronx\"], [\"Bronx\"], [\"Bronx\"], [\"Bronx\"], [\"Bronx\"], [\"Bronx\"], [\"Bronx\"], [\"Bronx\"], [\"Bronx\"], [\"Bronx\"], [\"Bronx\"], [\"Bronx\"], [\"Bronx\"], [\"Bronx\"], [\"Bronx\"], [\"Bronx\"], [\"Bronx\"], [\"Bronx\"], [\"Bronx\"], [\"Bronx\"], [\"Bronx\"], [\"Bronx\"], [\"Bronx\"], [\"Bronx\"], [\"Bronx\"], [\"Bronx\"], [\"Bronx\"], [\"Bronx\"], [\"Bronx\"], [\"Bronx\"], [\"Bronx\"], [\"Bronx\"], [\"Bronx\"], [\"Bronx\"], [\"Bronx\"], [\"Bronx\"], [\"Bronx\"], [\"Bronx\"], [\"Bronx\"], [\"Bronx\"], [\"Bronx\"], [\"Bronx\"], [\"Bronx\"], [\"Bronx\"], [\"Bronx\"], [\"Bronx\"], [\"Bronx\"], [\"Bronx\"], [\"Bronx\"], [\"Bronx\"], [\"Bronx\"], [\"Bronx\"], [\"Bronx\"], [\"Bronx\"], [\"Bronx\"], [\"Bronx\"], [\"Bronx\"], [\"Bronx\"], [\"Bronx\"], [\"Bronx\"], [\"Bronx\"], [\"Bronx\"], [\"Bronx\"], [\"Bronx\"], [\"Bronx\"], [\"Bronx\"], [\"Bronx\"], [\"Bronx\"], [\"Bronx\"], [\"Bronx\"], [\"Bronx\"], [\"Bronx\"], [\"Bronx\"], [\"Bronx\"], [\"Bronx\"], [\"Bronx\"], [\"Bronx\"], [\"Bronx\"], [\"Bronx\"], [\"Bronx\"], [\"Bronx\"], [\"Bronx\"], [\"Bronx\"], [\"Bronx\"], [\"Bronx\"], [\"Bronx\"], [\"Bronx\"], [\"Bronx\"], [\"Bronx\"], [\"Bronx\"], [\"Bronx\"], [\"Bronx\"], [\"Bronx\"], [\"Bronx\"], [\"Bronx\"], [\"Bronx\"], [\"Bronx\"], [\"Bronx\"], [\"Bronx\"], [\"Bronx\"], [\"Bronx\"], [\"Bronx\"], [\"Bronx\"], [\"Bronx\"], [\"Bronx\"], [\"Bronx\"], [\"Bronx\"], [\"Bronx\"], [\"Bronx\"], [\"Bronx\"], [\"Bronx\"], [\"Bronx\"], [\"Bronx\"], [\"Bronx\"], [\"Bronx\"], [\"Bronx\"], [\"Bronx\"], [\"Bronx\"], [\"Bronx\"], [\"Bronx\"], [\"Bronx\"], [\"Bronx\"], [\"Bronx\"], [\"Bronx\"], [\"Bronx\"], [\"Bronx\"], [\"Bronx\"], [\"Bronx\"], [\"Bronx\"], [\"Bronx\"], [\"Bronx\"], [\"Bronx\"], [\"Bronx\"], [\"Bronx\"], [\"Bronx\"], [\"Bronx\"], [\"Bronx\"], [\"Bronx\"], [\"Bronx\"], [\"Bronx\"], [\"Bronx\"], [\"Bronx\"], [\"Bronx\"], [\"Bronx\"], [\"Bronx\"], [\"Bronx\"], [\"Bronx\"], [\"Bronx\"], [\"Bronx\"], [\"Bronx\"], [\"Bronx\"], [\"Bronx\"], [\"Bronx\"], [\"Bronx\"], [\"Bronx\"], [\"Bronx\"]], \"hovertemplate\": \"concat=%{customdata[0]}<br>longitude=%{x}<br>latitude=%{y}<extra></extra>\", \"legendgroup\": \"Bronx\", \"marker\": {\"color\": \"#EF553B\", \"symbol\": \"circle\"}, \"mode\": \"markers\", \"name\": \"Bronx\", \"showlegend\": true, \"type\": \"scattergl\", \"x\": [-73.895133, -73.90153000000001, -73.923, -73.928947, -73.911759, -73.891677, -73.896447, -73.88661, -73.91640699999999, -73.927987, -73.914737, -73.912604, -73.888161, -73.91081, -73.915585, -73.922423, -73.929327, -73.927311, -73.926907, -73.903719, -73.916792, -73.917579, -73.91125, -73.919549, -73.908351, -73.911837, -73.900216, -73.908699, -73.907999, -73.88430799999999, -73.90419200000001, -73.886659, -73.91725600000001, -73.918214, -73.921461, -73.90521, -73.92207900000001, -73.91154499999999, -73.892686, -73.903927, -73.896752, -73.925961, -73.92404, -73.905203, -73.88772900000001, -73.911034, -73.899939, -73.88793100000001, -73.886445, -73.912042, -73.919763, -73.917447, -73.908731, -73.90549, -73.907729, -73.917641, -73.90131099999999, -73.91241099999999, -73.917037, -73.91507299999999, -73.888587, -73.885272, -73.9109, -73.891559, -73.90266, -73.919205, -73.91219, -73.898802, -73.927111, -73.927311, -73.92243, -73.92965, -73.908863, -73.913004, -73.899047, -73.924689, -73.89685300000001, -73.907451, -73.888271, -73.904556, -73.91888900000001, -73.892103, -73.915368, -73.926075, -73.89794, -73.929153, -73.890247, -73.916071, -73.925101, -73.91765500000001, -73.914, -73.91769000000001, -73.912498, -73.92818, -73.914311, -73.919637, -73.913741, -73.907618, -73.91008000000001, -73.89246, -73.901883, -73.896372, -73.903944, -73.888624, -73.90108000000001, -73.89714000000001, -73.924963, -73.912785, -73.903178, -73.896599, -73.928747, -73.907521, -73.908964, -73.907999, -73.92608800000001, -73.892317, -73.918316, -73.905838, -73.92036999999999, -73.88854599999999, -73.92703399999999, -73.917, -73.926226, -73.89533, -73.910765, -73.905528, -73.900277, -73.89148, -73.914688, -73.925294, -73.928939, -73.92160600000001, -73.888719, -73.8985, -73.901583, -73.91608199999999, -73.910489, -73.903927, -73.898237, -73.91089000000001, -73.90854399999999, -73.911259, -73.91278, -73.91288, -73.890413, -73.90486700000001, -73.894025, -73.930605, -73.886312, -73.911918, -73.91471800000001, -73.893721, -73.928803, -73.89506899999999, -73.91924, -73.916661, -73.911479, -73.908116, -73.927421, -73.908345, -73.907302, -73.89615, -73.90079, -73.909513, -73.89483100000001, -73.913863, -73.929372, -73.889686, -73.898589, -73.894143, -73.922962, -73.881875, -73.917875, -73.90316, -73.903869, -73.905158, -73.91135899999999, -73.920999, -73.91956, -73.928381, -73.918389, -73.92710699999999, -73.903743, -73.907342, -73.897263, -73.917946, -73.901824, -73.902185, -73.92272, -73.923, -73.931015, -73.90208, -73.90241999999999, -73.89522, -73.92112, -73.92141099999999, -73.894717, -73.916124, -73.911, -73.9149, -73.90202, -73.88955, -73.91839, -73.909235, -73.8985, -73.89186, -73.91171999999999, -73.922394, -73.92326700000001, -73.898751, -73.925177, -73.907199, -73.8855, -73.898385, -73.9174, -73.919379, -73.9154, -73.92339100000001, -73.91641800000001, -73.897366, -73.901318, -73.907199, -73.92389, -73.88839, -73.893142, -73.919228], \"xaxis\": \"x\", \"y\": [40.835302, 40.83545, 40.809, 40.820089, 40.820713, 40.824956, 40.816342999999996, 40.87382, 40.824811, 40.816576, 40.817166, 40.838315, 40.816567, 40.808890999999996, 40.825716, 40.839312, 40.826677000000004, 40.810893, 40.822351, 40.828199, 40.822267, 40.820570000000004, 40.830940000000005, 40.816402000000004, 40.81989, 40.806896, 40.843078999999996, 40.823871999999994, 40.807347, 40.836273999999996, 40.811892, 40.827628999999995, 40.844075, 40.853157, 40.829608, 40.82895, 40.847746, 40.804168, 40.831998, 40.814232000000004, 40.821967, 40.839141999999995, 40.80046, 40.817802, 40.825322, 40.800425, 40.815077, 40.836733, 40.839335, 40.844811, 40.803399, 40.831305, 40.853646000000005, 40.83999, 40.811314, 40.834263, 40.819701, 40.819823, 40.811675, 40.840683, 40.839194, 40.832648999999996, 40.83899, 40.816126000000004, 40.858472, 40.849629, 40.86156, 40.82995, 40.827883, 40.825737, 40.83406, 40.817755, 40.834015, 40.839549, 40.839228999999996, 40.823429, 40.831762, 40.82696, 40.820578000000005, 40.830471, 40.805089, 40.830051, 40.814383, 40.84207, 40.86659, 40.812304, 40.818743, 40.819609, 40.83263, 40.82723, 40.812, 40.828846999999996, 40.853685999999996, 40.82441, 40.845504999999996, 40.846011, 40.83579, 40.829896000000005, 40.858340000000005, 40.863890000000005, 40.847798, 40.827301, 40.820302000000005, 40.818726, 40.86294, 40.871559999999995, 40.814469, 40.850035999999996, 40.848793, 40.833246, 40.830179, 40.82188, 40.851746999999996, 40.807258000000004, 40.836706, 40.841091999999996, 40.836490000000005, 40.838378999999996, 40.812298999999996, 40.821952, 40.838706, 40.818000000000005, 40.831444, 40.873870000000004, 40.850121, 40.855653000000004, 40.839586, 40.86945, 40.822215, 40.818154, 40.822216999999995, 40.81093, 40.826706, 40.842240000000004, 40.812769, 40.848177, 40.837576, 40.814232000000004, 40.856987, 40.824, 40.842675, 40.828975, 40.855156, 40.82809, 40.837037, 40.843264000000005, 40.82394, 40.813224, 40.830025, 40.815887, 40.805559, 40.827184, 40.808484, 40.821075, 40.807408, 40.854946999999996, 40.840494, 40.816124, 40.832057, 40.837213, 40.856302, 40.85556, 40.860079999999996, 40.801657, 40.861915, 40.800933, 40.832812, 40.832171, 40.861669, 40.818185, 40.81734, 40.870496, 40.809619, 40.86288, 40.846465, 40.832678, 40.847409999999996, 40.843965000000004, 40.831959999999995, 40.834457, 40.848354, 40.807466, 40.834857, 40.846879, 40.819998999999996, 40.840484000000004, 40.822545, 40.837119, 40.827115, 40.812734999999996, 40.829797, 40.83171, 40.824796, 40.86448, 40.833909000000006, 40.820036, 40.830529, 40.808633, 40.815, 40.831584, 40.81899, 40.834123999999996, 40.814673, 40.813134999999996, 40.842240000000004, 40.87444, 40.84301, 40.83173, 40.823161999999996, 40.826303, 40.805701, 40.836103, 40.813990999999994, 40.853929, 40.802620000000005, 40.823732, 40.835334, 40.830262, 40.851788, 40.823926, 40.850535, 40.836179, 40.793459999999996, 40.87142, 40.8358771, 40.840536], \"yaxis\": \"y\"}, {\"customdata\": [[\"Central Park East/West\"], [\"Central Park East/West\"], [\"Central Park East/West\"], [\"Central Park East/West\"], [\"Central Park East/West\"], [\"Central Park East/West\"], [\"Central Park East/West\"], [\"Central Park East/West\"], [\"Central Park East/West\"], [\"Central Park East/West\"], [\"Central Park East/West\"], [\"Central Park East/West\"], [\"Central Park East/West\"], [\"Central Park East/West\"], [\"Central Park East/West\"], [\"Central Park East/West\"], [\"Central Park East/West\"], [\"Central Park East/West\"], [\"Central Park East/West\"], [\"Central Park East/West\"], [\"Central Park East/West\"], [\"Central Park East/West\"], [\"Central Park East/West\"], [\"Central Park East/West\"], [\"Central Park East/West\"], [\"Central Park East/West\"], [\"Central Park East/West\"], [\"Central Park East/West\"], [\"Central Park East/West\"], [\"Central Park East/West\"], [\"Central Park East/West\"], [\"Central Park East/West\"], [\"Central Park East/West\"], [\"Central Park East/West\"], [\"Central Park East/West\"], [\"Central Park East/West\"], [\"Central Park East/West\"], [\"Central Park East/West\"], [\"Central Park East/West\"], [\"Central Park East/West\"], [\"Central Park East/West\"], [\"Central Park East/West\"], [\"Central Park East/West\"], [\"Central Park East/West\"], [\"Central Park East/West\"], [\"Central Park East/West\"], [\"Central Park East/West\"], [\"Central Park East/West\"], [\"Central Park East/West\"], [\"Central Park East/West\"], [\"Central Park East/West\"], [\"Central Park East/West\"], [\"Central Park East/West\"], [\"Central Park East/West\"], [\"Central Park East/West\"], [\"Central Park East/West\"], [\"Central Park East/West\"], [\"Central Park East/West\"], [\"Central Park East/West\"], [\"Central Park East/West\"], [\"Central Park East/West\"], [\"Central Park East/West\"], [\"Central Park East/West\"], [\"Central Park East/West\"], [\"Central Park East/West\"], [\"Central Park East/West\"], [\"Central Park East/West\"], [\"Central Park East/West\"], [\"Central Park East/West\"], [\"Central Park East/West\"], [\"Central Park East/West\"], [\"Central Park East/West\"], [\"Central Park East/West\"], [\"Central Park East/West\"], [\"Central Park East/West\"], [\"Central Park East/West\"], [\"Central Park East/West\"], [\"Central Park East/West\"], [\"Central Park East/West\"], [\"Central Park East/West\"], [\"Central Park East/West\"], [\"Central Park East/West\"], [\"Central Park East/West\"], [\"Central Park East/West\"], [\"Central Park East/West\"], [\"Central Park East/West\"], [\"Central Park East/West\"], [\"Central Park East/West\"], [\"Central Park East/West\"], [\"Central Park East/West\"], [\"Central Park East/West\"], [\"Central Park East/West\"], [\"Central Park East/West\"], [\"Central Park East/West\"], [\"Central Park East/West\"], [\"Central Park East/West\"], [\"Central Park East/West\"], [\"Central Park East/West\"], [\"Central Park East/West\"], [\"Central Park East/West\"], [\"Central Park East/West\"], [\"Central Park East/West\"], [\"Central Park East/West\"], [\"Central Park East/West\"], [\"Central Park East/West\"], [\"Central Park East/West\"], [\"Central Park East/West\"], [\"Central Park East/West\"], [\"Central Park East/West\"], [\"Central Park East/West\"], [\"Central Park East/West\"], [\"Central Park East/West\"], [\"Central Park East/West\"], [\"Central Park East/West\"], [\"Central Park East/West\"], [\"Central Park East/West\"], [\"Central Park East/West\"], [\"Central Park East/West\"], [\"Central Park East/West\"], [\"Central Park East/West\"], [\"Central Park East/West\"], [\"Central Park East/West\"], [\"Central Park East/West\"], [\"Central Park East/West\"], [\"Central Park East/West\"], [\"Central Park East/West\"], [\"Central Park East/West\"], [\"Central Park East/West\"], [\"Central Park East/West\"], [\"Central Park East/West\"], [\"Central Park East/West\"], [\"Central Park East/West\"], [\"Central Park East/West\"], [\"Central Park East/West\"], [\"Central Park East/West\"], [\"Central Park East/West\"], [\"Central Park East/West\"]], \"hovertemplate\": \"concat=%{customdata[0]}<br>longitude=%{x}<br>latitude=%{y}<extra></extra>\", \"legendgroup\": \"Central Park East/West\", \"marker\": {\"color\": \"#00cc96\", \"symbol\": \"circle\"}, \"mode\": \"markers\", \"name\": \"Central Park East/West\", \"showlegend\": true, \"type\": \"scattergl\", \"x\": [-73.97283399999999, -73.97137, -73.988885, -73.972628, -73.988639, -73.978984, -73.966852, -73.94891899999999, -73.959757, -73.95772, -73.9646, -73.97648516, -73.967244, -73.962, -73.957481, -73.944, -73.977003, -73.985161, -73.959, -73.967596, -73.964839, -73.977825, -73.970694, -73.948033, -73.958184, -73.97620500000001, -73.955327, -73.958407, -73.979602, -73.977112, -73.97981999999999, -73.964179, -73.97399999999999, -73.960607, -73.968452, -73.976341, -73.99005, -73.97513000000001, -73.965, -73.979085, -73.983, -73.96222, -73.98191800000001, -73.98, -73.972095, -73.972078, -73.976673, -73.954274, -73.98128100000001, -73.9747, -73.962246, -73.967416, -73.971878, -73.96427299999999, -73.981693, -73.967641, -73.96685276, -73.985624, -73.955959, -73.977, -73.966033, -73.993928, -73.984705, -73.953, -73.973714, -73.971888, -73.96961715, -73.972889, -73.953, -73.960693, -73.973747, -73.989186, -73.958561, -73.96094000000001, -73.95675200000001, -73.97031366, -73.97757, -73.971, -73.982681, -73.990625, -73.982665, -73.978434, -73.967034, -73.952166, -73.990617, -73.982885, -73.98042, -73.983, -73.984527, -73.959009, -73.977549, -73.988038, -73.957722, -73.9668, -73.986, -73.98093133, -73.949892, -73.98899999999999, -73.974023, -73.981923, -73.977, -73.95577800000001, -73.967843, -73.96526800000001, -73.971211, -73.968, -73.974235, -73.962262, -73.9739, -73.981687, -73.97399999999999, -73.970415, -73.966382, -73.979068, -73.978081, -73.961199, -73.947721, -73.970325, -73.971, -73.954822, -73.94682, -73.96648977, -73.96409399999999, -73.978651, -73.992573, -73.982614, -73.95, -73.948813, -73.949655, -73.9536, -73.969305, -73.953, -73.959, -73.94604100000001, -73.965929, -73.96961715, -73.98899999999999], \"xaxis\": \"x\", \"y\": [40.785, 40.78275, 40.779, 40.761573, 40.768254, 40.777058000000004, 40.77282817, 40.782454, 40.776173, 40.779, 40.763954, 40.75992262, 40.760999999999996, 40.773763, 40.785785100000005, 40.775999999999996, 40.793135, 40.764, 40.759107, 40.75934501, 40.791270000000004, 40.773407, 40.758281, 40.77536905, 40.76500525, 40.775794, 40.783502, 40.768762, 40.757936, 40.786795, 40.76133, 40.756265, 40.7941654, 40.769943, 40.768009, 40.766999999999996, 40.77237, 40.75863, 40.767801, 40.782536, 40.76228826, 40.764719, 40.77, 40.779668, 40.763026, 40.757148, 40.785247, 40.774778999999995, 40.787209000000004, 40.78839, 40.767128, 40.756014, 40.754601, 40.776321, 40.76695317, 40.755293, 40.773, 40.782, 40.781411, 40.758, 40.75797322, 40.76727216, 40.775999999999996, 40.779, 40.764397100000004, 40.7937704, 40.785, 40.791, 40.766999999999996, 40.7781314, 40.778968, 40.77516, 40.77314236, 40.761227399999996, 40.77573034, 40.75968085, 40.789621999999994, 40.764, 40.763441, 40.771771, 40.775999999999996, 40.763201, 40.7691572, 40.782, 40.766999999999996, 40.77748046, 40.760659999999994, 40.785, 40.760999999999996, 40.77677702, 40.778566999999995, 40.770513, 40.77112927, 40.788665, 40.766999999999996, 40.78339981, 40.773, 40.764, 40.759710999999996, 40.7652654, 40.780184000000006, 40.773, 40.752069, 40.763126, 40.782593, 40.791956, 40.757334, 40.758924, 40.7921, 40.783786, 40.755103000000005, 40.7882213, 40.75792, 40.766999999999996, 40.7597, 40.768737, 40.763909000000005, 40.753231, 40.766999999999996, 40.768974, 40.772461, 40.76440023, 40.771183, 40.7829391, 40.768333, 40.773, 40.775999999999996, 40.779, 40.782, 40.757284000000006, 40.757632, 40.77140426, 40.78307, 40.779, 40.75455731, 40.78472675, 40.771522], \"yaxis\": \"y\"}, {\"customdata\": [[\"Uptown Manhattan\"], [\"Uptown Manhattan\"], [\"Uptown Manhattan\"], [\"Uptown Manhattan\"], [\"Uptown Manhattan\"], [\"Uptown Manhattan\"], [\"Uptown Manhattan\"], [\"Uptown Manhattan\"], [\"Uptown Manhattan\"], [\"Uptown Manhattan\"], [\"Uptown Manhattan\"], [\"Uptown Manhattan\"], [\"Uptown Manhattan\"], [\"Uptown Manhattan\"], [\"Uptown Manhattan\"], [\"Uptown Manhattan\"], [\"Uptown Manhattan\"], [\"Uptown Manhattan\"], [\"Uptown Manhattan\"], [\"Uptown Manhattan\"], [\"Uptown Manhattan\"], [\"Uptown Manhattan\"], [\"Uptown Manhattan\"], [\"Uptown Manhattan\"], [\"Uptown Manhattan\"], [\"Uptown Manhattan\"], [\"Uptown Manhattan\"], [\"Uptown Manhattan\"], [\"Uptown Manhattan\"], [\"Uptown Manhattan\"], [\"Uptown Manhattan\"], [\"Uptown Manhattan\"], [\"Uptown Manhattan\"], [\"Uptown Manhattan\"], [\"Uptown Manhattan\"], [\"Uptown Manhattan\"], [\"Uptown Manhattan\"], [\"Uptown Manhattan\"], [\"Uptown Manhattan\"], [\"Uptown Manhattan\"], [\"Uptown Manhattan\"], [\"Uptown Manhattan\"], [\"Uptown Manhattan\"], [\"Uptown Manhattan\"], [\"Uptown Manhattan\"], [\"Uptown Manhattan\"], [\"Uptown Manhattan\"], [\"Uptown Manhattan\"], [\"Uptown Manhattan\"], [\"Uptown Manhattan\"], [\"Uptown Manhattan\"], [\"Uptown Manhattan\"], [\"Uptown Manhattan\"], [\"Uptown Manhattan\"], [\"Uptown Manhattan\"], [\"Uptown Manhattan\"], [\"Uptown Manhattan\"], [\"Uptown Manhattan\"], [\"Uptown Manhattan\"], [\"Uptown Manhattan\"], [\"Uptown Manhattan\"], [\"Uptown Manhattan\"], [\"Uptown Manhattan\"], [\"Uptown Manhattan\"], [\"Uptown Manhattan\"], [\"Uptown Manhattan\"], [\"Uptown Manhattan\"], [\"Uptown Manhattan\"], [\"Uptown Manhattan\"], [\"Uptown Manhattan\"], [\"Uptown Manhattan\"], [\"Uptown Manhattan\"], [\"Uptown Manhattan\"], [\"Uptown Manhattan\"], [\"Uptown Manhattan\"], [\"Uptown Manhattan\"], [\"Uptown Manhattan\"], [\"Uptown Manhattan\"], [\"Uptown Manhattan\"], [\"Uptown Manhattan\"], [\"Uptown Manhattan\"], [\"Uptown Manhattan\"], [\"Uptown Manhattan\"], [\"Uptown Manhattan\"], [\"Uptown Manhattan\"], [\"Uptown Manhattan\"], [\"Uptown Manhattan\"], [\"Uptown Manhattan\"], [\"Uptown Manhattan\"], [\"Uptown Manhattan\"], [\"Uptown Manhattan\"], [\"Uptown Manhattan\"], [\"Uptown Manhattan\"], [\"Uptown Manhattan\"], [\"Uptown Manhattan\"], [\"Uptown Manhattan\"], [\"Uptown Manhattan\"], [\"Uptown Manhattan\"], [\"Uptown Manhattan\"], [\"Uptown Manhattan\"], [\"Uptown Manhattan\"], [\"Uptown Manhattan\"], [\"Uptown Manhattan\"], [\"Uptown Manhattan\"], [\"Uptown Manhattan\"], [\"Uptown Manhattan\"], [\"Uptown Manhattan\"], [\"Uptown Manhattan\"], [\"Uptown Manhattan\"], [\"Uptown Manhattan\"], [\"Uptown Manhattan\"], [\"Uptown Manhattan\"], [\"Uptown Manhattan\"], [\"Uptown Manhattan\"], [\"Uptown Manhattan\"], [\"Uptown Manhattan\"], [\"Uptown Manhattan\"], [\"Uptown Manhattan\"], [\"Uptown Manhattan\"], [\"Uptown Manhattan\"], [\"Uptown Manhattan\"], [\"Uptown Manhattan\"], [\"Uptown Manhattan\"], [\"Uptown Manhattan\"], [\"Uptown Manhattan\"], [\"Uptown Manhattan\"], [\"Uptown Manhattan\"], [\"Uptown Manhattan\"], [\"Uptown Manhattan\"], [\"Uptown Manhattan\"], [\"Uptown Manhattan\"], [\"Uptown Manhattan\"], [\"Uptown Manhattan\"], [\"Uptown Manhattan\"], [\"Uptown Manhattan\"], [\"Uptown Manhattan\"], [\"Uptown Manhattan\"], [\"Uptown Manhattan\"]], \"hovertemplate\": \"concat=%{customdata[0]}<br>longitude=%{x}<br>latitude=%{y}<extra></extra>\", \"legendgroup\": \"Uptown Manhattan\", \"marker\": {\"color\": \"#ab63fa\", \"symbol\": \"circle\"}, \"mode\": \"markers\", \"name\": \"Uptown Manhattan\", \"showlegend\": true, \"type\": \"scattergl\", \"x\": [-73.93891500000001, -73.933334, -73.934077, -73.947764, -73.94425, -73.936254, -73.966494, -73.94594000000001, -73.939336, -73.945925, -73.966449, -73.95, -73.957163, -73.9645, -73.964341, -73.95033000000001, -73.938, -73.94370699999999, -73.95206, -73.95469200000001, -73.961589, -73.94860200000001, -73.935856, -73.96417, -73.962, -73.94945, -73.93504, -73.941427, -73.93726099999999, -73.95474300000001, -73.947257, -73.945208, -73.942295, -73.9349, -73.95042600000001, -73.952499, -73.9634, -73.95242900000001, -73.97114499999999, -73.960708, -73.956461, -73.947283, -73.9383, -73.936322, -73.941928, -73.951877, -73.96295, -73.953, -73.938787, -73.941994, -73.94386, -73.936521, -73.946168, -73.959, -73.948222, -73.947, -73.964928, -73.933509, -73.942954, -73.956, -73.946665, -73.939686, -73.941057, -73.93608499999999, -73.951335, -73.944123, -73.959089, -73.96040500000001, -73.951475, -73.94427900000001, -73.9597, -73.9641, -73.96699100000001, -73.93973000000001, -73.953242, -73.941878, -73.95324699999999, -73.942924, -73.953149, -73.94521, -73.94716700000001, -73.937838, -73.951989, -73.945909, -73.950503, -73.941648, -73.94160600000001, -73.947568, -73.970411, -73.93794799999999, -73.945144, -73.957364, -73.959, -73.951819, -73.95515, -73.954295, -73.949228, -73.945525, -73.943208, -73.93623199999999, -73.955277, -73.94174699999999, -73.949078, -73.949738, -73.951346, -73.941616, -73.937413, -73.952761, -73.96059, -73.94306800000001, -73.96818, -73.955857, -73.944846, -73.91906, -73.945993, -73.936153, -73.935971, -73.949373, -73.96186, -73.947, -73.95593000000001, -73.961254, -73.9379, -73.939249, -73.942722, -73.931184, -73.950988, -73.962, -73.93981600000001, -73.949702, -73.9423, -73.95615600000001, -73.9523, -73.955613, -73.948222, -73.947868, -73.93719499999999, -73.939562], \"xaxis\": \"x\", \"y\": [40.799139000000004, 40.794988000000004, 40.805631, 40.809495, 40.801487, 40.79456629999999, 40.799040999999995, 40.782, 40.813619, 40.804038, 40.800836, 40.801194, 40.817555, 40.795, 40.796935, 40.790483, 40.809, 40.789211, 40.788129999999995, 40.805159, 40.796037, 40.7859201, 40.815484000000005, 40.792495, 40.794000000000004, 40.793434000000005, 40.797470000000004, 40.826881, 40.797, 40.824013, 40.825244, 40.808442, 40.816959999999995, 40.8006721, 40.829114000000004, 40.792255299999994, 40.8109494, 40.789485, 40.801343, 40.8067581, 40.813358, 40.787721399999995, 40.7923272, 40.805726, 40.823060999999996, 40.8114323, 40.802692, 40.788000000000004, 40.817245, 40.800539, 40.823498, 40.819783, 40.812346000000005, 40.815, 40.816234, 40.797, 40.806, 40.802554, 40.80295, 40.803000000000004, 40.831327, 40.804556, 40.819241, 40.806414000000004, 40.796170000000004, 40.79541210000001, 40.820003, 40.818298999999996, 40.804372, 40.829522999999995, 40.7903, 40.8082, 40.804213, 40.810140000000004, 40.802535, 40.81296, 40.814394, 40.828309999999995, 40.809725, 40.813539, 40.783964000000005, 40.812191, 40.827304999999996, 40.827075, 40.7849032, 40.786995000000005, 40.795508, 40.818477, 40.797372100000004, 40.826406, 40.820681, 40.810285, 40.809, 40.819746, 40.81, 40.816355, 40.8125511, 40.786259, 40.793296999999995, 40.825289, 40.818212, 40.806979999999996, 40.802557, 40.826969, 40.822756, 40.825125, 40.82281, 40.821728, 40.798186, 40.8107922, 40.802116999999996, 40.823168, 40.798945, 40.79558, 40.791976, 40.81449, 40.821111, 40.809, 40.795346, 40.791, 40.8038654, 40.8120562, 40.802926299999996, 40.820877, 40.827212, 40.7974772, 40.818215, 40.8, 40.801307, 40.832164, 40.797911, 40.8190344, 40.798786, 40.8, 40.816234, 40.821294, 40.810224, 40.789253], \"yaxis\": \"y\"}, {\"customdata\": [[\"Downtown Manhattan\"], [\"Downtown Manhattan\"], [\"Downtown Manhattan\"], [\"Downtown Manhattan\"], [\"Downtown Manhattan\"], [\"Downtown Manhattan\"], [\"Downtown Manhattan\"], [\"Downtown Manhattan\"], [\"Downtown Manhattan\"], [\"Downtown Manhattan\"], [\"Downtown Manhattan\"], [\"Downtown Manhattan\"], [\"Downtown Manhattan\"], [\"Downtown Manhattan\"], [\"Downtown Manhattan\"], [\"Downtown Manhattan\"], [\"Downtown Manhattan\"], [\"Downtown Manhattan\"], [\"Downtown Manhattan\"], [\"Downtown Manhattan\"], [\"Downtown Manhattan\"], [\"Downtown Manhattan\"], [\"Downtown Manhattan\"], [\"Downtown Manhattan\"], [\"Downtown Manhattan\"], [\"Downtown Manhattan\"], [\"Downtown Manhattan\"], [\"Downtown Manhattan\"], [\"Downtown Manhattan\"], [\"Downtown Manhattan\"], [\"Downtown Manhattan\"], [\"Downtown Manhattan\"], [\"Downtown Manhattan\"], [\"Downtown Manhattan\"], [\"Downtown Manhattan\"], [\"Downtown Manhattan\"], [\"Downtown Manhattan\"], [\"Downtown Manhattan\"], [\"Downtown Manhattan\"], [\"Downtown Manhattan\"], [\"Downtown Manhattan\"], [\"Downtown Manhattan\"], [\"Downtown Manhattan\"], [\"Downtown Manhattan\"], [\"Downtown Manhattan\"], [\"Downtown Manhattan\"], [\"Downtown Manhattan\"], [\"Downtown Manhattan\"], [\"Downtown Manhattan\"], [\"Downtown Manhattan\"], [\"Downtown Manhattan\"], [\"Downtown Manhattan\"], [\"Downtown Manhattan\"], [\"Downtown Manhattan\"], [\"Downtown Manhattan\"], [\"Downtown Manhattan\"], [\"Downtown Manhattan\"], [\"Downtown Manhattan\"], [\"Downtown Manhattan\"], [\"Downtown Manhattan\"], [\"Downtown Manhattan\"], [\"Downtown Manhattan\"], [\"Downtown Manhattan\"], [\"Downtown Manhattan\"], [\"Downtown Manhattan\"], [\"Downtown Manhattan\"], [\"Downtown Manhattan\"], [\"Downtown Manhattan\"], [\"Downtown Manhattan\"], [\"Downtown Manhattan\"], [\"Downtown Manhattan\"], [\"Downtown Manhattan\"], [\"Downtown Manhattan\"], [\"Downtown Manhattan\"], [\"Downtown Manhattan\"], [\"Downtown Manhattan\"], [\"Downtown Manhattan\"], [\"Downtown Manhattan\"], [\"Downtown Manhattan\"], [\"Downtown Manhattan\"], [\"Downtown Manhattan\"], [\"Downtown Manhattan\"], [\"Downtown Manhattan\"], [\"Downtown Manhattan\"], [\"Downtown Manhattan\"], [\"Downtown Manhattan\"], [\"Downtown Manhattan\"], [\"Downtown Manhattan\"], [\"Downtown Manhattan\"], [\"Downtown Manhattan\"], [\"Downtown Manhattan\"], [\"Downtown Manhattan\"], [\"Downtown Manhattan\"], [\"Downtown Manhattan\"], [\"Downtown Manhattan\"], [\"Downtown Manhattan\"], [\"Downtown Manhattan\"], [\"Downtown Manhattan\"], [\"Downtown Manhattan\"], [\"Downtown Manhattan\"], [\"Downtown Manhattan\"], [\"Downtown Manhattan\"], [\"Downtown Manhattan\"], [\"Downtown Manhattan\"], [\"Downtown Manhattan\"], [\"Downtown Manhattan\"], [\"Downtown Manhattan\"], [\"Downtown Manhattan\"], [\"Downtown Manhattan\"], [\"Downtown Manhattan\"], [\"Downtown Manhattan\"], [\"Downtown Manhattan\"], [\"Downtown Manhattan\"], [\"Downtown Manhattan\"], [\"Downtown Manhattan\"], [\"Downtown Manhattan\"], [\"Downtown Manhattan\"], [\"Downtown Manhattan\"], [\"Downtown Manhattan\"], [\"Downtown Manhattan\"], [\"Downtown Manhattan\"], [\"Downtown Manhattan\"], [\"Downtown Manhattan\"], [\"Downtown Manhattan\"], [\"Downtown Manhattan\"], [\"Downtown Manhattan\"], [\"Downtown Manhattan\"], [\"Downtown Manhattan\"], [\"Downtown Manhattan\"], [\"Downtown Manhattan\"], [\"Downtown Manhattan\"], [\"Downtown Manhattan\"], [\"Downtown Manhattan\"], [\"Downtown Manhattan\"], [\"Downtown Manhattan\"], [\"Downtown Manhattan\"], [\"Downtown Manhattan\"], [\"Downtown Manhattan\"]], \"hovertemplate\": \"concat=%{customdata[0]}<br>longitude=%{x}<br>latitude=%{y}<extra></extra>\", \"legendgroup\": \"Downtown Manhattan\", \"marker\": {\"color\": \"#FFA15A\", \"symbol\": \"circle\"}, \"mode\": \"markers\", \"name\": \"Downtown Manhattan\", \"showlegend\": true, \"type\": \"scattergl\", \"x\": [-74.007221, -74.005627, -73.994223, -74.00234737, -73.99974300000001, -74.01324699999999, -73.986274, -74.010202, -74.006536, -74.013012, -74.002149, -73.99810231, -73.996732, -73.994463, -74.009447, -74.01169300000001, -73.995652, -74.005549, -73.98416999999999, -74.011223, -74.00887, -74.004386, -74.006125, -74.016, -73.981095, -73.993161, -74.001, -73.999496, -74.00166999999999, -73.986168, -74.01129499999999, -73.983298, -73.97793100000001, -74.000263, -74.00859100000001, -73.98978000000001, -74.007717, -73.979954, -73.981854, -74.005362, -73.98583599999999, -74.005664, -74.00838676, -73.976687, -74.00926, -73.97628900000001, -74.000472, -74.00666600000001, -74.01198000000001, -74.009, -74.007867, -74.002344, -74.002751, -73.992939, -73.986389, -73.98899999999999, -73.991479, -74.02535300000001, -74.00731800000001, -74.00399999999999, -73.991907, -73.9948, -73.99973299999999, -74.013942, -73.979481, -73.990696, -73.99662099999999, -74.000165, -74.007, -74.00165799999999, -73.995101, -74.009105, -73.995, -74.0103, -74.00697, -73.99379, -73.998, -73.994003, -73.98, -74.012342, -74.006744, -73.98899999999999, -74.009659, -74.00296999999999, -73.98783399999999, -73.99906, -74.01575600000001, -74.004607, -74.004322, -74.006702, -74.014865, -73.988649, -74.013, -73.989111, -74.00495, -73.996826, -73.995101, -74.008769, -73.999687, -74.008873, -73.990993, -73.992662, -74.01043382, -74.01507, -74.008514, -74.01361700000001, -73.998, -74.017134, -74.007653, -74.016, -73.98178, -73.99193000000001, -74.00636999999999, -74.005524, -73.991925, -74.009106, -73.997249, -73.99704679999999, -73.987029, -74.010065, -73.985179, -74.014847, -73.983, -74.009354, -73.9899, -73.980165, -73.994046, -73.991475, -74.012723, -74.011677, -73.986726, -74.009355, -73.984844, -74.00530063, -73.982612, -74.01045500000001, -73.987763, -73.98801999999999], \"xaxis\": \"x\", \"y\": [40.70862144, 40.714504999999996, 40.716, 40.7217, 40.71602118, 40.709267, 40.720746999999996, 40.71291224, 40.71, 40.714979, 40.730385999999996, 40.72917025, 40.714193, 40.713107, 40.711065999999995, 40.728487, 40.724561, 40.719, 40.715119, 40.714852, 40.73115, 40.707722, 40.70531, 40.707, 40.714215, 40.717797999999995, 40.71939226, 40.72362738, 40.707873, 40.726331, 40.727714, 40.71850211, 40.72082834, 40.73224119, 40.728846000000004, 40.726281, 40.721854, 40.72299208, 40.72453734, 40.727897, 40.723077, 40.722438000000004, 40.703799200000006, 40.722281, 40.704718, 40.71782143, 40.726378000000004, 40.719116, 40.72866, 40.719, 40.703367, 40.71494807, 40.708484999999996, 40.714067, 40.725864, 40.704, 40.719383, 40.685126000000004, 40.707065, 40.725, 40.716059, 40.72318, 40.71910537, 40.701907, 40.713, 40.725029, 40.727064, 40.71117416, 40.734, 40.724947, 40.726156, 40.71625008, 40.719, 40.720195000000004, 40.73498, 40.72743423, 40.72917025, 40.71076228, 40.722, 40.70122128, 40.73172428, 40.720196, 40.72405549, 40.727103, 40.724677, 40.73047747, 40.711512, 40.712733, 40.710322999999995, 40.703554, 40.692316999999996, 40.723356, 40.719, 40.722055, 40.70838, 40.71117444, 40.726156, 40.731911, 40.728401, 40.70717936, 40.72769, 40.71893904, 40.70905623, 40.70463, 40.733424, 40.70463334, 40.71307916, 40.708346999999996, 40.725840000000005, 40.716, 40.719260999999996, 40.713, 40.704370000000004, 40.711464, 40.721101000000004, 40.71474, 40.722103999999995, 40.71413089, 40.71559509, 40.721319, 40.72066442, 40.711444, 40.72217444, 40.708589, 40.714275, 40.7174, 40.72903917, 40.72229346, 40.702551, 40.704, 40.711471, 40.713342, 40.713126, 40.70823502, 40.71622644, 40.717488, 40.71269042, 40.7172274], \"yaxis\": \"y\"}, {\"customdata\": [[\"Midtown Manhattan\"], [\"Midtown Manhattan\"], [\"Midtown Manhattan\"], [\"Midtown Manhattan\"], [\"Midtown Manhattan\"], [\"Midtown Manhattan\"], [\"Midtown Manhattan\"], [\"Midtown Manhattan\"], [\"Midtown Manhattan\"], [\"Midtown Manhattan\"], [\"Midtown Manhattan\"], [\"Midtown Manhattan\"], [\"Midtown Manhattan\"], [\"Midtown Manhattan\"], [\"Midtown Manhattan\"], [\"Midtown Manhattan\"], [\"Midtown Manhattan\"], [\"Midtown Manhattan\"], [\"Midtown Manhattan\"], [\"Midtown Manhattan\"], [\"Midtown Manhattan\"], [\"Midtown Manhattan\"], [\"Midtown Manhattan\"], [\"Midtown Manhattan\"], [\"Midtown Manhattan\"], [\"Midtown Manhattan\"], [\"Midtown Manhattan\"], [\"Midtown Manhattan\"], [\"Midtown Manhattan\"], [\"Midtown Manhattan\"], [\"Midtown Manhattan\"], [\"Midtown Manhattan\"], [\"Midtown Manhattan\"], [\"Midtown Manhattan\"], [\"Midtown Manhattan\"], [\"Midtown Manhattan\"], [\"Midtown Manhattan\"], [\"Midtown Manhattan\"], [\"Midtown Manhattan\"], [\"Midtown Manhattan\"], [\"Midtown Manhattan\"], [\"Midtown Manhattan\"], [\"Midtown Manhattan\"], [\"Midtown Manhattan\"], [\"Midtown Manhattan\"], [\"Midtown Manhattan\"], [\"Midtown Manhattan\"], [\"Midtown Manhattan\"], [\"Midtown Manhattan\"], [\"Midtown Manhattan\"], [\"Midtown Manhattan\"], [\"Midtown Manhattan\"], [\"Midtown Manhattan\"], [\"Midtown Manhattan\"], [\"Midtown Manhattan\"], [\"Midtown Manhattan\"], [\"Midtown Manhattan\"], [\"Midtown Manhattan\"], [\"Midtown Manhattan\"], [\"Midtown Manhattan\"], [\"Midtown Manhattan\"], [\"Midtown Manhattan\"], [\"Midtown Manhattan\"], [\"Midtown Manhattan\"], [\"Midtown Manhattan\"], [\"Midtown Manhattan\"], [\"Midtown Manhattan\"], [\"Midtown Manhattan\"], [\"Midtown Manhattan\"], [\"Midtown Manhattan\"], [\"Midtown Manhattan\"], [\"Midtown Manhattan\"], [\"Midtown Manhattan\"], [\"Midtown Manhattan\"], [\"Midtown Manhattan\"], [\"Midtown Manhattan\"], [\"Midtown Manhattan\"], [\"Midtown Manhattan\"], [\"Midtown Manhattan\"], [\"Midtown Manhattan\"], [\"Midtown Manhattan\"], [\"Midtown Manhattan\"], [\"Midtown Manhattan\"], [\"Midtown Manhattan\"], [\"Midtown Manhattan\"], [\"Midtown Manhattan\"], [\"Midtown Manhattan\"], [\"Midtown Manhattan\"], [\"Midtown Manhattan\"], [\"Midtown Manhattan\"], [\"Midtown Manhattan\"], [\"Midtown Manhattan\"], [\"Midtown Manhattan\"], [\"Midtown Manhattan\"], [\"Midtown Manhattan\"], [\"Midtown Manhattan\"], [\"Midtown Manhattan\"], [\"Midtown Manhattan\"], [\"Midtown Manhattan\"], [\"Midtown Manhattan\"], [\"Midtown Manhattan\"], [\"Midtown Manhattan\"], [\"Midtown Manhattan\"], [\"Midtown Manhattan\"], [\"Midtown Manhattan\"], [\"Midtown Manhattan\"], [\"Midtown Manhattan\"], [\"Midtown Manhattan\"], [\"Midtown Manhattan\"], [\"Midtown Manhattan\"], [\"Midtown Manhattan\"], [\"Midtown Manhattan\"], [\"Midtown Manhattan\"], [\"Midtown Manhattan\"], [\"Midtown Manhattan\"], [\"Midtown Manhattan\"], [\"Midtown Manhattan\"], [\"Midtown Manhattan\"], [\"Midtown Manhattan\"], [\"Midtown Manhattan\"], [\"Midtown Manhattan\"], [\"Midtown Manhattan\"], [\"Midtown Manhattan\"], [\"Midtown Manhattan\"], [\"Midtown Manhattan\"], [\"Midtown Manhattan\"], [\"Midtown Manhattan\"], [\"Midtown Manhattan\"], [\"Midtown Manhattan\"], [\"Midtown Manhattan\"], [\"Midtown Manhattan\"], [\"Midtown Manhattan\"], [\"Midtown Manhattan\"], [\"Midtown Manhattan\"], [\"Midtown Manhattan\"], [\"Midtown Manhattan\"], [\"Midtown Manhattan\"], [\"Midtown Manhattan\"], [\"Midtown Manhattan\"], [\"Midtown Manhattan\"], [\"Midtown Manhattan\"], [\"Midtown Manhattan\"], [\"Midtown Manhattan\"], [\"Midtown Manhattan\"], [\"Midtown Manhattan\"], [\"Midtown Manhattan\"], [\"Midtown Manhattan\"], [\"Midtown Manhattan\"], [\"Midtown Manhattan\"], [\"Midtown Manhattan\"], [\"Midtown Manhattan\"], [\"Midtown Manhattan\"], [\"Midtown Manhattan\"], [\"Midtown Manhattan\"], [\"Midtown Manhattan\"], [\"Midtown Manhattan\"], [\"Midtown Manhattan\"], [\"Midtown Manhattan\"], [\"Midtown Manhattan\"], [\"Midtown Manhattan\"], [\"Midtown Manhattan\"], [\"Midtown Manhattan\"], [\"Midtown Manhattan\"], [\"Midtown Manhattan\"], [\"Midtown Manhattan\"], [\"Midtown Manhattan\"], [\"Midtown Manhattan\"], [\"Midtown Manhattan\"], [\"Midtown Manhattan\"], [\"Midtown Manhattan\"], [\"Midtown Manhattan\"]], \"hovertemplate\": \"concat=%{customdata[0]}<br>longitude=%{x}<br>latitude=%{y}<extra></extra>\", \"legendgroup\": \"Midtown Manhattan\", \"marker\": {\"color\": \"#19d3f3\", \"symbol\": \"circle\"}, \"mode\": \"markers\", \"name\": \"Midtown Manhattan\", \"showlegend\": true, \"type\": \"scattergl\", \"x\": [-73.99093, -73.98658, -73.978092, -73.977885, -73.983, -73.99490300000001, -74.008119, -73.984092, -73.980544, -74.00514100000001, -73.996429, -74.006817, -73.998, -73.99431, -73.99663699999999, -74.00506999999999, -74.002353, -73.992, -73.98057249, -73.994564, -73.99125500000001, -73.986, -73.9916, -73.983, -74.00295, -74.001, -73.995, -73.9788, -73.977, -73.99144799999999, -73.997401, -73.99839200000001, -73.986, -73.98, -73.99011, -73.983, -73.975738, -73.97113, -73.987882, -73.977292, -73.97399999999999, -74.001768, -73.990741, -73.98953900000001, -73.992, -73.971387, -73.984267, -73.983293, -73.993012, -73.98205, -73.98808416, -74.007, -73.98490699999999, -74.00618, -73.975748, -73.971212, -73.99158043, -73.98751899999999, -73.996674, -73.98316936, -74.00264, -74.001, -73.97499599999999, -73.986713, -74.003664, -73.971214, -73.969053, -73.993799, -74.00483, -73.998522, -73.9789838, -73.98163199999999, -73.98, -73.986, -73.973984, -73.993934, -73.988557, -73.987973, -73.98263100000001, -73.982079, -73.98471500000001, -74.000271, -73.99372222, -73.997262, -73.982153, -73.97344190000001, -73.99468399999999, -73.977, -73.979504, -74.001, -73.977, -73.977, -73.981948, -73.988596, -73.98899999999999, -73.983, -73.99516700000001, -73.980144, -73.98291153, -74.003675, -74.002938, -73.987654, -73.988899, -73.991943, -74.00859200000001, -73.97422494, -74.00004, -73.986, -74.008315, -73.97574813, -73.97680600000001, -73.984737, -73.985302, -73.97966, -73.979737, -73.97574813, -73.981655, -73.975158, -73.99800400000001, -73.996975, -73.993915, -73.97992099999999, -73.99453948, -73.990752, -73.998, -73.97399999999999, -73.990985, -73.9916, -73.98165557, -73.995816, -73.98805, -73.977724, -73.99138152, -73.998, -73.985649, -73.99704374, -74.002776, -73.98899999999999, -73.977687, -74.00170200000001, -74.000939, -73.997235, -73.98974, -73.99529799999999, -73.972826, -73.996088, -73.991026, -73.976831, -73.97822099999999, -74.007, -73.988483, -73.98, -73.987216, -74.002637, -73.97604882, -73.98455, -73.989551, -73.989186, -73.986723, -74.004518, -73.999946, -73.994618, -73.98255, -73.977, -74.00399999999999, -73.98849, -74.005274, -73.99176999999999, -73.994155, -73.9979, -73.987535], \"xaxis\": \"x\", \"y\": [40.7502, 40.755136, 40.741724, 40.746524, 40.741459000000006, 40.731437, 40.739323, 40.740259, 40.733812, 40.745686, 40.738046000000004, 40.74334935, 40.760999999999996, 40.735445, 40.747968, 40.739447999999996, 40.752694, 40.73492695, 40.72955361, 40.73971301, 40.760999999999996, 40.734232, 40.749156, 40.75038009, 40.749718, 40.755942, 40.734, 40.747574, 40.736999999999995, 40.74395411, 40.754692, 40.750073, 40.74096374, 40.731, 40.732647, 40.726217999999996, 40.734, 40.74714, 40.76227205, 40.749499, 40.743227000000005, 40.750664, 40.734546, 40.752148999999996, 40.737262, 40.751184, 40.72953837, 40.741459000000006, 40.762699, 40.736999999999995, 40.74854862, 40.743, 40.749, 40.736999999999995, 40.723684000000006, 40.744219, 40.73261787, 40.73827428, 40.764, 40.75527307, 40.752957, 40.746, 40.752643, 40.742684999999994, 40.74317449, 40.750223999999996, 40.75002, 40.758984999999996, 40.735354, 40.732264, 40.73234, 40.752062, 40.755, 40.728419, 40.730563000000004, 40.751999999999995, 40.746201, 40.735367, 40.756951, 40.752269, 40.742752, 40.735238, 40.75645824, 40.743, 40.743116, 40.749, 40.751999999999995, 40.751999999999995, 40.727464000000005, 40.743, 40.743, 40.751999999999995, 40.746, 40.75929124, 40.75640548, 40.74444921, 40.754622999999995, 40.755003, 40.7568001, 40.743534000000004, 40.73401143, 40.751999999999995, 40.732233, 40.764734000000004, 40.736999999999995, 40.72580614, 40.74345335, 40.746, 40.741982, 40.72368361, 40.739445, 40.73624527, 40.731539, 40.74394314, 40.74, 40.72387, 40.732219, 40.725066, 40.73532427, 40.762009, 40.746646999999996, 40.752165000000005, 40.73543934, 40.731, 40.746, 40.741444, 40.75757, 40.749156, 40.73221853, 40.732759, 40.74964, 40.729387, 40.755, 40.74, 40.72779126, 40.73649403, 40.760999999999996, 40.73705, 40.72521311, 40.740983, 40.735918, 40.74734825, 40.732690000000005, 40.74487634, 40.75255434, 40.754145, 40.731, 40.727243, 40.74147, 40.746745000000004, 40.749013, 40.728, 40.75299641, 40.74, 40.749, 40.755, 40.740343200000005, 40.742869, 40.73047309, 40.74692, 40.73781509, 40.760999999999996, 40.758396999999995, 40.738177, 40.751999999999995, 40.73127, 40.740057, 40.75461, 40.743, 40.758, 40.751999999999995], \"yaxis\": \"y\"}, {\"customdata\": [[\"Harlem & Wash. Heights\"], [\"Harlem & Wash. Heights\"], [\"Harlem & Wash. Heights\"], [\"Harlem & Wash. Heights\"], [\"Harlem & Wash. Heights\"], [\"Harlem & Wash. Heights\"], [\"Harlem & Wash. Heights\"], [\"Harlem & Wash. Heights\"], [\"Harlem & Wash. Heights\"], [\"Harlem & Wash. Heights\"], [\"Harlem & Wash. Heights\"], [\"Harlem & Wash. Heights\"], [\"Harlem & Wash. Heights\"], [\"Harlem & Wash. Heights\"], [\"Harlem & Wash. Heights\"], [\"Harlem & Wash. Heights\"], [\"Harlem & Wash. Heights\"], [\"Harlem & Wash. Heights\"], [\"Harlem & Wash. Heights\"], [\"Harlem & Wash. Heights\"], [\"Harlem & Wash. Heights\"], [\"Harlem & Wash. Heights\"], [\"Harlem & Wash. Heights\"], [\"Harlem & Wash. Heights\"], [\"Harlem & Wash. Heights\"], [\"Harlem & Wash. Heights\"], [\"Harlem & Wash. Heights\"], [\"Harlem & Wash. Heights\"], [\"Harlem & Wash. Heights\"], [\"Harlem & Wash. Heights\"], [\"Harlem & Wash. Heights\"], [\"Harlem & Wash. Heights\"], [\"Harlem & Wash. Heights\"], [\"Harlem & Wash. Heights\"], [\"Harlem & Wash. Heights\"], [\"Harlem & Wash. Heights\"], [\"Harlem & Wash. Heights\"], [\"Harlem & Wash. Heights\"], [\"Harlem & Wash. Heights\"], [\"Harlem & Wash. Heights\"], [\"Harlem & Wash. Heights\"], [\"Harlem & Wash. Heights\"], [\"Harlem & Wash. Heights\"], [\"Harlem & Wash. Heights\"], [\"Harlem & Wash. Heights\"], [\"Harlem & Wash. Heights\"], [\"Harlem & Wash. Heights\"], [\"Harlem & Wash. Heights\"], [\"Harlem & Wash. Heights\"], [\"Harlem & Wash. Heights\"], [\"Harlem & Wash. Heights\"], [\"Harlem & Wash. Heights\"], [\"Harlem & Wash. Heights\"], [\"Harlem & Wash. Heights\"], [\"Harlem & Wash. Heights\"], [\"Harlem & Wash. Heights\"], [\"Harlem & Wash. Heights\"], [\"Harlem & Wash. Heights\"], [\"Harlem & Wash. Heights\"], [\"Harlem & Wash. Heights\"], [\"Harlem & Wash. Heights\"], [\"Harlem & Wash. Heights\"], [\"Harlem & Wash. Heights\"], [\"Harlem & Wash. Heights\"], [\"Harlem & Wash. Heights\"], [\"Harlem & Wash. Heights\"], [\"Harlem & Wash. Heights\"]], \"hovertemplate\": \"concat=%{customdata[0]}<br>longitude=%{x}<br>latitude=%{y}<extra></extra>\", \"legendgroup\": \"Harlem & Wash. Heights\", \"marker\": {\"color\": \"#FF6692\", \"symbol\": \"circle\"}, \"mode\": \"markers\", \"name\": \"Harlem & Wash. Heights\", \"showlegend\": true, \"type\": \"scattergl\", \"x\": [-73.918371, -73.93021999999999, -73.920827, -73.926363, -73.933291, -73.929513, -73.921417, -73.912807, -73.92005999999999, -73.93608499999999, -73.941323, -73.93972, -73.942386, -73.94102, -73.926994, -73.927128, -73.936064, -73.939865, -73.931205, -73.939789, -73.933651, -73.94592, -73.922648, -73.942125, -73.9434, -73.939929, -73.942939, -73.919685, -73.938423, -73.92309300000001, -73.91519699999999, -73.93511099999999, -73.933872, -73.917583, -73.937496, -73.911503, -73.94185999999999, -73.922661, -73.93441, -73.937044, -73.938631, -73.920763, -73.925591, -73.918598, -73.927173, -73.928489, -73.939326, -73.931308, -73.932969, -73.935662, -73.91675699999999, -73.937648, -73.941409, -73.927094, -73.941343, -73.937878, -73.937854, -73.94544599999999, -73.92936, -73.931537, -73.93949, -73.93217299999999, -73.936996, -73.91431800000001, -73.92971899999999, -73.940493, -73.936371], \"xaxis\": \"x\", \"y\": [40.873055, 40.84925, 40.863211, 40.867505, 40.847305, 40.854788, 40.861282, 40.872412, 40.862638000000004, 40.838190999999995, 40.830663, 40.840896, 40.832081, 40.832314000000004, 40.863124, 40.85564, 40.848467, 40.834468, 40.847396, 40.83618, 40.844044, 40.83299, 40.866141, 40.8428422, 40.835775, 40.830476000000004, 40.84004, 40.86788, 40.849971999999994, 40.858903999999995, 40.869325, 40.842172999999995, 40.859165999999995, 40.863089, 40.835798, 40.871094, 40.85168, 40.862562, 40.852538, 40.839443, 40.842940999999996, 40.869899, 40.861382, 40.864632, 40.857158, 40.86012, 40.833303, 40.852253000000005, 40.856487, 40.856906, 40.867658, 40.846052, 40.839137, 40.853142, 40.848282, 40.855331, 40.852252, 40.839278, 40.867357, 40.868846000000005, 40.840123999999996, 40.857994, 40.829229999999995, 40.871390000000005, 40.862058000000005, 40.84522, 40.830702], \"yaxis\": \"y\"}, {\"customdata\": [[\"Midtown BK\"], [\"Midtown BK\"], [\"Midtown BK\"], [\"Midtown BK\"], [\"Midtown BK\"], [\"Midtown BK\"], [\"Midtown BK\"], [\"Midtown BK\"], [\"Midtown BK\"], [\"Midtown BK\"], [\"Midtown BK\"], [\"Midtown BK\"], [\"Midtown BK\"], [\"Midtown BK\"], [\"Midtown BK\"], [\"Midtown BK\"], [\"Midtown BK\"], [\"Midtown BK\"], [\"Midtown BK\"], [\"Midtown BK\"], [\"Midtown BK\"], [\"Midtown BK\"], [\"Midtown BK\"], [\"Midtown BK\"], [\"Midtown BK\"], [\"Midtown BK\"], [\"Midtown BK\"], [\"Midtown BK\"], [\"Midtown BK\"], [\"Midtown BK\"], [\"Midtown BK\"], [\"Midtown BK\"], [\"Midtown BK\"], [\"Midtown BK\"], [\"Midtown BK\"], [\"Midtown BK\"], [\"Midtown BK\"], [\"Midtown BK\"], [\"Midtown BK\"], [\"Midtown BK\"], [\"Midtown BK\"], [\"Midtown BK\"], [\"Midtown BK\"], [\"Midtown BK\"], [\"Midtown BK\"], [\"Midtown BK\"], [\"Midtown BK\"], [\"Midtown BK\"], [\"Midtown BK\"], [\"Midtown BK\"], [\"Midtown BK\"], [\"Midtown BK\"], [\"Midtown BK\"], [\"Midtown BK\"], [\"Midtown BK\"], [\"Midtown BK\"], [\"Midtown BK\"], [\"Midtown BK\"], [\"Midtown BK\"], [\"Midtown BK\"], [\"Midtown BK\"], [\"Midtown BK\"], [\"Midtown BK\"], [\"Midtown BK\"], [\"Midtown BK\"], [\"Midtown BK\"], [\"Midtown BK\"], [\"Midtown BK\"], [\"Midtown BK\"], [\"Midtown BK\"], [\"Midtown BK\"], [\"Midtown BK\"], [\"Midtown BK\"], [\"Midtown BK\"], [\"Midtown BK\"], [\"Midtown BK\"], [\"Midtown BK\"], [\"Midtown BK\"], [\"Midtown BK\"], [\"Midtown BK\"], [\"Midtown BK\"], [\"Midtown BK\"], [\"Midtown BK\"], [\"Midtown BK\"], [\"Midtown BK\"], [\"Midtown BK\"], [\"Midtown BK\"], [\"Midtown BK\"], [\"Midtown BK\"], [\"Midtown BK\"], [\"Midtown BK\"], [\"Midtown BK\"], [\"Midtown BK\"], [\"Midtown BK\"], [\"Midtown BK\"], [\"Midtown BK\"], [\"Midtown BK\"], [\"Midtown BK\"], [\"Midtown BK\"], [\"Midtown BK\"], [\"Midtown BK\"], [\"Midtown BK\"], [\"Midtown BK\"], [\"Midtown BK\"], [\"Midtown BK\"], [\"Midtown BK\"], [\"Midtown BK\"], [\"Midtown BK\"], [\"Midtown BK\"], [\"Midtown BK\"], [\"Midtown BK\"], [\"Midtown BK\"], [\"Midtown BK\"], [\"Midtown BK\"], [\"Midtown BK\"], [\"Midtown BK\"], [\"Midtown BK\"], [\"Midtown BK\"], [\"Midtown BK\"], [\"Midtown BK\"], [\"Midtown BK\"], [\"Midtown BK\"], [\"Midtown BK\"], [\"Midtown BK\"], [\"Midtown BK\"], [\"Midtown BK\"], [\"Midtown BK\"], [\"Midtown BK\"], [\"Midtown BK\"], [\"Midtown BK\"], [\"Midtown BK\"], [\"Midtown BK\"], [\"Midtown BK\"], [\"Midtown BK\"], [\"Midtown BK\"], [\"Midtown BK\"], [\"Midtown BK\"], [\"Midtown BK\"], [\"Midtown BK\"], [\"Midtown BK\"], [\"Midtown BK\"], [\"Midtown BK\"], [\"Midtown BK\"], [\"Midtown BK\"], [\"Midtown BK\"], [\"Midtown BK\"], [\"Midtown BK\"], [\"Midtown BK\"], [\"Midtown BK\"], [\"Midtown BK\"], [\"Midtown BK\"], [\"Midtown BK\"], [\"Midtown BK\"], [\"Midtown BK\"], [\"Midtown BK\"], [\"Midtown BK\"], [\"Midtown BK\"], [\"Midtown BK\"], [\"Midtown BK\"], [\"Midtown BK\"], [\"Midtown BK\"], [\"Midtown BK\"], [\"Midtown BK\"], [\"Midtown BK\"], [\"Midtown BK\"], [\"Midtown BK\"], [\"Midtown BK\"], [\"Midtown BK\"], [\"Midtown BK\"], [\"Midtown BK\"], [\"Midtown BK\"], [\"Midtown BK\"]], \"hovertemplate\": \"concat=%{customdata[0]}<br>longitude=%{x}<br>latitude=%{y}<extra></extra>\", \"legendgroup\": \"Midtown BK\", \"marker\": {\"color\": \"#B6E880\", \"symbol\": \"circle\"}, \"mode\": \"markers\", \"name\": \"Midtown BK\", \"showlegend\": true, \"type\": \"scattergl\", \"x\": [-73.965, -73.996123, -73.984326, -73.978728, -73.978951, -73.98154, -73.971, -73.978034, -73.99712, -73.999512, -73.99475799999999, -73.969222, -73.967145, -73.98469, -73.982089, -73.989717, -73.99344, -73.968, -73.999057, -73.960251, -73.971009, -73.994651, -73.953874, -73.972651, -73.963114, -73.987654, -73.977907, -73.99063100000001, -73.984516, -73.988765, -73.992, -73.991218, -73.98759100000001, -74.003485, -73.992, -73.958013, -73.996452, -73.975195, -73.976323, -73.97399999999999, -73.99116, -73.979897, -73.973555, -73.964679, -73.96910600000001, -73.971296, -73.987167, -73.992, -73.97839599999999, -73.96055600000001, -73.980689, -73.98281999999999, -73.973242, -73.994403, -73.95693399999999, -73.993641, -73.97399999999999, -73.95881, -73.989494, -73.98765762, -73.989402, -73.962, -73.983042, -73.973729, -74.002423, -73.973638, -73.99595, -73.9588, -73.983, -73.971114, -73.976682, -73.955416, -73.98684200000001, -73.983, -73.957468, -73.983262, -73.959, -73.981998, -73.979826, -73.96536800000001, -73.9614583, -73.96056949999999, -73.956911, -73.95674100000001, -73.97988000000001, -73.98, -73.985416, -73.971, -73.9865, -73.95649399999999, -73.991277, -73.968, -73.955768, -73.982578, -73.98899999999999, -73.989016, -74.001, -73.962, -73.993836, -73.999172, -73.983624, -73.974841, -73.986, -73.986207, -73.984275, -73.99158100000001, -73.977, -73.953, -73.986726, -73.975673, -73.971789, -73.979827, -73.961814, -73.979677, -73.962408, -73.981013, -73.99785200000001, -73.992, -73.97087900000001, -73.979889, -73.99599, -73.959281, -73.968896, -73.991833, -73.979382, -73.976376, -73.99318199999999, -73.98258555, -73.96304, -73.956, -73.96751, -73.95768000000001, -73.990372, -73.98352299999999, -73.984764, -73.959608, -73.98899999999999, -73.969689, -73.999904, -73.978549, -73.983776, -73.96599499999999, -73.955637, -73.95399, -73.98983, -73.981483, -73.991454, -73.969868, -73.97877, -73.9609, -73.95291800000001, -73.95879000000001, -73.999978, -73.970775, -73.957461, -73.995209, -73.95643107, -73.965633, -73.978468, -73.985649, -73.990148, -73.99548, -73.987752, -73.968, -73.99079, -73.990539, -73.96885400000001, -73.973736, -73.993833, -73.95943199999999, -73.964762, -73.97493100000001], \"xaxis\": \"x\", \"y\": [40.677, 40.690893, 40.6802133, 40.674089, 40.683125, 40.679279, 40.701, 40.69608941, 40.69878, 40.689395000000005, 40.680611, 40.68415748, 40.674012299999994, 40.702969, 40.670484, 40.699918, 40.695357, 40.68, 40.6809591, 40.66408, 40.68097410000001, 40.69401, 40.663062, 40.68753406, 40.6716493, 40.679097999999996, 40.685068, 40.686744299999994, 40.689, 40.670514000000004, 40.698, 40.696233, 40.686444200000004, 40.683046000000004, 40.690238, 40.694546, 40.686176, 40.679331, 40.68382604, 40.686, 40.688489000000004, 40.682564, 40.69580705, 40.680484, 40.673134000000005, 40.695734, 40.695065, 40.69239502, 40.670384000000006, 40.666439000000004, 40.698399, 40.6772744, 40.677615, 40.6849894, 40.665816, 40.677729, 40.675146999999996, 40.684568299999995, 40.692417999999996, 40.70281858, 40.702551, 40.695, 40.689622, 40.6917823, 40.68593, 40.668132, 40.69512845, 40.6679411, 40.692215999999995, 40.675021, 40.686919, 40.6691783, 40.702461, 40.686, 40.664241, 40.676757, 40.68900443, 40.666208000000005, 40.672784, 40.69196035, 40.68223166, 40.663140000000006, 40.662706, 40.666563000000004, 40.668663, 40.692, 40.670492200000005, 40.705312, 40.677027, 40.674181, 40.685424, 40.707645, 40.680341999999996, 40.70224, 40.695, 40.684355, 40.689, 40.674, 40.702771999999996, 40.684751399999996, 40.694749, 40.671198, 40.692362, 40.684967, 40.683426000000004, 40.7003, 40.69327018, 40.674, 40.701403000000006, 40.680945, 40.693083, 40.699569, 40.6686744, 40.68683208, 40.678045000000004, 40.689888, 40.683116399999996, 40.695, 40.672968, 40.681778, 40.678724200000005, 40.686768, 40.693261, 40.692, 40.68841, 40.665147, 40.6829151, 40.6827549, 40.68488, 40.677, 40.69610226, 40.671, 40.678612, 40.672816, 40.698, 40.676520000000004, 40.68926942, 40.687645, 40.6828003, 40.68, 40.668127, 40.683239, 40.677592, 40.682165999999995, 40.672603, 40.6751622, 40.700469, 40.698, 40.69178, 40.672168299999996, 40.676368, 40.67919439999999, 40.691652000000005, 40.69795, 40.690647999999996, 40.688153, 40.6906495, 40.686501, 40.6765304, 40.673746, 40.695977, 40.700379, 40.675071, 40.677, 40.68199, 40.69383, 40.68940747, 40.698, 40.686371, 40.68186, 40.68851534, 40.68981035], \"yaxis\": \"y\"}, {\"customdata\": [[\"Downtown BK\"], [\"Downtown BK\"], [\"Downtown BK\"], [\"Downtown BK\"], [\"Downtown BK\"], [\"Downtown BK\"], [\"Downtown BK\"], [\"Downtown BK\"], [\"Downtown BK\"], [\"Downtown BK\"], [\"Downtown BK\"], [\"Downtown BK\"], [\"Downtown BK\"], [\"Downtown BK\"], [\"Downtown BK\"], [\"Downtown BK\"], [\"Downtown BK\"], [\"Downtown BK\"], [\"Downtown BK\"], [\"Downtown BK\"], [\"Downtown BK\"], [\"Downtown BK\"], [\"Downtown BK\"], [\"Downtown BK\"], [\"Downtown BK\"], [\"Downtown BK\"], [\"Downtown BK\"], [\"Downtown BK\"], [\"Downtown BK\"], [\"Downtown BK\"], [\"Downtown BK\"], [\"Downtown BK\"], [\"Downtown BK\"], [\"Downtown BK\"], [\"Downtown BK\"], [\"Downtown BK\"], [\"Downtown BK\"], [\"Downtown BK\"], [\"Downtown BK\"], [\"Downtown BK\"], [\"Downtown BK\"], [\"Downtown BK\"], [\"Downtown BK\"], [\"Downtown BK\"], [\"Downtown BK\"], [\"Downtown BK\"], [\"Downtown BK\"], [\"Downtown BK\"], [\"Downtown BK\"], [\"Downtown BK\"], [\"Downtown BK\"], [\"Downtown BK\"], [\"Downtown BK\"], [\"Downtown BK\"], [\"Downtown BK\"], [\"Downtown BK\"], [\"Downtown BK\"], [\"Downtown BK\"], [\"Downtown BK\"], [\"Downtown BK\"], [\"Downtown BK\"], [\"Downtown BK\"], [\"Downtown BK\"], [\"Downtown BK\"], [\"Downtown BK\"], [\"Downtown BK\"], [\"Downtown BK\"], [\"Downtown BK\"], [\"Downtown BK\"], [\"Downtown BK\"], [\"Downtown BK\"], [\"Downtown BK\"], [\"Downtown BK\"], [\"Downtown BK\"], [\"Downtown BK\"], [\"Downtown BK\"], [\"Downtown BK\"], [\"Downtown BK\"], [\"Downtown BK\"], [\"Downtown BK\"], [\"Downtown BK\"], [\"Downtown BK\"], [\"Downtown BK\"], [\"Downtown BK\"], [\"Downtown BK\"], [\"Downtown BK\"], [\"Downtown BK\"], [\"Downtown BK\"], [\"Downtown BK\"], [\"Downtown BK\"], [\"Downtown BK\"], [\"Downtown BK\"], [\"Downtown BK\"], [\"Downtown BK\"], [\"Downtown BK\"], [\"Downtown BK\"], [\"Downtown BK\"], [\"Downtown BK\"], [\"Downtown BK\"], [\"Downtown BK\"], [\"Downtown BK\"], [\"Downtown BK\"], [\"Downtown BK\"], [\"Downtown BK\"], [\"Downtown BK\"], [\"Downtown BK\"], [\"Downtown BK\"], [\"Downtown BK\"], [\"Downtown BK\"], [\"Downtown BK\"], [\"Downtown BK\"], [\"Downtown BK\"], [\"Downtown BK\"], [\"Downtown BK\"], [\"Downtown BK\"], [\"Downtown BK\"]], \"hovertemplate\": \"concat=%{customdata[0]}<br>longitude=%{x}<br>latitude=%{y}<extra></extra>\", \"legendgroup\": \"Downtown BK\", \"marker\": {\"color\": \"#FF97FF\", \"symbol\": \"circle\"}, \"mode\": \"markers\", \"name\": \"Downtown BK\", \"showlegend\": true, \"type\": \"scattergl\", \"x\": [-74.01782, -73.993612, -74.023087, -74.015665, -74.016562, -73.985461, -74.01099599999999, -73.98013900000001, -74.006664, -73.979239, -74.00755699999999, -74.011884, -73.979681, -74.00785, -74.013821, -73.979342, -74.020005, -74.000057, -74.02324, -74.00879499999999, -73.995549, -74.005144, -73.973217, -74.003249, -73.984276, -73.998623, -73.98895, -73.99246600000001, -74.014531, -74.014372, -73.973663, -73.981073, -74.002356, -73.983864, -74.013318, -74.021506, -73.97743299999999, -74.010069, -73.977335, -74.01686600000001, -73.977739, -74.001328, -74.00890600000001, -73.972432, -73.998698, -73.995554, -73.979452, -73.976291, -74.00944100000001, -74.004483, -73.993037, -74.02564, -73.990974, -74.011169, -74.006584, -73.983968, -74.020105, -73.997857, -74.001131, -74.008957, -73.97673, -74.000911, -74.010627, -74.015606, -73.987, -74.01275, -74.009271, -73.97416899999999, -74.005708, -74.022141, -74.00014499999999, -74.020005, -74.00716800000001, -73.991007, -73.972573, -74.015726, -73.995068, -74.017651, -74.003101, -73.972212, -74.008702, -74.016755, -74.024714, -73.993332, -74.00962700000001, -74.00194599999999, -74.001141, -74.012384, -74.018846, -74.013587, -73.98960500000001, -73.998633, -74.00421999999999, -73.98123100000001, -73.98854, -74.009461, -73.998194, -74.00647099999999, -74.003754, -74.01140500000001, -73.974165, -73.97058, -74.014726, -73.965248, -73.98899999999999, -73.97750400000001, -73.983074, -73.96782900000001, -74.00494599999999, -74.00860899999999, -73.980963, -74.011955, -74.009486, -73.986418, -73.985543, -73.99331394], \"xaxis\": \"x\", \"y\": [40.63766, 40.671907, 40.646377, 40.677236, 40.633385, 40.666318100000005, 40.640831, 40.659490999999996, 40.655716, 40.642809, 40.674706, 40.643371, 40.645074, 40.679433, 40.638196, 40.648005, 40.635678999999996, 40.648169, 40.639978, 40.672672, 40.666168, 40.649983, 40.65482, 40.6763744, 40.644366999999995, 40.662611, 40.666287, 40.666197, 40.644861999999996, 40.654798, 40.647718, 40.642031, 40.652657, 40.656633, 40.642408, 40.644512, 40.643817, 40.6753274, 40.656290000000006, 40.642621999999996, 40.650739, 40.671409000000004, 40.652512, 40.648055, 40.676395, 40.662584, 40.662, 40.653368, 40.642703000000004, 40.647104999999996, 40.665507, 40.640493, 40.66016, 40.679043, 40.659176, 40.663779, 40.649291999999996, 40.674696000000004, 40.654098, 40.639672999999995, 40.649037, 40.647379, 40.6554, 40.650176, 40.6686273, 40.677343, 40.646351, 40.645282, 40.645921, 40.637033, 40.6783563, 40.635678999999996, 40.651354, 40.663493, 40.652563, 40.640125, 40.659555, 40.641269, 40.655278, 40.651565999999995, 40.657089, 40.687065999999994, 40.638246, 40.668546, 40.656326, 40.67434, 40.657742999999996, 40.649143, 40.64744, 40.652502, 40.658029, 40.660078999999996, 40.654144, 40.651654, 40.659053, 40.677775, 40.656985999999996, 40.6769993, 40.644743, 40.651173, 40.657265, 40.648481, 40.675833000000004, 40.651847, 40.668603000000004, 40.659945, 40.660906, 40.649681, 40.672506, 40.681212, 40.646037, 40.673636, 40.649145000000004, 40.643546, 40.658489, 40.6724811], \"yaxis\": \"y\"}, {\"customdata\": [[\"Uptown BK\"], [\"Uptown BK\"], [\"Uptown BK\"], [\"Uptown BK\"], [\"Uptown BK\"], [\"Uptown BK\"], [\"Uptown BK\"], [\"Uptown BK\"], [\"Uptown BK\"], [\"Uptown BK\"], [\"Uptown BK\"], [\"Uptown BK\"], [\"Uptown BK\"], [\"Uptown BK\"], [\"Uptown BK\"], [\"Uptown BK\"], [\"Uptown BK\"], [\"Uptown BK\"], [\"Uptown BK\"], [\"Uptown BK\"], [\"Uptown BK\"], [\"Uptown BK\"], [\"Uptown BK\"], [\"Uptown BK\"], [\"Uptown BK\"], [\"Uptown BK\"], [\"Uptown BK\"], [\"Uptown BK\"], [\"Uptown BK\"], [\"Uptown BK\"], [\"Uptown BK\"], [\"Uptown BK\"], [\"Uptown BK\"], [\"Uptown BK\"], [\"Uptown BK\"], [\"Uptown BK\"], [\"Uptown BK\"], [\"Uptown BK\"], [\"Uptown BK\"], [\"Uptown BK\"], [\"Uptown BK\"], [\"Uptown BK\"], [\"Uptown BK\"], [\"Uptown BK\"], [\"Uptown BK\"], [\"Uptown BK\"], [\"Uptown BK\"], [\"Uptown BK\"], [\"Uptown BK\"], [\"Uptown BK\"], [\"Uptown BK\"], [\"Uptown BK\"], [\"Uptown BK\"], [\"Uptown BK\"], [\"Uptown BK\"], [\"Uptown BK\"], [\"Uptown BK\"], [\"Uptown BK\"], [\"Uptown BK\"], [\"Uptown BK\"], [\"Uptown BK\"], [\"Uptown BK\"], [\"Uptown BK\"], [\"Uptown BK\"], [\"Uptown BK\"], [\"Uptown BK\"], [\"Uptown BK\"], [\"Uptown BK\"], [\"Uptown BK\"], [\"Uptown BK\"], [\"Uptown BK\"], [\"Uptown BK\"], [\"Uptown BK\"], [\"Uptown BK\"], [\"Uptown BK\"], [\"Uptown BK\"], [\"Uptown BK\"], [\"Uptown BK\"], [\"Uptown BK\"], [\"Uptown BK\"], [\"Uptown BK\"], [\"Uptown BK\"], [\"Uptown BK\"], [\"Uptown BK\"], [\"Uptown BK\"], [\"Uptown BK\"], [\"Uptown BK\"], [\"Uptown BK\"], [\"Uptown BK\"], [\"Uptown BK\"], [\"Uptown BK\"], [\"Uptown BK\"], [\"Uptown BK\"], [\"Uptown BK\"], [\"Uptown BK\"], [\"Uptown BK\"], [\"Uptown BK\"], [\"Uptown BK\"], [\"Uptown BK\"], [\"Uptown BK\"], [\"Uptown BK\"], [\"Uptown BK\"], [\"Uptown BK\"], [\"Uptown BK\"], [\"Uptown BK\"], [\"Uptown BK\"], [\"Uptown BK\"], [\"Uptown BK\"], [\"Uptown BK\"], [\"Uptown BK\"], [\"Uptown BK\"], [\"Uptown BK\"], [\"Uptown BK\"], [\"Uptown BK\"], [\"Uptown BK\"], [\"Uptown BK\"], [\"Uptown BK\"], [\"Uptown BK\"], [\"Uptown BK\"], [\"Uptown BK\"], [\"Uptown BK\"], [\"Uptown BK\"], [\"Uptown BK\"], [\"Uptown BK\"], [\"Uptown BK\"], [\"Uptown BK\"], [\"Uptown BK\"], [\"Uptown BK\"], [\"Uptown BK\"], [\"Uptown BK\"], [\"Uptown BK\"], [\"Uptown BK\"], [\"Uptown BK\"], [\"Uptown BK\"], [\"Uptown BK\"], [\"Uptown BK\"], [\"Uptown BK\"], [\"Uptown BK\"], [\"Uptown BK\"], [\"Uptown BK\"], [\"Uptown BK\"], [\"Uptown BK\"], [\"Uptown BK\"], [\"Uptown BK\"], [\"Uptown BK\"], [\"Uptown BK\"], [\"Uptown BK\"], [\"Uptown BK\"], [\"Uptown BK\"], [\"Uptown BK\"], [\"Uptown BK\"], [\"Uptown BK\"], [\"Uptown BK\"], [\"Uptown BK\"], [\"Uptown BK\"], [\"Uptown BK\"], [\"Uptown BK\"], [\"Uptown BK\"], [\"Uptown BK\"], [\"Uptown BK\"], [\"Uptown BK\"], [\"Uptown BK\"], [\"Uptown BK\"], [\"Uptown BK\"], [\"Uptown BK\"], [\"Uptown BK\"], [\"Uptown BK\"], [\"Uptown BK\"], [\"Uptown BK\"], [\"Uptown BK\"], [\"Uptown BK\"], [\"Uptown BK\"], [\"Uptown BK\"], [\"Uptown BK\"], [\"Uptown BK\"], [\"Uptown BK\"], [\"Uptown BK\"], [\"Uptown BK\"], [\"Uptown BK\"], [\"Uptown BK\"], [\"Uptown BK\"], [\"Uptown BK\"], [\"Uptown BK\"]], \"hovertemplate\": \"concat=%{customdata[0]}<br>longitude=%{x}<br>latitude=%{y}<extra></extra>\", \"legendgroup\": \"Uptown BK\", \"marker\": {\"color\": \"#FECB52\", \"symbol\": \"circle\"}, \"mode\": \"markers\", \"name\": \"Uptown BK\", \"showlegend\": true, \"type\": \"scattergl\", \"x\": [-73.92586999999999, -73.92851, -73.950047, -73.955085, -73.935877, -73.92754000000001, -73.94910300000001, -73.92302, -73.91566, -73.947084, -73.941427, -73.92095, -73.92524, -73.952381, -73.944024, -73.933871, -73.95600096, -73.92825, -73.955201, -73.952991, -73.90505999999999, -73.90904, -73.947, -73.91966, -73.91320999999999, -73.944, -73.92146, -73.91945, -73.93856, -73.958525, -73.9488, -73.92304399999999, -73.92851999999999, -73.91605, -73.90756, -73.95, -73.90623000000001, -73.935, -73.941342, -73.953, -73.947, -73.95739, -73.92156999999999, -73.944859, -73.938475, -73.9179, -73.944, -73.952123, -73.960876, -73.954847, -73.90824, -73.962, -73.937569, -73.91564, -73.944, -73.91181, -73.948853, -73.959, -73.929891, -73.952343, -73.940636, -73.93323000000001, -73.95621, -73.953, -73.95, -73.93889, -73.91164, -73.946445, -73.9127, -73.94308000000001, -73.918877, -73.944, -73.9333, -73.923, -73.934903, -73.917, -73.908762, -73.93098, -73.946269, -73.94977, -73.9351, -73.926241, -73.9196, -73.953819, -73.942236, -73.95796700000001, -73.938037, -73.93641, -73.947059, -73.96525, -73.92153, -73.94173, -73.95779, -73.956981, -73.94051, -73.93894, -73.93223, -73.935775, -73.91693000000001, -73.91516, -73.960241, -73.93948, -73.93098, -73.95866, -73.92617, -73.95241999999999, -73.95921899999999, -73.90974, -73.94882, -73.944694, -73.90474, -73.955736, -73.90785600000001, -73.950322, -73.923769, -73.95608, -73.962, -73.93921, -73.91116, -73.95161, -73.965, -73.951413, -73.91226999999999, -73.94767900000001, -73.947, -73.92834, -73.90448, -73.9168, -73.90925, -73.919911, -73.92806999999999, -73.93734, -73.941, -73.95394, -73.92976, -73.95826, -73.95204, -73.953, -73.932, -73.90951, -73.95850899999999, -73.94407199999999, -73.94373, -73.949765, -73.911666, -73.954435, -73.937054, -73.945003, -73.950916, -73.939877, -73.95202900000001, -73.94791500000001, -73.93039, -73.92535, -73.91458, -73.942061, -73.92997, -73.94844, -73.94111, -73.94008000000001, -73.93581, -73.964089, -73.950415, -73.95414, -73.92836, -73.93372, -73.923511, -73.90798000000001, -73.961239, -73.94371, -73.90663, -73.96165, -73.948185, -73.93936, -73.91422, -73.960631, -73.944862, -73.940161, -73.90369, -73.93515, -73.94546, -73.949843, -73.949549], \"xaxis\": \"x\", \"y\": [40.708690000000004, 40.707, 40.680983000000005, 40.732321999999996, 40.697480999999996, 40.70166, 40.713352, 40.69676, 40.697140000000005, 40.69957608, 40.678907, 40.7027, 40.69356, 40.69527008, 40.711863, 40.707, 40.71774592, 40.69502, 40.719, 40.728, 40.68906, 40.69811, 40.731, 40.68822, 40.68652, 40.725570000000005, 40.69146, 40.70636, 40.715353, 40.71901, 40.717662, 40.699304, 40.693290000000005, 40.69296, 40.68139, 40.692, 40.682809999999996, 40.716657, 40.698617, 40.736999999999995, 40.71638, 40.714690000000004, 40.71, 40.7169811, 40.680011, 40.70108, 40.716, 40.723116999999995, 40.710451, 40.722, 40.693000000000005, 40.716887, 40.69682, 40.686, 40.683, 40.69055, 40.719156, 40.731814, 40.679427000000004, 40.71413311, 40.7031724, 40.714290000000005, 40.72606, 40.731, 40.71, 40.72226, 40.69545, 40.707, 40.698, 40.72325, 40.698568, 40.692, 40.702831, 40.707, 40.681459999999994, 40.704, 40.701572999999996, 40.69757, 40.69425403, 40.684020000000004, 40.704508000000004, 40.697842, 40.69543, 40.69331716, 40.719079, 40.70708701, 40.682601, 40.700759999999995, 40.710369, 40.710446000000005, 40.705614000000004, 40.725770000000004, 40.72906, 40.71286844, 40.717729999999996, 40.713229999999996, 40.695440000000005, 40.686312, 40.69122, 40.69905, 40.71534825, 40.71882, 40.69757, 40.735640000000004, 40.692, 40.71924, 40.722482, 40.69385, 40.71764, 40.686203000000006, 40.67945, 40.724055, 40.709697, 40.70029511, 40.702013, 40.709340000000005, 40.713, 40.700990000000004, 40.70998, 40.73124, 40.713, 40.711674, 40.68858, 40.680356, 40.725, 40.700003, 40.69081, 40.68663, 40.68458, 40.704876, 40.696709999999996, 40.710190000000004, 40.712477, 40.730259999999994, 40.70539, 40.732659999999996, 40.733959999999996, 40.686, 40.70106, 40.68929, 40.717452, 40.70510918, 40.701665999999996, 40.705381, 40.6832, 40.706842, 40.692371, 40.71929301, 40.688334000000005, 40.693398200000004, 40.7160751, 40.690082000000004, 40.70112, 40.70538, 40.689890000000005, 40.6894932, 40.702996999999996, 40.72084, 40.6851532, 40.709897, 40.707174, 40.708531, 40.72179134, 40.72795, 40.704425, 40.710681, 40.69047, 40.6882, 40.731735, 40.69622937, 40.69467, 40.720368, 40.704118, 40.705517, 40.70113, 40.71, 40.708704, 40.707678, 40.6786, 40.713811, 40.721579999999996, 40.725, 40.69539817], \"yaxis\": \"y\"}],                        {\"height\": 800, \"legend\": {\"title\": {\"text\": \"concat\"}, \"tracegroupgap\": 0}, \"margin\": {\"t\": 60}, \"template\": {\"data\": {\"bar\": [{\"error_x\": {\"color\": \"#2a3f5f\"}, \"error_y\": {\"color\": \"#2a3f5f\"}, \"marker\": {\"line\": {\"color\": \"#E5ECF6\", \"width\": 0.5}}, \"type\": \"bar\"}], \"barpolar\": [{\"marker\": {\"line\": {\"color\": \"#E5ECF6\", \"width\": 0.5}}, \"type\": \"barpolar\"}], \"carpet\": [{\"aaxis\": {\"endlinecolor\": \"#2a3f5f\", \"gridcolor\": \"white\", \"linecolor\": \"white\", \"minorgridcolor\": \"white\", \"startlinecolor\": \"#2a3f5f\"}, \"baxis\": {\"endlinecolor\": \"#2a3f5f\", \"gridcolor\": \"white\", \"linecolor\": \"white\", \"minorgridcolor\": \"white\", \"startlinecolor\": \"#2a3f5f\"}, \"type\": \"carpet\"}], \"choropleth\": [{\"colorbar\": {\"outlinewidth\": 0, \"ticks\": \"\"}, \"type\": \"choropleth\"}], \"contour\": [{\"colorbar\": {\"outlinewidth\": 0, \"ticks\": \"\"}, \"colorscale\": [[0.0, \"#0d0887\"], [0.1111111111111111, \"#46039f\"], [0.2222222222222222, \"#7201a8\"], [0.3333333333333333, \"#9c179e\"], [0.4444444444444444, \"#bd3786\"], [0.5555555555555556, \"#d8576b\"], [0.6666666666666666, \"#ed7953\"], [0.7777777777777778, \"#fb9f3a\"], [0.8888888888888888, \"#fdca26\"], [1.0, \"#f0f921\"]], \"type\": \"contour\"}], \"contourcarpet\": [{\"colorbar\": {\"outlinewidth\": 0, \"ticks\": \"\"}, \"type\": \"contourcarpet\"}], \"heatmap\": [{\"colorbar\": {\"outlinewidth\": 0, \"ticks\": \"\"}, \"colorscale\": [[0.0, \"#0d0887\"], [0.1111111111111111, \"#46039f\"], [0.2222222222222222, \"#7201a8\"], [0.3333333333333333, \"#9c179e\"], [0.4444444444444444, \"#bd3786\"], [0.5555555555555556, \"#d8576b\"], [0.6666666666666666, \"#ed7953\"], [0.7777777777777778, \"#fb9f3a\"], [0.8888888888888888, \"#fdca26\"], [1.0, \"#f0f921\"]], \"type\": \"heatmap\"}], \"heatmapgl\": [{\"colorbar\": {\"outlinewidth\": 0, \"ticks\": \"\"}, \"colorscale\": [[0.0, \"#0d0887\"], [0.1111111111111111, \"#46039f\"], [0.2222222222222222, \"#7201a8\"], [0.3333333333333333, \"#9c179e\"], [0.4444444444444444, \"#bd3786\"], [0.5555555555555556, \"#d8576b\"], [0.6666666666666666, \"#ed7953\"], [0.7777777777777778, \"#fb9f3a\"], [0.8888888888888888, \"#fdca26\"], [1.0, \"#f0f921\"]], \"type\": \"heatmapgl\"}], \"histogram\": [{\"marker\": {\"colorbar\": {\"outlinewidth\": 0, \"ticks\": \"\"}}, \"type\": \"histogram\"}], \"histogram2d\": [{\"colorbar\": {\"outlinewidth\": 0, \"ticks\": \"\"}, \"colorscale\": [[0.0, \"#0d0887\"], [0.1111111111111111, \"#46039f\"], [0.2222222222222222, \"#7201a8\"], [0.3333333333333333, \"#9c179e\"], [0.4444444444444444, \"#bd3786\"], [0.5555555555555556, \"#d8576b\"], [0.6666666666666666, \"#ed7953\"], [0.7777777777777778, \"#fb9f3a\"], [0.8888888888888888, \"#fdca26\"], [1.0, \"#f0f921\"]], \"type\": \"histogram2d\"}], \"histogram2dcontour\": [{\"colorbar\": {\"outlinewidth\": 0, \"ticks\": \"\"}, \"colorscale\": [[0.0, \"#0d0887\"], [0.1111111111111111, \"#46039f\"], [0.2222222222222222, \"#7201a8\"], [0.3333333333333333, \"#9c179e\"], [0.4444444444444444, \"#bd3786\"], [0.5555555555555556, \"#d8576b\"], [0.6666666666666666, \"#ed7953\"], [0.7777777777777778, \"#fb9f3a\"], [0.8888888888888888, \"#fdca26\"], [1.0, \"#f0f921\"]], \"type\": \"histogram2dcontour\"}], \"mesh3d\": [{\"colorbar\": {\"outlinewidth\": 0, \"ticks\": \"\"}, \"type\": \"mesh3d\"}], \"parcoords\": [{\"line\": {\"colorbar\": {\"outlinewidth\": 0, \"ticks\": \"\"}}, \"type\": \"parcoords\"}], \"pie\": [{\"automargin\": true, \"type\": \"pie\"}], \"scatter\": [{\"marker\": {\"colorbar\": {\"outlinewidth\": 0, \"ticks\": \"\"}}, \"type\": \"scatter\"}], \"scatter3d\": [{\"line\": {\"colorbar\": {\"outlinewidth\": 0, \"ticks\": \"\"}}, \"marker\": {\"colorbar\": {\"outlinewidth\": 0, \"ticks\": \"\"}}, \"type\": \"scatter3d\"}], \"scattercarpet\": [{\"marker\": {\"colorbar\": {\"outlinewidth\": 0, \"ticks\": \"\"}}, \"type\": \"scattercarpet\"}], \"scattergeo\": [{\"marker\": {\"colorbar\": {\"outlinewidth\": 0, \"ticks\": \"\"}}, \"type\": \"scattergeo\"}], \"scattergl\": [{\"marker\": {\"colorbar\": {\"outlinewidth\": 0, \"ticks\": \"\"}}, \"type\": \"scattergl\"}], \"scattermapbox\": [{\"marker\": {\"colorbar\": {\"outlinewidth\": 0, \"ticks\": \"\"}}, \"type\": \"scattermapbox\"}], \"scatterpolar\": [{\"marker\": {\"colorbar\": {\"outlinewidth\": 0, \"ticks\": \"\"}}, \"type\": \"scatterpolar\"}], \"scatterpolargl\": [{\"marker\": {\"colorbar\": {\"outlinewidth\": 0, \"ticks\": \"\"}}, \"type\": \"scatterpolargl\"}], \"scatterternary\": [{\"marker\": {\"colorbar\": {\"outlinewidth\": 0, \"ticks\": \"\"}}, \"type\": \"scatterternary\"}], \"surface\": [{\"colorbar\": {\"outlinewidth\": 0, \"ticks\": \"\"}, \"colorscale\": [[0.0, \"#0d0887\"], [0.1111111111111111, \"#46039f\"], [0.2222222222222222, \"#7201a8\"], [0.3333333333333333, \"#9c179e\"], [0.4444444444444444, \"#bd3786\"], [0.5555555555555556, \"#d8576b\"], [0.6666666666666666, \"#ed7953\"], [0.7777777777777778, \"#fb9f3a\"], [0.8888888888888888, \"#fdca26\"], [1.0, \"#f0f921\"]], \"type\": \"surface\"}], \"table\": [{\"cells\": {\"fill\": {\"color\": \"#EBF0F8\"}, \"line\": {\"color\": \"white\"}}, \"header\": {\"fill\": {\"color\": \"#C8D4E3\"}, \"line\": {\"color\": \"white\"}}, \"type\": \"table\"}]}, \"layout\": {\"annotationdefaults\": {\"arrowcolor\": \"#2a3f5f\", \"arrowhead\": 0, \"arrowwidth\": 1}, \"autotypenumbers\": \"strict\", \"coloraxis\": {\"colorbar\": {\"outlinewidth\": 0, \"ticks\": \"\"}}, \"colorscale\": {\"diverging\": [[0, \"#8e0152\"], [0.1, \"#c51b7d\"], [0.2, \"#de77ae\"], [0.3, \"#f1b6da\"], [0.4, \"#fde0ef\"], [0.5, \"#f7f7f7\"], [0.6, \"#e6f5d0\"], [0.7, \"#b8e186\"], [0.8, \"#7fbc41\"], [0.9, \"#4d9221\"], [1, \"#276419\"]], \"sequential\": [[0.0, \"#0d0887\"], [0.1111111111111111, \"#46039f\"], [0.2222222222222222, \"#7201a8\"], [0.3333333333333333, \"#9c179e\"], [0.4444444444444444, \"#bd3786\"], [0.5555555555555556, \"#d8576b\"], [0.6666666666666666, \"#ed7953\"], [0.7777777777777778, \"#fb9f3a\"], [0.8888888888888888, \"#fdca26\"], [1.0, \"#f0f921\"]], \"sequentialminus\": [[0.0, \"#0d0887\"], [0.1111111111111111, \"#46039f\"], [0.2222222222222222, \"#7201a8\"], [0.3333333333333333, \"#9c179e\"], [0.4444444444444444, \"#bd3786\"], [0.5555555555555556, \"#d8576b\"], [0.6666666666666666, \"#ed7953\"], [0.7777777777777778, \"#fb9f3a\"], [0.8888888888888888, \"#fdca26\"], [1.0, \"#f0f921\"]]}, \"colorway\": [\"#636efa\", \"#EF553B\", \"#00cc96\", \"#ab63fa\", \"#FFA15A\", \"#19d3f3\", \"#FF6692\", \"#B6E880\", \"#FF97FF\", \"#FECB52\"], \"font\": {\"color\": \"#2a3f5f\"}, \"geo\": {\"bgcolor\": \"white\", \"lakecolor\": \"white\", \"landcolor\": \"#E5ECF6\", \"showlakes\": true, \"showland\": true, \"subunitcolor\": \"white\"}, \"hoverlabel\": {\"align\": \"left\"}, \"hovermode\": \"closest\", \"mapbox\": {\"style\": \"light\"}, \"paper_bgcolor\": \"white\", \"plot_bgcolor\": \"#E5ECF6\", \"polar\": {\"angularaxis\": {\"gridcolor\": \"white\", \"linecolor\": \"white\", \"ticks\": \"\"}, \"bgcolor\": \"#E5ECF6\", \"radialaxis\": {\"gridcolor\": \"white\", \"linecolor\": \"white\", \"ticks\": \"\"}}, \"scene\": {\"xaxis\": {\"backgroundcolor\": \"#E5ECF6\", \"gridcolor\": \"white\", \"gridwidth\": 2, \"linecolor\": \"white\", \"showbackground\": true, \"ticks\": \"\", \"zerolinecolor\": \"white\"}, \"yaxis\": {\"backgroundcolor\": \"#E5ECF6\", \"gridcolor\": \"white\", \"gridwidth\": 2, \"linecolor\": \"white\", \"showbackground\": true, \"ticks\": \"\", \"zerolinecolor\": \"white\"}, \"zaxis\": {\"backgroundcolor\": \"#E5ECF6\", \"gridcolor\": \"white\", \"gridwidth\": 2, \"linecolor\": \"white\", \"showbackground\": true, \"ticks\": \"\", \"zerolinecolor\": \"white\"}}, \"shapedefaults\": {\"line\": {\"color\": \"#2a3f5f\"}}, \"ternary\": {\"aaxis\": {\"gridcolor\": \"white\", \"linecolor\": \"white\", \"ticks\": \"\"}, \"baxis\": {\"gridcolor\": \"white\", \"linecolor\": \"white\", \"ticks\": \"\"}, \"bgcolor\": \"#E5ECF6\", \"caxis\": {\"gridcolor\": \"white\", \"linecolor\": \"white\", \"ticks\": \"\"}}, \"title\": {\"x\": 0.05}, \"xaxis\": {\"automargin\": true, \"gridcolor\": \"white\", \"linecolor\": \"white\", \"ticks\": \"\", \"title\": {\"standoff\": 15}, \"zerolinecolor\": \"white\", \"zerolinewidth\": 2}, \"yaxis\": {\"automargin\": true, \"gridcolor\": \"white\", \"linecolor\": \"white\", \"ticks\": \"\", \"title\": {\"standoff\": 15}, \"zerolinecolor\": \"white\", \"zerolinewidth\": 2}}}, \"xaxis\": {\"anchor\": \"y\", \"domain\": [0.0, 1.0], \"title\": {\"text\": \"longitude\"}}, \"yaxis\": {\"anchor\": \"x\", \"domain\": [0.0, 1.0], \"title\": {\"text\": \"latitude\"}}},                        {\"responsive\": true}                    ).then(function(){\n",
       "                            \n",
       "var gd = document.getElementById('ce213bb1-5ba0-4aa5-9577-c579c2d46deb');\n",
       "var x = new MutationObserver(function (mutations, observer) {{\n",
       "        var display = window.getComputedStyle(gd).display;\n",
       "        if (!display || display === 'none') {{\n",
       "            console.log([gd, 'removed!']);\n",
       "            Plotly.purge(gd);\n",
       "            observer.disconnect();\n",
       "        }}\n",
       "}});\n",
       "\n",
       "// Listen for the removal of the full notebook cells\n",
       "var notebookContainer = gd.closest('#notebook-container');\n",
       "if (notebookContainer) {{\n",
       "    x.observe(notebookContainer, {childList: true});\n",
       "}}\n",
       "\n",
       "// Listen for the clearing of the current output cell\n",
       "var outputEl = gd.closest('.output');\n",
       "if (outputEl) {{\n",
       "    x.observe(outputEl, {childList: true});\n",
       "}}\n",
       "\n",
       "                        })                };                });            </script>        </div>"
      ]
     },
     "metadata": {},
     "output_type": "display_data"
    }
   ],
   "source": [
    "fig.show()"
   ]
  },
  {
   "cell_type": "code",
   "execution_count": 83,
   "id": "86bbdba4",
   "metadata": {},
   "outputs": [
    {
     "data": {
      "text/plain": [
       "_c0                 1527\n",
       "Borough             1527\n",
       "startStationName    1527\n",
       "latitude            1527\n",
       "longitude           1527\n",
       "prediction          1527\n",
       "concat              1527\n",
       "dtype: int64"
      ]
     },
     "execution_count": 83,
     "metadata": {},
     "output_type": "execute_result"
    }
   ],
   "source": [
    "df_p.count()"
   ]
  },
  {
   "cell_type": "code",
   "execution_count": 84,
   "id": "a1ec0d49",
   "metadata": {},
   "outputs": [],
   "source": [
    "df_p.to_csv('station_df2.csv', index = False)"
   ]
  },
  {
   "cell_type": "code",
   "execution_count": 85,
   "id": "235d37e9",
   "metadata": {},
   "outputs": [
    {
     "data": {
      "text/html": [
       "<div>\n",
       "<style scoped>\n",
       "    .dataframe tbody tr th:only-of-type {\n",
       "        vertical-align: middle;\n",
       "    }\n",
       "\n",
       "    .dataframe tbody tr th {\n",
       "        vertical-align: top;\n",
       "    }\n",
       "\n",
       "    .dataframe thead th {\n",
       "        text-align: right;\n",
       "    }\n",
       "</style>\n",
       "<table border=\"1\" class=\"dataframe\">\n",
       "  <thead>\n",
       "    <tr style=\"text-align: right;\">\n",
       "      <th></th>\n",
       "      <th>_c0</th>\n",
       "      <th>Borough</th>\n",
       "      <th>startStationName</th>\n",
       "      <th>latitude</th>\n",
       "      <th>longitude</th>\n",
       "      <th>prediction</th>\n",
       "    </tr>\n",
       "    <tr>\n",
       "      <th>concat</th>\n",
       "      <th></th>\n",
       "      <th></th>\n",
       "      <th></th>\n",
       "      <th></th>\n",
       "      <th></th>\n",
       "      <th></th>\n",
       "    </tr>\n",
       "  </thead>\n",
       "  <tbody>\n",
       "    <tr>\n",
       "      <th>Bronx</th>\n",
       "      <td>226</td>\n",
       "      <td>226</td>\n",
       "      <td>226</td>\n",
       "      <td>226</td>\n",
       "      <td>226</td>\n",
       "      <td>226</td>\n",
       "    </tr>\n",
       "    <tr>\n",
       "      <th>Central Park East/West</th>\n",
       "      <td>137</td>\n",
       "      <td>137</td>\n",
       "      <td>137</td>\n",
       "      <td>137</td>\n",
       "      <td>137</td>\n",
       "      <td>137</td>\n",
       "    </tr>\n",
       "    <tr>\n",
       "      <th>Downtown BK</th>\n",
       "      <td>116</td>\n",
       "      <td>116</td>\n",
       "      <td>116</td>\n",
       "      <td>116</td>\n",
       "      <td>116</td>\n",
       "      <td>116</td>\n",
       "    </tr>\n",
       "    <tr>\n",
       "      <th>Downtown Manhattan</th>\n",
       "      <td>138</td>\n",
       "      <td>138</td>\n",
       "      <td>138</td>\n",
       "      <td>138</td>\n",
       "      <td>138</td>\n",
       "      <td>138</td>\n",
       "    </tr>\n",
       "    <tr>\n",
       "      <th>Harlem &amp; Wash. Heights</th>\n",
       "      <td>67</td>\n",
       "      <td>67</td>\n",
       "      <td>67</td>\n",
       "      <td>67</td>\n",
       "      <td>67</td>\n",
       "      <td>67</td>\n",
       "    </tr>\n",
       "    <tr>\n",
       "      <th>Midtown BK</th>\n",
       "      <td>172</td>\n",
       "      <td>172</td>\n",
       "      <td>172</td>\n",
       "      <td>172</td>\n",
       "      <td>172</td>\n",
       "      <td>172</td>\n",
       "    </tr>\n",
       "    <tr>\n",
       "      <th>Midtown Manhattan</th>\n",
       "      <td>171</td>\n",
       "      <td>171</td>\n",
       "      <td>171</td>\n",
       "      <td>171</td>\n",
       "      <td>171</td>\n",
       "      <td>171</td>\n",
       "    </tr>\n",
       "    <tr>\n",
       "      <th>Queens</th>\n",
       "      <td>179</td>\n",
       "      <td>179</td>\n",
       "      <td>179</td>\n",
       "      <td>179</td>\n",
       "      <td>179</td>\n",
       "      <td>179</td>\n",
       "    </tr>\n",
       "    <tr>\n",
       "      <th>Uptown BK</th>\n",
       "      <td>183</td>\n",
       "      <td>183</td>\n",
       "      <td>183</td>\n",
       "      <td>183</td>\n",
       "      <td>183</td>\n",
       "      <td>183</td>\n",
       "    </tr>\n",
       "    <tr>\n",
       "      <th>Uptown Manhattan</th>\n",
       "      <td>138</td>\n",
       "      <td>138</td>\n",
       "      <td>138</td>\n",
       "      <td>138</td>\n",
       "      <td>138</td>\n",
       "      <td>138</td>\n",
       "    </tr>\n",
       "  </tbody>\n",
       "</table>\n",
       "</div>"
      ],
      "text/plain": [
       "                        _c0  Borough  startStationName  latitude  longitude  \\\n",
       "concat                                                                        \n",
       "Bronx                   226      226               226       226        226   \n",
       "Central Park East/West  137      137               137       137        137   \n",
       "Downtown BK             116      116               116       116        116   \n",
       "Downtown Manhattan      138      138               138       138        138   \n",
       "Harlem & Wash. Heights   67       67                67        67         67   \n",
       "Midtown BK              172      172               172       172        172   \n",
       "Midtown Manhattan       171      171               171       171        171   \n",
       "Queens                  179      179               179       179        179   \n",
       "Uptown BK               183      183               183       183        183   \n",
       "Uptown Manhattan        138      138               138       138        138   \n",
       "\n",
       "                        prediction  \n",
       "concat                              \n",
       "Bronx                          226  \n",
       "Central Park East/West         137  \n",
       "Downtown BK                    116  \n",
       "Downtown Manhattan             138  \n",
       "Harlem & Wash. Heights          67  \n",
       "Midtown BK                     172  \n",
       "Midtown Manhattan              171  \n",
       "Queens                         179  \n",
       "Uptown BK                      183  \n",
       "Uptown Manhattan               138  "
      ]
     },
     "execution_count": 85,
     "metadata": {},
     "output_type": "execute_result"
    }
   ],
   "source": [
    "df_p.groupby('concat').count()"
   ]
  },
  {
   "cell_type": "code",
   "execution_count": null,
   "id": "ff15d6dd",
   "metadata": {},
   "outputs": [],
   "source": []
  }
 ],
 "metadata": {
  "kernelspec": {
   "display_name": "Python 3",
   "language": "python",
   "name": "python3"
  },
  "language_info": {
   "codemirror_mode": {
    "name": "ipython",
    "version": 3
   },
   "file_extension": ".py",
   "mimetype": "text/x-python",
   "name": "python",
   "nbconvert_exporter": "python",
   "pygments_lexer": "ipython3",
   "version": "3.8.8"
  }
 },
 "nbformat": 4,
 "nbformat_minor": 5
}
